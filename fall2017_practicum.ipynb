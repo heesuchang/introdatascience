{
 "cells": [
  {
   "cell_type": "markdown",
   "metadata": {},
   "source": [
    "# CSCI 3022: Intro to Data Science - Fall 2017 Practicum \n",
    "***\n",
    "\n",
    "\n",
    "This practicum is due on Moodle by **11:59pm on Wednesday December 13th**. Your solutions to theoretical questions should be done in Markdown/MathJax directly below the associated question.  Your solutions to computational questions should include any specified Python code and results as well as written commentary on your conclusions.  \n",
    "\n",
    "**Here are the rules:** \n",
    "\n",
    "1. All work, code and analysis, must be your own. \n",
    "1. You may use your course notes, posted lecture slides, in-class notebooks, and homework solutions as resources.  You may also search online for answers to general knowledge questions like the form of a probability distribution function or how to perform a particular operation in Python/Pandas. \n",
    "2. You may **NOT** post to message boards or other online resources asking for help. \n",
    "3. You may **NOT** collaborate with classmates or anyone else.  \n",
    "\n",
    "Violation of the above rules will result in an **F** in the course and a trip to Honor Council. \n",
    "\n",
    "***\n",
    "\n",
    "**By writing your name below you agree to abide by the rules given above:**\n",
    "\n",
    "**Name**: Hee Su Chang\n",
    "\n",
    "**Section**: 001\n",
    "***\n",
    "\n",
    "\n",
    "**NOTES**: \n",
    "\n",
    "- You may not use late days on the practicum nor can you drop your practicum grade. \n",
    "- If you have a question for Chris and Dan, post it as a **PRIVATE** message on Piazza.  If we decide that the question is appropriate for the entire class we will make the post public (and anonymous). \n",
    "- Do **NOT** load or use any Python packages that are not available in Anaconda 3.6. \n",
    "- Some problems with code may be autograded.  If we provide a function API **do not** change it.  If we do not provide a function API then you're free to structure your code however you like. \n",
    "- Submit only this Jupyter notebook to Moodle.  Do not compress it using tar, rar, zip, etc. "
   ]
  },
  {
   "cell_type": "code",
   "execution_count": 1,
   "metadata": {
    "collapsed": true,
    "scrolled": true
   },
   "outputs": [],
   "source": [
    "import pandas as pd\n",
    "import numpy as np\n",
    "from scipy import stats \n",
    "import statsmodels.api as sm \n",
    "import matplotlib.pylab as plt\n",
    "%matplotlib inline"
   ]
  },
  {
   "cell_type": "markdown",
   "metadata": {},
   "source": [
    "### [40 points] Problem 1: Parking Problems \n",
    "***\n",
    "\n",
    "Imagine that there are 50 parking spots on a street. A store is located at position 0, and each parking space along the street is numbered according to its distance from the store, so that the space right in front of the store is spot 0, the next is spot 1, and so on up until the end of the block, which is spot 49.\n",
    "\n",
    "**Prof. Ketelsen is direct and systematic**. He enters the street and drives all the way to the store, which takes him 90 seconds. Then, he drives incrementally away from the store, taking 2 seconds for each parking spot that he checks. He parks in the first empty spot (after he checks it) and then walks to the store from there, covering ground at a rate of 5 seconds per parking spot. If Chris parks in spot 0, he doesn’t need to walk at all, but he’d still have to check to see if the spot was taken. If he makes it to the end of the road with not a single parking spot to be found, he parks in his secret spot, which is always free, but far away, which takes him an additional 5 minutes beyond the time he already spent using his parking strategy.\n",
    "\n",
    "**Prof. Larremore is strategic and prone to overthinking**. He enters the street at the end, position 49, and starts driving toward the store, but checks each spot that he passes, taking 2 second to check each. But, in an attempt to be clever, he doesn’t park in the first spot he sees, because what if there’s a closer spot? Instead, he passes n empty spots and then parks in the next empty spot he sees (after he checks it). From where he parks on the street, he walks to the store at a speed of 5 seconds per parking spot. Just like Chris, if Dan parks in spot 0, he doesn’t need to walk at all, but he’d still have to check to see if the spot was taken. If he gets all the way to the store without parking, he parks in his own secret spot, which is always free, but not really close, which takes him an additional 3 minutes beyond the time he already spent using his parking strategy."
   ]
  },
  {
   "cell_type": "markdown",
   "metadata": {},
   "source": [
    "**Part A**: Write a function **chris_park_time**$(\\hspace{.5mm}p)$ that performs a single trial and returns the total time, in seconds, for Chris to get to the store, given the probability that each spot is occupied by a car already, $p$. In addition to showing your code, you should also describe and implement a simple test to convince yourself (and us) that your code is working correctly. "
   ]
  },
  {
   "cell_type": "code",
   "execution_count": 44,
   "metadata": {},
   "outputs": [
    {
     "name": "stdout",
     "output_type": "stream",
     "text": [
      "Probability = 0: 92\n",
      "Probability = 0.5: 113\n",
      "Probability = 1: 490\n"
     ]
    }
   ],
   "source": [
    "def chris_park_time(p):\n",
    "    time = 90\n",
    "    parked = False\n",
    "    spot = 0\n",
    "    while parked == False and spot < 50:\n",
    "        time = time + 2\n",
    "        probs = [p, 1-p]\n",
    "        empty = np.random.choice([0,1], p=probs)\n",
    "        if empty == 0: #spot isn't empty\n",
    "            spot = spot + 1\n",
    "        else:\n",
    "            parked = True\n",
    "    if spot == 50:\n",
    "        time = time + 5 * 60\n",
    "    else:\n",
    "        time = time + 5 * spot\n",
    "    return time\n",
    "print(\"Probability = 0:\",chris_park_time(0))\n",
    "print(\"Probability = 0.5:\",chris_park_time(0.5))\n",
    "print(\"Probability = 1:\",chris_park_time(1))"
   ]
  },
  {
   "cell_type": "markdown",
   "metadata": {},
   "source": [
    "We can check the minimum and maximum values and also in between to make sure."
   ]
  },
  {
   "cell_type": "markdown",
   "metadata": {},
   "source": [
    "**Part B**: Write a function **dan_park_time**$(\\hspace{.5mm}p, n)$ that performs a single trial and returns the total time, in seconds, for dan to get to the store, where $n$ is the number of empty spots he passes before taking the next available spot. In addition to showing your code, you should also describe and implement a simple test to convince yourself (and us) that your code is working correctly. "
   ]
  },
  {
   "cell_type": "code",
   "execution_count": 49,
   "metadata": {},
   "outputs": [
    {
     "name": "stdout",
     "output_type": "stream",
     "text": [
      "Probability = 0, n=0: 247\n",
      "Probability = 0.5, n=4: 217\n",
      "Probability = 1:, n=0 280\n"
     ]
    }
   ],
   "source": [
    "def dan_park_time(p, n):\n",
    "    time = 0\n",
    "    parked = False\n",
    "    passed = 0\n",
    "    spot = 49\n",
    "    while parked == False and spot >= 0:\n",
    "        time = time + 2\n",
    "        probs = [p, 1-p]\n",
    "        empty = np.random.choice([0,1], p=probs)\n",
    "        if empty == 0: #spot isn't empty\n",
    "            spot = spot - 1\n",
    "        elif passed < n:\n",
    "            passed = passed + 1\n",
    "            spot = spot - 1\n",
    "        else:\n",
    "            parked = True\n",
    "    if spot == -1:\n",
    "        time = time + 3 * 60\n",
    "    else:\n",
    "        time = time + 5 * spot\n",
    "    return time\n",
    "print(\"Probability = 0, n=0:\",dan_park_time(0, 0))\n",
    "print(\"Probability = 0.5, n=4:\",dan_park_time(0.5, 4))\n",
    "print(\"Probability = 1:, n=0\",dan_park_time(1, 0))"
   ]
  },
  {
   "cell_type": "markdown",
   "metadata": {},
   "source": [
    "We can make sure that we reach the maximum value when we should and don't when we give reasonable paramters."
   ]
  },
  {
   "cell_type": "markdown",
   "metadata": {},
   "source": [
    "**Part C**: Run simulations to evaluate their parking strategies on a sleepy Tuesday morning when the probability of a parking space being occupied is $p=0.6$.  Perform $1000$ trials each for Chris's strategy and Dan's strategy with parameters $n=1,2,$ and $3$. Plot 4 histograms, one on top of the other, for the resulting parking times with bin boundaries at $[0, 10, 20, \\ldots, 300]$.  Be sure to label all axes and provide meaningful titles for each histogram.  Based on your histograms, which of the four strategies appears to be the best? "
   ]
  },
  {
   "cell_type": "code",
   "execution_count": 4,
   "metadata": {},
   "outputs": [
    {
     "data": {
      "image/png": "[encoded data removed]",
      "text/plain": [
       "<matplotlib.figure.Figure at 0x7f1c9f169748>"
      ]
     },
     "metadata": {},
     "output_type": "display_data"
    },
    {
     "data": {
      "image/png": "[encoded data removed]",
      "text/plain": [
       "<matplotlib.figure.Figure at 0x7f1caddaaef0>"
      ]
     },
     "metadata": {},
     "output_type": "display_data"
    },
    {
     "data": {
      "image/png": "[encoded data removed]",
      "text/plain": [
       "<matplotlib.figure.Figure at 0x7f1c9eeaad30>"
      ]
     },
     "metadata": {},
     "output_type": "display_data"
    },
    {
     "data": {
      "image/png": "[encoded data removed]",
      "text/plain": [
       "<matplotlib.figure.Figure at 0x7f1c9e106978>"
      ]
     },
     "metadata": {},
     "output_type": "display_data"
    }
   ],
   "source": [
    "def four_simulations(p, n):\n",
    "    c = []\n",
    "    d1 = []\n",
    "    d2 = []\n",
    "    d3 = []\n",
    "    for i in range(n):\n",
    "        c.append(chris_park_time(p))\n",
    "        d1.append(dan_park_time(p, 1))\n",
    "        d2.append(dan_park_time(p, 2))\n",
    "        d3.append(dan_park_time(p, 3))\n",
    "\n",
    "    plt.hist(c, [i*10 for i in range(31)], color = 'b')\n",
    "    plt.title(\"Parking Times for Chris' Strategy\")\n",
    "    plt.xlabel(\"Time (s)\")\n",
    "    plt.ylabel(\"Frequency\")\n",
    "    plt.show()\n",
    "    plt.hist(d1, [i*10 for i in range(31)], color = 'b')\n",
    "    plt.title(\"Parking Times for Dan's Strategy, n = 1\")\n",
    "    plt.xlabel(\"Time (s)\")\n",
    "    plt.ylabel(\"Frequency\")\n",
    "    plt.show()\n",
    "    plt.hist(d2, [i*10 for i in range(31)], color = 'b')\n",
    "    plt.title(\"Parking Times for Dan's Strategy, n = 2\")\n",
    "    plt.xlabel(\"Time (s)\")\n",
    "    plt.ylabel(\"Frequency\")\n",
    "    plt.show()\n",
    "    plt.hist(d3, [i*10 for i in range(31)], color = 'b')\n",
    "    plt.title(\"Parking Times for Dan's Strategy, n = 3\")\n",
    "    plt.xlabel(\"Time (s)\")\n",
    "    plt.ylabel(\"Frequency\")\n",
    "    plt.show()\n",
    "four_simulations(0.6, 1000)"
   ]
  },
  {
   "cell_type": "markdown",
   "metadata": {},
   "source": [
    "Chris' strategy appears to be the best by a long shot."
   ]
  },
  {
   "cell_type": "markdown",
   "metadata": {},
   "source": [
    "**Part D**: Run simulations with at least $1000$ trials and plot estimates of the expected parking time on a single graph for Chris's strategy and Dan's strategy with parameters $p=0.6$ and $n=0, 1, \\ldots, 25$. Report the optimal parameter $n$ for Dan's strategy and use your plot to decide whose strategy is better. "
   ]
  },
  {
   "cell_type": "code",
   "execution_count": 5,
   "metadata": {},
   "outputs": [
    {
     "data": {
      "image/png": "[encoded data removed]",
      "text/plain": [
       "<matplotlib.figure.Figure at 0x7f1c9f176eb8>"
      ]
     },
     "metadata": {},
     "output_type": "display_data"
    }
   ],
   "source": [
    "def single_graph(p, n):\n",
    "    estimates = []\n",
    "    labels = [\"C\"]\n",
    "    sum = 0\n",
    "    for i in range(n):\n",
    "        sum = sum + chris_park_time(p)\n",
    "    estimates.append(sum/n)\n",
    "    for i in range(26):\n",
    "        labels.append(i)\n",
    "        sum = 0\n",
    "        for j in range(n):\n",
    "            sum = sum + dan_park_time(p, i)\n",
    "        estimates.append(sum/n)\n",
    "    plt.ylim(0, 300)\n",
    "    plt.xticks(range(27), labels)\n",
    "    plt.plot(estimates,linestyle=\"\",marker=\"o\")\n",
    "    plt.title(\"Simulated Strategy vs. Parking Time\")\n",
    "    plt.xlabel(\"Strategy\")\n",
    "    plt.ylabel(\"Parking Time (s)\")\n",
    "    plt.show()\n",
    "single_graph(0.6, 1000)"
   ]
  },
  {
   "cell_type": "markdown",
   "metadata": {},
   "source": [
    "Chris' strategy is still superior. For Dan, the most ideal parameter n for this probability p would be n=14."
   ]
  },
  {
   "cell_type": "markdown",
   "metadata": {},
   "source": [
    "**Part E**: Repeat **Part C** for a busier shopping time when the probability of any space being occupied is $p = 0.95$."
   ]
  },
  {
   "cell_type": "code",
   "execution_count": 6,
   "metadata": {},
   "outputs": [
    {
     "data": {
      "image/png": "[encoded data removed]",
      "text/plain": [
       "<matplotlib.figure.Figure at 0x7f1c9f17a940>"
      ]
     },
     "metadata": {},
     "output_type": "display_data"
    },
    {
     "data": {
      "image/png": "[encoded data removed]",
      "text/plain": [
       "<matplotlib.figure.Figure at 0x7f1cdaf45748>"
      ]
     },
     "metadata": {},
     "output_type": "display_data"
    },
    {
     "data": {
      "image/png": "[encoded data removed]",
      "text/plain": [
       "<matplotlib.figure.Figure at 0x7f1c9e0c3588>"
      ]
     },
     "metadata": {},
     "output_type": "display_data"
    },
    {
     "data": {
      "image/png": "[encoded data removed]",
      "text/plain": [
       "<matplotlib.figure.Figure at 0x7f1c9eee1630>"
      ]
     },
     "metadata": {},
     "output_type": "display_data"
    }
   ],
   "source": [
    "four_simulations(0.95, 1000)"
   ]
  },
  {
   "cell_type": "markdown",
   "metadata": {},
   "source": [
    "**Part F**: Repeat **Part D** for a busier shopping time when the probability of any space being occupied is $p = 0.95$."
   ]
  },
  {
   "cell_type": "code",
   "execution_count": 7,
   "metadata": {
    "scrolled": true
   },
   "outputs": [
    {
     "data": {
      "image/png": "[encoded data removed]",
      "text/plain": [
       "<matplotlib.figure.Figure at 0x7f1c9f17ae10>"
      ]
     },
     "metadata": {},
     "output_type": "display_data"
    }
   ],
   "source": [
    "single_graph(0.95, 1000)"
   ]
  },
  {
   "cell_type": "markdown",
   "metadata": {},
   "source": [
    "**Part G**: Analytically determine a formula for Chris's expected parking time as a function of the parameter $p$.  Verify that your exact result agrees well with your simulated results from **Parts D** and **F**."
   ]
  },
  {
   "cell_type": "markdown",
   "metadata": {
    "collapsed": true
   },
   "source": [
    "$90 + \\sum_{i=0}^{49} \\{p^{i}(1-p)\\times (2(i+1)+5i)\\} + p^{50}\\times(100+300)$"
   ]
  },
  {
   "cell_type": "code",
   "execution_count": 50,
   "metadata": {},
   "outputs": [
    {
     "name": "stdout",
     "output_type": "stream",
     "text": [
      "p=0: 92\n",
      "p=0.6: 102.50000000030309\n",
      "p=0.95: 218.45967710147926\n",
      "p=:1 490\n"
     ]
    }
   ],
   "source": [
    "def c_formula(p):\n",
    "    time = 90\n",
    "    for i in range(50):\n",
    "        time = time + (p**i)*(1-p)*(2*(i+1)+5*i) \n",
    "    time = time + (p**50)*(100+300)\n",
    "    return time\n",
    "print(\"p=0:\",c_formula(0))\n",
    "print(\"p=0.6:\",c_formula(0.6))\n",
    "print(\"p=0.95:\",c_formula(0.95))\n",
    "print(\"p=:1\",c_formula(1))"
   ]
  },
  {
   "cell_type": "markdown",
   "metadata": {},
   "source": [
    "**Part H**: Analytically determine a formula for Dan's expected parking time as a function of parameters $p$ and $n$.  Verify that your exact result agrees well with your simulated results from **Parts D** and **F**."
   ]
  },
  {
   "cell_type": "markdown",
   "metadata": {
    "collapsed": true
   },
   "source": [
    "$\\sum_{i=n}^{49}\\{{i \\choose n}p^{i-n}(1-p)^{n}\\times (2(i+1)+5(49-i))\\} + (1-\\sum_{i=n}^{49}\\{{i \\choose n}p^{i-n}(1-p)^{n}\\})\\times(100+180)$"
   ]
  },
  {
   "cell_type": "code",
   "execution_count": 9,
   "metadata": {},
   "outputs": [
    {
     "data": {
      "image/png": "[encoded data removed]",
      "text/plain": [
       "<matplotlib.figure.Figure at 0x7f1c9e0d82b0>"
      ]
     },
     "metadata": {},
     "output_type": "display_data"
    },
    {
     "data": {
      "image/png": "[encoded data removed]",
      "text/plain": [
       "<matplotlib.figure.Figure at 0x7f1c9e0f4ac8>"
      ]
     },
     "metadata": {},
     "output_type": "display_data"
    }
   ],
   "source": [
    "def factorial(n):\n",
    "    product = 1\n",
    "    if n == 0:\n",
    "        return 1\n",
    "    else:\n",
    "        for i in range(n):\n",
    "            product = product * (i+1)\n",
    "        return product\n",
    "\n",
    "def d_formula(p, n):\n",
    "    time = 0\n",
    "    prob = 0\n",
    "    for i in range(n,50):\n",
    "        prob = prob + (factorial(i)/factorial(n)/factorial(i-n))*(p**(i-n))*((1-p)**(n+1))\n",
    "        time = time + (factorial(i)/factorial(n)/factorial(i-n))*(p**(i-n))*((1-p)**(n+1))*(2*(i+1)+5*(49-i))\n",
    "    time = time + (1-prob)*(100+180)\n",
    "    return time\n",
    "plt.ylim(0, 300)\n",
    "plt.xticks(range(26), [i for i in range(26)])\n",
    "plt.plot([d_formula(0.6, y) for y in range(26)],linestyle=\"\",marker=\"o\")\n",
    "plt.title(\"Calculated Dan's Strategy vs. Parking Time, p=0.6\")\n",
    "plt.xlabel(\"Strategy\")\n",
    "plt.ylabel(\"Parking Time (s)\")\n",
    "plt.show()\n",
    "\n",
    "plt.ylim(0, 300)\n",
    "plt.xticks(range(26), [i for i in range(26)])\n",
    "plt.plot([d_formula(0.95, y) for y in range(26)],linestyle=\"\",marker=\"o\")\n",
    "plt.title(\"Calculated Dan's Strategy vs. Parking Time, p=0.95\")\n",
    "plt.xlabel(\"Strategy\")\n",
    "plt.ylabel(\"Parking Time (s)\")\n",
    "plt.show()"
   ]
  },
  {
   "cell_type": "markdown",
   "metadata": {},
   "source": [
    "We can see that my analytically computed formula matches up well with the graph from our simulations."
   ]
  },
  {
   "cell_type": "markdown",
   "metadata": {},
   "source": [
    "**Part I**: Use the formulas you found in **Parts G** and **H** to make an argument about whose strategy is better — and, if the answer is it depends, explain which values of $p$ and/or $n$ allow Chris to get to the store faster than Dan. Provide any graphical summaries necessary to justify your conclusion. \n",
    "\n",
    "**Note**: While we hope that you come up with correct analytic formulas in **Parts G** and **H**, you may feel free to use the code written above to do this analysis using simulation estimates. "
   ]
  },
  {
   "cell_type": "markdown",
   "metadata": {
    "collapsed": true
   },
   "source": [
    "If the parking lot is very busy (something like p=0.95), you will be better following Dan's strategy with n=1 and n=2.\n",
    "If it's not (something like p=0.6 or less), you will be better following Chris' strategy."
   ]
  },
  {
   "cell_type": "markdown",
   "metadata": {},
   "source": [
    "### [30 points] Problem 2: Gender Balance in Movements Between Academic Disciplines\n",
    "***\n",
    "\n",
    "Every year, the online academic resume service, ORCID, dumps the data from all of the professors who have their privacy settings set to “public” so that the research community can learn about the makeup of the academic workforce. In this real-data problem, we’re going to study the flows of professors between different academic fields to learn about gender differences. We’ll use a pre-processed dataset used by actual researchers studying gender imbalance across fields.\n",
    "\n",
    "First, some information about the data. For each of the 1.6 million professors in the public ORCID data dump, the researchers determined (a) what field they are currently in, (b) what field they did their PhD in, and (c) their gender. Here, because the goal of the study was originally to learn about disparities between men and women, gender was coded by the researchers as male or female, as indicated by the professors. Those who chose not to mark their gender as public were not included in the processed dataset.\n",
    "\n",
    "The researchers have provided CSCI 3022 with two files: **totals.csv** and **switch_edgelist.csv**. The first file enumerates the total numbers of men and women in each of $30$ different fields. The second file enumerates the total numbers of men and women who switched from one field to another field during their career.\n",
    "\n",
    "The null hypothesis about the data is that the gender balance of people leaving field $X$ is the same as the gender balance in field $X$. For example, if Anthropology is $50\\%$ women and $50\\%$ men, we expect people who have moved from Anthropology to another field to reflect this $50/50$ balance. On the other hand, if Physics is only $15\\%$ women and $85\\%$ men, we expect people who have moved from Physics to another field to reflect a $15/85$ balance.\n",
    "\n",
    "In symbolic form, we might write this as follows. Let the proportion of professors in field i who are women be given by $p_i$, and let the proportion of women who move from field i to some other field be given by $q_i$. Then the expected result is that $p_i$ = $q_i$. The researchers are interested to know if there is statistical evidence that $p_i \\neq q_i$ for any of the fields $i$."
   ]
  },
  {
   "cell_type": "markdown",
   "metadata": {},
   "source": [
    "**Part A**: Wrangle those data files. Then, make a plot of $p_i$ for all $i = 1, 2, \\ldots, 30$ fields using a green color, and on the same axes, plot $q_i$ using a blue color."
   ]
  },
  {
   "cell_type": "code",
   "execution_count": 34,
   "metadata": {},
   "outputs": [
    {
     "data": {
      "image/png": "[encoded data removed]",
      "text/plain": [
       "<matplotlib.figure.Figure at 0x7f1c9dd5b198>"
      ]
     },
     "metadata": {},
     "output_type": "display_data"
    }
   ],
   "source": [
    "dfTotals = pd.read_csv(\"https://raw.githubusercontent.com/chrisketelsen/csci3022/master/practicum/data/totals.csv\")\n",
    "dfSwitch = pd.read_csv(\"https://raw.githubusercontent.com/chrisketelsen/csci3022/master/practicum/data/switch_edgelist.csv\")\n",
    "dfTotMale = dfTotals.loc[dfTotals[\"gend_cat\"] == \"male\"]\n",
    "dfTotFemale = dfTotals.loc[dfTotals[\"gend_cat\"] == \"female\"]\n",
    "dfSwiMale = dfSwitch.loc[dfSwitch[\"gend_cat\"] == \"male\"]\n",
    "dfSwiFemale = dfSwitch.loc[dfSwitch[\"gend_cat\"] == \"female\"]\n",
    "p = []\n",
    "q = []\n",
    "for index, row in dfTotFemale.iterrows():\n",
    "    maleTotN = int((dfTotMale.loc[dfTotMale[\"field\"]==row[\"field\"]])[\"N\"])\n",
    "    femaleTotN = int(row[\"N\"])\n",
    "    p.append(femaleTotN/(maleTotN+femaleTotN))\n",
    "for index, row in dfTotFemale.iterrows():   \n",
    "    maleSwiN = int(np.sum((dfSwiMale.loc[dfSwiMale[\"from\"]==row[\"field\"]])[\"N\"]))\n",
    "    femaleSwiN = int(np.sum((dfSwiFemale.loc[dfSwiFemale[\"from\"]==row[\"field\"]])[\"N\"]))\n",
    "    q.append(femaleSwiN/(maleSwiN+femaleSwiN))\n",
    "plt.plot(p, color=\"green\")\n",
    "plt.plot(q, color=\"blue\")\n",
    "plt.show()"
   ]
  },
  {
   "cell_type": "markdown",
   "metadata": {},
   "source": [
    "**Part B**: At the $\\alpha = 0.05$ significance level, use the method of your choice to determine whether there is sufficient evidence that $p_i \\neq q_i$. Be sure to explain why you are justified in using the method that you used, and report the numbers that helped you make your decision for each of the fields. Please use only methods we have discussed in class. Then, replicate your plot from **Part A** and add a red symbol to those fields, if any, where $p_i$ and $q_i$ are statistically different at the given significance level. Comment on any significant findings.  "
   ]
  },
  {
   "cell_type": "code",
   "execution_count": 35,
   "metadata": {},
   "outputs": [
    {
     "name": "stdout",
     "output_type": "stream",
     "text": [
      "[2, 4, 6, 7, 9, 12]\n",
      "['mathematics', 'education', 'psychology', 'communications', 'political science', 'economics']\n"
     ]
    },
    {
     "data": {
      "image/png": "[encoded data removed]",
      "text/plain": [
       "<matplotlib.figure.Figure at 0x7f1c9dda9e48>"
      ]
     },
     "metadata": {},
     "output_type": "display_data"
    }
   ],
   "source": [
    "def p_not_q(alpha=0.05):\n",
    "    flagged_indexes = []\n",
    "    clt = True\n",
    "    for index, row in dfTotFemale.iterrows():\n",
    "        maleTotN = int((dfTotMale.loc[dfTotMale[\"field\"]==row[\"field\"]])[\"N\"])\n",
    "        femaleTotN = int(row[\"N\"])\n",
    "        if(maleTotN + femaleTotN < 30):\n",
    "            clt = False\n",
    "    for index, row in dfTotFemale.iterrows():   \n",
    "        maleSwiN = int(np.sum((dfSwiMale.loc[dfSwiMale[\"from\"]==row[\"field\"]])[\"N\"]))\n",
    "        femaleSwiN = int(np.sum((dfSwiFemale.loc[dfSwiFemale[\"from\"]==row[\"field\"]])[\"N\"]))\n",
    "        if(maleSwiN + femaleTotN < 30):\n",
    "            clt = False\n",
    "    if(clt == True):\n",
    "        ind = 0\n",
    "        fields = []\n",
    "        for index, row in dfTotFemale.iterrows():\n",
    "            maleTotN = int((dfTotMale.loc[dfTotMale[\"field\"]==row[\"field\"]])[\"N\"])\n",
    "            femaleTotN = int(row[\"N\"])\n",
    "            m = maleTotN + femaleTotN\n",
    "            p1 = femaleTotN/m\n",
    "            maleSwiN = int(np.sum((dfSwiMale.loc[dfSwiMale[\"from\"]==row[\"field\"]])[\"N\"]))\n",
    "            femaleSwiN = int(np.sum((dfSwiFemale.loc[dfSwiFemale[\"from\"]==row[\"field\"]])[\"N\"]))\n",
    "            n = maleSwiN + femaleSwiN\n",
    "            p2 = femaleSwiN/n\n",
    "            z = stats.norm.ppf(1-alpha/2)\n",
    "            meandiff = p1 - p2\n",
    "            se = np.sqrt(p1*(1-p1)/m + p2*(1-p2)/n)\n",
    "            CI = [meandiff-z*se, meandiff+z*se]\n",
    "            if(CI[0]*CI[1] > 0):\n",
    "                fields.append(row[\"field\"])\n",
    "                flagged_indexes.append(ind)\n",
    "            ind = ind + 1\n",
    "    print(flagged_indexes)\n",
    "    print(fields)\n",
    "    plt.plot(p, color=\"green\")\n",
    "    plt.plot(q, color=\"blue\")\n",
    "    plt.scatter(flagged_indexes,[0.15 for i in flagged_indexes], color=\"red\")\n",
    "    plt.show()\n",
    "p_not_q(0.05)"
   ]
  },
  {
   "cell_type": "markdown",
   "metadata": {},
   "source": [
    "The only times p_i and q_i were statistically different were toward the beginning of the dataset. I also thought there would be some form of disparity in STEM fields but that was not the case."
   ]
  },
  {
   "cell_type": "markdown",
   "metadata": {},
   "source": [
    "**Part C**: Repeat the procedure from **Part B** at the $\\alpha = 0.01$ level. "
   ]
  },
  {
   "cell_type": "code",
   "execution_count": 12,
   "metadata": {},
   "outputs": [
    {
     "name": "stdout",
     "output_type": "stream",
     "text": [
      "[4, 6, 7, 12]\n",
      "['education', 'psychology', 'communications', 'economics']\n"
     ]
    },
    {
     "data": {
      "image/png": "[encoded data removed]",
      "text/plain": [
       "<matplotlib.figure.Figure at 0x7f1c9e0e2d30>"
      ]
     },
     "metadata": {},
     "output_type": "display_data"
    }
   ],
   "source": [
    "p_not_q(0.01)"
   ]
  },
  {
   "cell_type": "markdown",
   "metadata": {},
   "source": [
    "### [30 points] Problem 3: Multiple Linear Ralphie-gression \n",
    "***\n",
    "\n",
    "After years of study and professional development, you have finally landed your dream job as Ralphie's data-driven lead handler.  As your first project, you wish to use multiple linear regression to understand and predict what makes Ralphie happy, as measured during halftime of home football games.  Luckily, your predecessor has collected lots of data that might prove relevant.  You'll find this data in the file ralphie.csv. \n",
    "\n",
    "**Response**: \n",
    "\n",
    "- $\\texttt{happiness}$: Ralphie's happiness, measured by a complicated formula involving rate of tail flicks, happy-sounding snorts, and numerous other factors \n",
    "\n",
    "**Features**: \n",
    "\n",
    "- $\\texttt{hay freshness}$: freshness of Ralphie's hay, measured in Freshies \n",
    "- $\\texttt{coat silkiness}$: silkiness of Ralphie's coat, measured in Larremores \n",
    "- $\\texttt{run length}$: the length of Ralphie's halftime run, measured in yards \n",
    "- $\\texttt{temp}$: the outside temperature, measured in degrees Fahrenheit \n",
    "- $\\texttt{SCMLP}$: the snow-capped majesty of Longs Peak, measured as a fraction between 0 and 1  \n",
    "- $\\texttt{mean GPA}$: mean GPA of Ralphie's handlers \n",
    "- $\\texttt{score diff}$: the score differential (CU's score minus Opponent' score) at halftime \n",
    "- $\\texttt{star yards}$: the number of rushing yards by CU's star running back at halftime \n",
    "- $\\texttt{ice cream sold}$: the number of units of ice cream sold at the concession stand \n",
    "- $\\texttt{shark attacks}$: the number of shark attacks at the Boulder Res on game day \n"
   ]
  },
  {
   "cell_type": "markdown",
   "metadata": {},
   "source": [
    "**Part A**: Read the data from **ralphie.csv** into a Pandas DataFrame and clean the data.  Note that since we will be doing a multiple linear regression we will need all of the features, so you should drop any row in the DataFrame that is missing data.  "
   ]
  },
  {
   "cell_type": "code",
   "execution_count": 13,
   "metadata": {},
   "outputs": [
    {
     "data": {
      "text/html": [
       "<div>\n",
       "<table border=\"1\" class=\"dataframe\">\n",
       "  <thead>\n",
       "    <tr style=\"text-align: right;\">\n",
       "      <th></th>\n",
       "      <th>happiness</th>\n",
       "      <th>hay freshness</th>\n",
       "      <th>coat silkiness</th>\n",
       "      <th>run length</th>\n",
       "      <th>temp</th>\n",
       "      <th>SCMLP</th>\n",
       "      <th>handler GPA</th>\n",
       "      <th>score diff</th>\n",
       "      <th>star yards</th>\n",
       "      <th>ice cream sold</th>\n",
       "      <th>shark attacks</th>\n",
       "    </tr>\n",
       "  </thead>\n",
       "  <tbody>\n",
       "    <tr>\n",
       "      <th>0</th>\n",
       "      <td>138.70</td>\n",
       "      <td>89.1</td>\n",
       "      <td>6.8</td>\n",
       "      <td>263.0</td>\n",
       "      <td>62.0</td>\n",
       "      <td>1.00</td>\n",
       "      <td>2.04</td>\n",
       "      <td>0.0</td>\n",
       "      <td>25.0</td>\n",
       "      <td>196.0</td>\n",
       "      <td>3.0</td>\n",
       "    </tr>\n",
       "    <tr>\n",
       "      <th>1</th>\n",
       "      <td>121.87</td>\n",
       "      <td>93.4</td>\n",
       "      <td>8.0</td>\n",
       "      <td>264.0</td>\n",
       "      <td>63.0</td>\n",
       "      <td>1.00</td>\n",
       "      <td>2.69</td>\n",
       "      <td>-4.0</td>\n",
       "      <td>21.0</td>\n",
       "      <td>189.0</td>\n",
       "      <td>1.0</td>\n",
       "    </tr>\n",
       "    <tr>\n",
       "      <th>2</th>\n",
       "      <td>117.31</td>\n",
       "      <td>85.9</td>\n",
       "      <td>7.6</td>\n",
       "      <td>243.0</td>\n",
       "      <td>55.0</td>\n",
       "      <td>0.84</td>\n",
       "      <td>3.17</td>\n",
       "      <td>-2.0</td>\n",
       "      <td>11.0</td>\n",
       "      <td>219.0</td>\n",
       "      <td>0.0</td>\n",
       "    </tr>\n",
       "    <tr>\n",
       "      <th>3</th>\n",
       "      <td>80.69</td>\n",
       "      <td>89.1</td>\n",
       "      <td>6.0</td>\n",
       "      <td>260.0</td>\n",
       "      <td>52.0</td>\n",
       "      <td>0.73</td>\n",
       "      <td>2.13</td>\n",
       "      <td>-13.0</td>\n",
       "      <td>107.0</td>\n",
       "      <td>101.0</td>\n",
       "      <td>0.0</td>\n",
       "    </tr>\n",
       "    <tr>\n",
       "      <th>4</th>\n",
       "      <td>127.52</td>\n",
       "      <td>94.6</td>\n",
       "      <td>8.1</td>\n",
       "      <td>251.0</td>\n",
       "      <td>57.0</td>\n",
       "      <td>0.89</td>\n",
       "      <td>2.40</td>\n",
       "      <td>-6.0</td>\n",
       "      <td>43.0</td>\n",
       "      <td>186.0</td>\n",
       "      <td>0.0</td>\n",
       "    </tr>\n",
       "    <tr>\n",
       "      <th>5</th>\n",
       "      <td>98.24</td>\n",
       "      <td>86.6</td>\n",
       "      <td>7.7</td>\n",
       "      <td>259.0</td>\n",
       "      <td>71.0</td>\n",
       "      <td>1.00</td>\n",
       "      <td>3.60</td>\n",
       "      <td>-6.0</td>\n",
       "      <td>36.0</td>\n",
       "      <td>102.0</td>\n",
       "      <td>2.0</td>\n",
       "    </tr>\n",
       "    <tr>\n",
       "      <th>6</th>\n",
       "      <td>137.26</td>\n",
       "      <td>89.0</td>\n",
       "      <td>7.1</td>\n",
       "      <td>246.0</td>\n",
       "      <td>55.0</td>\n",
       "      <td>0.89</td>\n",
       "      <td>2.71</td>\n",
       "      <td>1.0</td>\n",
       "      <td>18.0</td>\n",
       "      <td>179.0</td>\n",
       "      <td>0.0</td>\n",
       "    </tr>\n",
       "    <tr>\n",
       "      <th>7</th>\n",
       "      <td>83.38</td>\n",
       "      <td>85.9</td>\n",
       "      <td>6.3</td>\n",
       "      <td>261.0</td>\n",
       "      <td>33.0</td>\n",
       "      <td>0.11</td>\n",
       "      <td>3.86</td>\n",
       "      <td>-16.0</td>\n",
       "      <td>150.0</td>\n",
       "      <td>183.0</td>\n",
       "      <td>0.0</td>\n",
       "    </tr>\n",
       "    <tr>\n",
       "      <th>8</th>\n",
       "      <td>102.26</td>\n",
       "      <td>94.8</td>\n",
       "      <td>7.0</td>\n",
       "      <td>243.0</td>\n",
       "      <td>70.0</td>\n",
       "      <td>1.00</td>\n",
       "      <td>2.34</td>\n",
       "      <td>-5.0</td>\n",
       "      <td>38.0</td>\n",
       "      <td>200.0</td>\n",
       "      <td>1.0</td>\n",
       "    </tr>\n",
       "    <tr>\n",
       "      <th>9</th>\n",
       "      <td>84.03</td>\n",
       "      <td>98.3</td>\n",
       "      <td>7.4</td>\n",
       "      <td>244.0</td>\n",
       "      <td>89.0</td>\n",
       "      <td>1.00</td>\n",
       "      <td>3.77</td>\n",
       "      <td>-8.0</td>\n",
       "      <td>54.0</td>\n",
       "      <td>184.0</td>\n",
       "      <td>1.0</td>\n",
       "    </tr>\n",
       "    <tr>\n",
       "      <th>10</th>\n",
       "      <td>129.20</td>\n",
       "      <td>81.9</td>\n",
       "      <td>7.4</td>\n",
       "      <td>260.0</td>\n",
       "      <td>77.0</td>\n",
       "      <td>1.00</td>\n",
       "      <td>2.83</td>\n",
       "      <td>3.0</td>\n",
       "      <td>19.0</td>\n",
       "      <td>287.0</td>\n",
       "      <td>3.0</td>\n",
       "    </tr>\n",
       "    <tr>\n",
       "      <th>11</th>\n",
       "      <td>139.39</td>\n",
       "      <td>88.1</td>\n",
       "      <td>6.6</td>\n",
       "      <td>249.0</td>\n",
       "      <td>56.0</td>\n",
       "      <td>0.91</td>\n",
       "      <td>3.45</td>\n",
       "      <td>0.0</td>\n",
       "      <td>16.0</td>\n",
       "      <td>226.0</td>\n",
       "      <td>0.0</td>\n",
       "    </tr>\n",
       "    <tr>\n",
       "      <th>12</th>\n",
       "      <td>122.24</td>\n",
       "      <td>91.5</td>\n",
       "      <td>7.8</td>\n",
       "      <td>252.0</td>\n",
       "      <td>82.0</td>\n",
       "      <td>1.00</td>\n",
       "      <td>2.44</td>\n",
       "      <td>0.0</td>\n",
       "      <td>23.0</td>\n",
       "      <td>231.0</td>\n",
       "      <td>3.0</td>\n",
       "    </tr>\n",
       "    <tr>\n",
       "      <th>13</th>\n",
       "      <td>102.62</td>\n",
       "      <td>94.7</td>\n",
       "      <td>5.6</td>\n",
       "      <td>269.0</td>\n",
       "      <td>81.0</td>\n",
       "      <td>1.00</td>\n",
       "      <td>3.11</td>\n",
       "      <td>-3.0</td>\n",
       "      <td>21.0</td>\n",
       "      <td>285.0</td>\n",
       "      <td>2.0</td>\n",
       "    </tr>\n",
       "    <tr>\n",
       "      <th>14</th>\n",
       "      <td>189.11</td>\n",
       "      <td>99.0</td>\n",
       "      <td>6.6</td>\n",
       "      <td>259.0</td>\n",
       "      <td>38.0</td>\n",
       "      <td>0.21</td>\n",
       "      <td>2.50</td>\n",
       "      <td>3.0</td>\n",
       "      <td>20.0</td>\n",
       "      <td>96.0</td>\n",
       "      <td>0.0</td>\n",
       "    </tr>\n",
       "    <tr>\n",
       "      <th>15</th>\n",
       "      <td>138.22</td>\n",
       "      <td>94.9</td>\n",
       "      <td>7.1</td>\n",
       "      <td>226.0</td>\n",
       "      <td>65.0</td>\n",
       "      <td>1.00</td>\n",
       "      <td>3.48</td>\n",
       "      <td>2.0</td>\n",
       "      <td>21.0</td>\n",
       "      <td>122.0</td>\n",
       "      <td>2.0</td>\n",
       "    </tr>\n",
       "    <tr>\n",
       "      <th>16</th>\n",
       "      <td>145.79</td>\n",
       "      <td>89.7</td>\n",
       "      <td>6.3</td>\n",
       "      <td>231.0</td>\n",
       "      <td>33.0</td>\n",
       "      <td>0.09</td>\n",
       "      <td>3.79</td>\n",
       "      <td>-1.0</td>\n",
       "      <td>16.0</td>\n",
       "      <td>93.0</td>\n",
       "      <td>0.0</td>\n",
       "    </tr>\n",
       "    <tr>\n",
       "      <th>17</th>\n",
       "      <td>99.19</td>\n",
       "      <td>89.5</td>\n",
       "      <td>5.5</td>\n",
       "      <td>244.0</td>\n",
       "      <td>46.0</td>\n",
       "      <td>0.57</td>\n",
       "      <td>3.62</td>\n",
       "      <td>-8.0</td>\n",
       "      <td>46.0</td>\n",
       "      <td>76.0</td>\n",
       "      <td>0.0</td>\n",
       "    </tr>\n",
       "    <tr>\n",
       "      <th>18</th>\n",
       "      <td>160.92</td>\n",
       "      <td>90.2</td>\n",
       "      <td>8.3</td>\n",
       "      <td>265.0</td>\n",
       "      <td>63.0</td>\n",
       "      <td>1.00</td>\n",
       "      <td>3.44</td>\n",
       "      <td>1.0</td>\n",
       "      <td>24.0</td>\n",
       "      <td>242.0</td>\n",
       "      <td>1.0</td>\n",
       "    </tr>\n",
       "    <tr>\n",
       "      <th>19</th>\n",
       "      <td>155.07</td>\n",
       "      <td>91.7</td>\n",
       "      <td>7.5</td>\n",
       "      <td>269.0</td>\n",
       "      <td>49.0</td>\n",
       "      <td>0.57</td>\n",
       "      <td>3.49</td>\n",
       "      <td>-1.0</td>\n",
       "      <td>11.0</td>\n",
       "      <td>122.0</td>\n",
       "      <td>0.0</td>\n",
       "    </tr>\n",
       "  </tbody>\n",
       "</table>\n",
       "</div>"
      ],
      "text/plain": [
       "    happiness  hay freshness  coat silkiness  run length  temp  SCMLP  \\\n",
       "0      138.70           89.1             6.8       263.0  62.0   1.00   \n",
       "1      121.87           93.4             8.0       264.0  63.0   1.00   \n",
       "2      117.31           85.9             7.6       243.0  55.0   0.84   \n",
       "3       80.69           89.1             6.0       260.0  52.0   0.73   \n",
       "4      127.52           94.6             8.1       251.0  57.0   0.89   \n",
       "5       98.24           86.6             7.7       259.0  71.0   1.00   \n",
       "6      137.26           89.0             7.1       246.0  55.0   0.89   \n",
       "7       83.38           85.9             6.3       261.0  33.0   0.11   \n",
       "8      102.26           94.8             7.0       243.0  70.0   1.00   \n",
       "9       84.03           98.3             7.4       244.0  89.0   1.00   \n",
       "10     129.20           81.9             7.4       260.0  77.0   1.00   \n",
       "11     139.39           88.1             6.6       249.0  56.0   0.91   \n",
       "12     122.24           91.5             7.8       252.0  82.0   1.00   \n",
       "13     102.62           94.7             5.6       269.0  81.0   1.00   \n",
       "14     189.11           99.0             6.6       259.0  38.0   0.21   \n",
       "15     138.22           94.9             7.1       226.0  65.0   1.00   \n",
       "16     145.79           89.7             6.3       231.0  33.0   0.09   \n",
       "17      99.19           89.5             5.5       244.0  46.0   0.57   \n",
       "18     160.92           90.2             8.3       265.0  63.0   1.00   \n",
       "19     155.07           91.7             7.5       269.0  49.0   0.57   \n",
       "\n",
       "    handler GPA  score diff  star yards  ice cream sold  shark attacks  \n",
       "0          2.04         0.0        25.0           196.0            3.0  \n",
       "1          2.69        -4.0        21.0           189.0            1.0  \n",
       "2          3.17        -2.0        11.0           219.0            0.0  \n",
       "3          2.13       -13.0       107.0           101.0            0.0  \n",
       "4          2.40        -6.0        43.0           186.0            0.0  \n",
       "5          3.60        -6.0        36.0           102.0            2.0  \n",
       "6          2.71         1.0        18.0           179.0            0.0  \n",
       "7          3.86       -16.0       150.0           183.0            0.0  \n",
       "8          2.34        -5.0        38.0           200.0            1.0  \n",
       "9          3.77        -8.0        54.0           184.0            1.0  \n",
       "10         2.83         3.0        19.0           287.0            3.0  \n",
       "11         3.45         0.0        16.0           226.0            0.0  \n",
       "12         2.44         0.0        23.0           231.0            3.0  \n",
       "13         3.11        -3.0        21.0           285.0            2.0  \n",
       "14         2.50         3.0        20.0            96.0            0.0  \n",
       "15         3.48         2.0        21.0           122.0            2.0  \n",
       "16         3.79        -1.0        16.0            93.0            0.0  \n",
       "17         3.62        -8.0        46.0            76.0            0.0  \n",
       "18         3.44         1.0        24.0           242.0            1.0  \n",
       "19         3.49        -1.0        11.0           122.0            0.0  "
      ]
     },
     "execution_count": 13,
     "metadata": {},
     "output_type": "execute_result"
    }
   ],
   "source": [
    "dfRalphie = pd.read_csv(\"https://raw.githubusercontent.com/chrisketelsen/csci3022/master/practicum/data/ralphie.csv\")\n",
    "dfRalphie = dfRalphie.dropna()\n",
    "dfRalphie[\"hay freshness\"] = dfRalphie[\"hay freshness\"].map(lambda x: float(str(x)[:-1]))\n",
    "dfRalphie[\"coat silkiness\"] = dfRalphie[\"coat silkiness\"].map(lambda x: float(str(x)[:-1]))\n",
    "dfRalphie[\"temp\"] = dfRalphie[\"temp\"].map(lambda x: float(str(x)[:-1]))\n",
    "dfRalphie.head(20)"
   ]
  },
  {
   "cell_type": "code",
   "execution_count": null,
   "metadata": {
    "collapsed": true
   },
   "outputs": [],
   "source": []
  },
  {
   "cell_type": "markdown",
   "metadata": {},
   "source": [
    "**Part B**: Perform the appropriate statistical test at the $\\alpha = 0.05$ significance level to determine if _at least one_ of the features is related to the the response $y$.  Clearly describe your methodology and show all computations in Python. "
   ]
  },
  {
   "cell_type": "code",
   "execution_count": 14,
   "metadata": {},
   "outputs": [
    {
     "data": {
      "text/html": [
       "<table class=\"simpletable\">\n",
       "<caption>OLS Regression Results</caption>\n",
       "<tr>\n",
       "  <th>Dep. Variable:</th>        <td>happiness</td>    <th>  R-squared:         </th> <td>   0.987</td>\n",
       "</tr>\n",
       "<tr>\n",
       "  <th>Model:</th>                   <td>OLS</td>       <th>  Adj. R-squared:    </th> <td>   0.986</td>\n",
       "</tr>\n",
       "<tr>\n",
       "  <th>Method:</th>             <td>Least Squares</td>  <th>  F-statistic:       </th> <td>   572.2</td>\n",
       "</tr>\n",
       "<tr>\n",
       "  <th>Date:</th>             <td>Thu, 14 Dec 2017</td> <th>  Prob (F-statistic):</th> <td>8.10e-66</td>\n",
       "</tr>\n",
       "<tr>\n",
       "  <th>Time:</th>                 <td>03:53:40</td>     <th>  Log-Likelihood:    </th> <td> -249.37</td>\n",
       "</tr>\n",
       "<tr>\n",
       "  <th>No. Observations:</th>      <td>    85</td>      <th>  AIC:               </th> <td>   520.7</td>\n",
       "</tr>\n",
       "<tr>\n",
       "  <th>Df Residuals:</th>          <td>    74</td>      <th>  BIC:               </th> <td>   547.6</td>\n",
       "</tr>\n",
       "<tr>\n",
       "  <th>Df Model:</th>              <td>    10</td>      <th>                     </th>     <td> </td>   \n",
       "</tr>\n",
       "<tr>\n",
       "  <th>Covariance Type:</th>      <td>nonrobust</td>    <th>                     </th>     <td> </td>   \n",
       "</tr>\n",
       "</table>\n",
       "<table class=\"simpletable\">\n",
       "<tr>\n",
       "         <td></td>           <th>coef</th>     <th>std err</th>      <th>t</th>      <th>P>|t|</th> <th>[95.0% Conf. Int.]</th> \n",
       "</tr>\n",
       "<tr>\n",
       "  <th>const</th>          <td>  -35.2765</td> <td>   13.517</td> <td>   -2.610</td> <td> 0.011</td> <td>  -62.210    -8.343</td>\n",
       "</tr>\n",
       "<tr>\n",
       "  <th>hay freshness</th>  <td>    0.9940</td> <td>    0.113</td> <td>    8.832</td> <td> 0.000</td> <td>    0.770     1.218</td>\n",
       "</tr>\n",
       "<tr>\n",
       "  <th>coat silkiness</th> <td>    4.0447</td> <td>    0.689</td> <td>    5.868</td> <td> 0.000</td> <td>    2.671     5.418</td>\n",
       "</tr>\n",
       "<tr>\n",
       "  <th>run length</th>     <td>    0.4486</td> <td>    0.037</td> <td>   12.183</td> <td> 0.000</td> <td>    0.375     0.522</td>\n",
       "</tr>\n",
       "<tr>\n",
       "  <th>temp</th>           <td>   -0.9955</td> <td>    0.082</td> <td>  -12.181</td> <td> 0.000</td> <td>   -1.158    -0.833</td>\n",
       "</tr>\n",
       "<tr>\n",
       "  <th>SCMLP</th>          <td>   -2.7631</td> <td>    3.823</td> <td>   -0.723</td> <td> 0.472</td> <td>  -10.380     4.854</td>\n",
       "</tr>\n",
       "<tr>\n",
       "  <th>handler GPA</th>    <td>    0.8343</td> <td>    0.969</td> <td>    0.861</td> <td> 0.392</td> <td>   -1.096     2.765</td>\n",
       "</tr>\n",
       "<tr>\n",
       "  <th>score diff</th>     <td>    5.0875</td> <td>    0.083</td> <td>   61.298</td> <td> 0.000</td> <td>    4.922     5.253</td>\n",
       "</tr>\n",
       "<tr>\n",
       "  <th>star yards</th>     <td>   -0.0108</td> <td>    0.014</td> <td>   -0.749</td> <td> 0.457</td> <td>   -0.040     0.018</td>\n",
       "</tr>\n",
       "<tr>\n",
       "  <th>ice cream sold</th> <td>    0.0127</td> <td>    0.011</td> <td>    1.121</td> <td> 0.266</td> <td>   -0.010     0.035</td>\n",
       "</tr>\n",
       "<tr>\n",
       "  <th>shark attacks</th>  <td>    0.4050</td> <td>    0.694</td> <td>    0.584</td> <td> 0.561</td> <td>   -0.978     1.788</td>\n",
       "</tr>\n",
       "</table>\n",
       "<table class=\"simpletable\">\n",
       "<tr>\n",
       "  <th>Omnibus:</th>       <td> 0.893</td> <th>  Durbin-Watson:     </th> <td>   2.062</td>\n",
       "</tr>\n",
       "<tr>\n",
       "  <th>Prob(Omnibus):</th> <td> 0.640</td> <th>  Jarque-Bera (JB):  </th> <td>   0.985</td>\n",
       "</tr>\n",
       "<tr>\n",
       "  <th>Skew:</th>          <td> 0.170</td> <th>  Prob(JB):          </th> <td>   0.611</td>\n",
       "</tr>\n",
       "<tr>\n",
       "  <th>Kurtosis:</th>      <td> 2.597</td> <th>  Cond. No.          </th> <td>8.60e+03</td>\n",
       "</tr>\n",
       "</table>"
      ],
      "text/plain": [
       "<class 'statsmodels.iolib.summary.Summary'>\n",
       "\"\"\"\n",
       "                            OLS Regression Results                            \n",
       "==============================================================================\n",
       "Dep. Variable:              happiness   R-squared:                       0.987\n",
       "Model:                            OLS   Adj. R-squared:                  0.986\n",
       "Method:                 Least Squares   F-statistic:                     572.2\n",
       "Date:                Thu, 14 Dec 2017   Prob (F-statistic):           8.10e-66\n",
       "Time:                        03:53:40   Log-Likelihood:                -249.37\n",
       "No. Observations:                  85   AIC:                             520.7\n",
       "Df Residuals:                      74   BIC:                             547.6\n",
       "Df Model:                          10                                         \n",
       "Covariance Type:            nonrobust                                         \n",
       "==================================================================================\n",
       "                     coef    std err          t      P>|t|      [95.0% Conf. Int.]\n",
       "----------------------------------------------------------------------------------\n",
       "const            -35.2765     13.517     -2.610      0.011       -62.210    -8.343\n",
       "hay freshness      0.9940      0.113      8.832      0.000         0.770     1.218\n",
       "coat silkiness     4.0447      0.689      5.868      0.000         2.671     5.418\n",
       "run length         0.4486      0.037     12.183      0.000         0.375     0.522\n",
       "temp              -0.9955      0.082    -12.181      0.000        -1.158    -0.833\n",
       "SCMLP             -2.7631      3.823     -0.723      0.472       -10.380     4.854\n",
       "handler GPA        0.8343      0.969      0.861      0.392        -1.096     2.765\n",
       "score diff         5.0875      0.083     61.298      0.000         4.922     5.253\n",
       "star yards        -0.0108      0.014     -0.749      0.457        -0.040     0.018\n",
       "ice cream sold     0.0127      0.011      1.121      0.266        -0.010     0.035\n",
       "shark attacks      0.4050      0.694      0.584      0.561        -0.978     1.788\n",
       "==============================================================================\n",
       "Omnibus:                        0.893   Durbin-Watson:                   2.062\n",
       "Prob(Omnibus):                  0.640   Jarque-Bera (JB):                0.985\n",
       "Skew:                           0.170   Prob(JB):                        0.611\n",
       "Kurtosis:                       2.597   Cond. No.                     8.60e+03\n",
       "==============================================================================\n",
       "\n",
       "Warnings:\n",
       "[1] Standard Errors assume that the covariance matrix of the errors is correctly specified.\n",
       "[2] The condition number is large, 8.6e+03. This might indicate that there are\n",
       "strong multicollinearity or other numerical problems.\n",
       "\"\"\""
      ]
     },
     "execution_count": 14,
     "metadata": {},
     "output_type": "execute_result"
    }
   ],
   "source": [
    "y, X = dfRalphie[\"happiness\"], dfRalphie.iloc[:,1:]\n",
    "\n",
    "# Add constant to X \n",
    "X = sm.add_constant(X)\n",
    "\n",
    "# Fit OLS model \n",
    "model = sm.OLS(y, X.astype(float)).fit() \n",
    "\n",
    "# Print model summary \n",
    "model.summary()"
   ]
  },
  {
   "cell_type": "markdown",
   "metadata": {},
   "source": [
    "We can use the F-test. We can see that the p-value given by the model summary is  \t8.10e-66. This is much smaller than the significance value 0.5, so we can say that there is at least one feature related to the response y."
   ]
  },
  {
   "cell_type": "markdown",
   "metadata": {},
   "source": []
  },
  {
   "cell_type": "markdown",
   "metadata": {},
   "source": [
    "**Part C**: Write a function **forward_select**(df, resp_str, maxk) that takes in the DataFrame, the name of the column corresponding to the response, and the max number of desired features, and returns a list of feature names corresponding to the maxk most important features via forward selection.  At each stage in forward selection you should add the feature whose inclusion in the model would result in the lowest sum of squared errors $(SSE)$. Use your function to determine the best $k=5$ features to include in the model. Clearly indicate which feature was added in each stage. \n",
    "\n",
    "**Note**: The point of this exercise is to see if you can implement **foward_select** yourself.  You may of course use canned routines like statmodels OLS, but you may not call any Python method that explicitly performs forward selection. "
   ]
  },
  {
   "cell_type": "code",
   "execution_count": 24,
   "metadata": {},
   "outputs": [
    {
     "name": "stdout",
     "output_type": "stream",
     "text": [
      "Enter forward select\n",
      "Adding feature: score diff ,b0: 134.720822149 ,b1: 4.91616287303\n",
      "Adding feature: shark attacks ,b2: -10.8315318504\n",
      "Adding feature: star yards ,b3: 0.14956316823\n",
      "Adding feature: handler GPA ,b4: -3.07104819741\n",
      "Adding feature: ice cream sold ,b5: -0.0862027191713\n",
      "Final SSE of reduced model: 103765.421954\n"
     ]
    }
   ],
   "source": [
    "def forward_select(df, resp_str, maxk):\n",
    "    print(\"Enter forward select\")\n",
    "    minim = np.inf\n",
    "    field = \"\"\n",
    "    features = []\n",
    "    dfOrig = df\n",
    "    df = df.drop(resp_str,axis=1)\n",
    "    b = 0\n",
    "    a = 0\n",
    "    for column in df.columns:\n",
    "        SSE = 0\n",
    "        bhat, ahat, rval, pval, stderr = stats.linregress(df[column],dfOrig[resp_str])\n",
    "        for index, row in dfOrig.iterrows():\n",
    "            SSE = SSE + (row[resp_str]-(ahat+bhat*row[column]))**2\n",
    "        if (minim > SSE):\n",
    "            minim = SSE\n",
    "            field = column\n",
    "            b = bhat\n",
    "            a = ahat\n",
    "    df = df.drop(field,axis=1)\n",
    "    print(\"Adding feature:\", field, \",b0:\", a, \",b1:\",b)\n",
    "    features.append(field)\n",
    "    final_SSE = 0\n",
    "    for i in range(maxk-1):\n",
    "        minim = np.inf\n",
    "        field = \"\"\n",
    "        b = 0\n",
    "        for column in df.columns:\n",
    "            SSE = 0\n",
    "            betas = []\n",
    "            for j in range(len(features)):\n",
    "                if j > 0:\n",
    "                    bhat, ahat, rval, pval, stderr = stats.linregress(dfOrig[features[j]],dfOrig[resp_str])\n",
    "                    betas.append(bhat)\n",
    "                else:\n",
    "                    bhat, ahat, rval, pval, stderr = stats.linregress(dfOrig[features[0]],dfOrig[resp_str])\n",
    "                    betas.append(ahat)\n",
    "                    betas.append(bhat)\n",
    "            bhat, ahat, rval, pval, stderr = stats.linregress(df[column],dfOrig[resp_str])\n",
    "            for index, row in dfOrig.iterrows():\n",
    "                betaSum = betas[0]\n",
    "                for k in range(1,len(betas)):\n",
    "                    betaSum = betaSum + betas[k]*row[features[k-1]]\n",
    "                SSE = SSE + (row[resp_str]-(betaSum+bhat*row[column]))**2\n",
    "            if (minim > SSE):\n",
    "                minim = SSE\n",
    "                field = column\n",
    "                b = bhat\n",
    "                final_SSE = minim\n",
    "        df = df.drop(field,axis=1)\n",
    "        features.append(field)\n",
    "        print(\"Adding feature:\", field, \",b{}:\".format(i+2),b)\n",
    "    print(\"Final SSE of reduced model:\", final_SSE)\n",
    "    return features\n",
    "parameters = forward_select(dfRalphie, \"happiness\", 5)\n",
    "    "
   ]
  },
  {
   "cell_type": "markdown",
   "metadata": {},
   "source": [
    "**Part D**: Write down the multiple linear regression model, including estimated parameters, obtained by your forward selection process. "
   ]
  },
  {
   "cell_type": "markdown",
   "metadata": {
    "collapsed": true
   },
   "source": [
    "happiness$ = 134.720822149 + 4.91616287303 \\times $score diff$ -10.8315318504\\times $shark attacks$ + 0.14956316823 \\times $star yards$ - 3.07104819741 \\times $handler GPA$ - 0.0862027191713 \\times $ice cream sold"
   ]
  },
  {
   "cell_type": "code",
   "execution_count": 16,
   "metadata": {},
   "outputs": [
    {
     "data": {
      "text/html": [
       "<table class=\"simpletable\">\n",
       "<caption>OLS Regression Results</caption>\n",
       "<tr>\n",
       "  <th>Dep. Variable:</th>        <td>happiness</td>    <th>  R-squared:         </th> <td>   0.874</td>\n",
       "</tr>\n",
       "<tr>\n",
       "  <th>Model:</th>                   <td>OLS</td>       <th>  Adj. R-squared:    </th> <td>   0.866</td>\n",
       "</tr>\n",
       "<tr>\n",
       "  <th>Method:</th>             <td>Least Squares</td>  <th>  F-statistic:       </th> <td>   109.8</td>\n",
       "</tr>\n",
       "<tr>\n",
       "  <th>Date:</th>             <td>Thu, 14 Dec 2017</td> <th>  Prob (F-statistic):</th> <td>4.42e-34</td>\n",
       "</tr>\n",
       "<tr>\n",
       "  <th>Time:</th>                 <td>03:53:41</td>     <th>  Log-Likelihood:    </th> <td> -346.61</td>\n",
       "</tr>\n",
       "<tr>\n",
       "  <th>No. Observations:</th>      <td>    85</td>      <th>  AIC:               </th> <td>   705.2</td>\n",
       "</tr>\n",
       "<tr>\n",
       "  <th>Df Residuals:</th>          <td>    79</td>      <th>  BIC:               </th> <td>   719.9</td>\n",
       "</tr>\n",
       "<tr>\n",
       "  <th>Df Model:</th>              <td>     5</td>      <th>                     </th>     <td> </td>   \n",
       "</tr>\n",
       "<tr>\n",
       "  <th>Covariance Type:</th>      <td>nonrobust</td>    <th>                     </th>     <td> </td>   \n",
       "</tr>\n",
       "</table>\n",
       "<table class=\"simpletable\">\n",
       "<tr>\n",
       "         <td></td>           <th>coef</th>     <th>std err</th>      <th>t</th>      <th>P>|t|</th> <th>[95.0% Conf. Int.]</th> \n",
       "</tr>\n",
       "<tr>\n",
       "  <th>const</th>          <td>  170.2329</td> <td>    9.738</td> <td>   17.482</td> <td> 0.000</td> <td>  150.850   189.616</td>\n",
       "</tr>\n",
       "<tr>\n",
       "  <th>score diff</th>     <td>    5.0458</td> <td>    0.233</td> <td>   21.649</td> <td> 0.000</td> <td>    4.582     5.510</td>\n",
       "</tr>\n",
       "<tr>\n",
       "  <th>shark attacks</th>  <td>   -6.7851</td> <td>    1.603</td> <td>   -4.233</td> <td> 0.000</td> <td>   -9.975    -3.595</td>\n",
       "</tr>\n",
       "<tr>\n",
       "  <th>star yards</th>     <td>   -0.0172</td> <td>    0.043</td> <td>   -0.403</td> <td> 0.688</td> <td>   -0.102     0.068</td>\n",
       "</tr>\n",
       "<tr>\n",
       "  <th>handler GPA</th>    <td>   -2.4080</td> <td>    2.892</td> <td>   -0.833</td> <td> 0.408</td> <td>   -8.164     3.348</td>\n",
       "</tr>\n",
       "<tr>\n",
       "  <th>ice cream sold</th> <td>   -0.1051</td> <td>    0.026</td> <td>   -4.028</td> <td> 0.000</td> <td>   -0.157    -0.053</td>\n",
       "</tr>\n",
       "</table>\n",
       "<table class=\"simpletable\">\n",
       "<tr>\n",
       "  <th>Omnibus:</th>       <td> 4.986</td> <th>  Durbin-Watson:     </th> <td>   2.135</td>\n",
       "</tr>\n",
       "<tr>\n",
       "  <th>Prob(Omnibus):</th> <td> 0.083</td> <th>  Jarque-Bera (JB):  </th> <td>   4.378</td>\n",
       "</tr>\n",
       "<tr>\n",
       "  <th>Skew:</th>          <td> 0.542</td> <th>  Prob(JB):          </th> <td>   0.112</td>\n",
       "</tr>\n",
       "<tr>\n",
       "  <th>Kurtosis:</th>      <td> 3.250</td> <th>  Cond. No.          </th> <td>1.29e+03</td>\n",
       "</tr>\n",
       "</table>"
      ],
      "text/plain": [
       "<class 'statsmodels.iolib.summary.Summary'>\n",
       "\"\"\"\n",
       "                            OLS Regression Results                            \n",
       "==============================================================================\n",
       "Dep. Variable:              happiness   R-squared:                       0.874\n",
       "Model:                            OLS   Adj. R-squared:                  0.866\n",
       "Method:                 Least Squares   F-statistic:                     109.8\n",
       "Date:                Thu, 14 Dec 2017   Prob (F-statistic):           4.42e-34\n",
       "Time:                        03:53:41   Log-Likelihood:                -346.61\n",
       "No. Observations:                  85   AIC:                             705.2\n",
       "Df Residuals:                      79   BIC:                             719.9\n",
       "Df Model:                           5                                         \n",
       "Covariance Type:            nonrobust                                         \n",
       "==================================================================================\n",
       "                     coef    std err          t      P>|t|      [95.0% Conf. Int.]\n",
       "----------------------------------------------------------------------------------\n",
       "const            170.2329      9.738     17.482      0.000       150.850   189.616\n",
       "score diff         5.0458      0.233     21.649      0.000         4.582     5.510\n",
       "shark attacks     -6.7851      1.603     -4.233      0.000        -9.975    -3.595\n",
       "star yards        -0.0172      0.043     -0.403      0.688        -0.102     0.068\n",
       "handler GPA       -2.4080      2.892     -0.833      0.408        -8.164     3.348\n",
       "ice cream sold    -0.1051      0.026     -4.028      0.000        -0.157    -0.053\n",
       "==============================================================================\n",
       "Omnibus:                        4.986   Durbin-Watson:                   2.135\n",
       "Prob(Omnibus):                  0.083   Jarque-Bera (JB):                4.378\n",
       "Skew:                           0.542   Prob(JB):                        0.112\n",
       "Kurtosis:                       3.250   Cond. No.                     1.29e+03\n",
       "==============================================================================\n",
       "\n",
       "Warnings:\n",
       "[1] Standard Errors assume that the covariance matrix of the errors is correctly specified.\n",
       "[2] The condition number is large, 1.29e+03. This might indicate that there are\n",
       "strong multicollinearity or other numerical problems.\n",
       "\"\"\""
      ]
     },
     "execution_count": 16,
     "metadata": {},
     "output_type": "execute_result"
    }
   ],
   "source": [
    "new_y, new_X = dfRalphie[\"happiness\"], dfRalphie[parameters]\n",
    "\n",
    "# Add constant to X \n",
    "new_X = sm.add_constant(new_X)\n",
    "\n",
    "# Fit OLS model \n",
    "new_model = sm.OLS(new_y, new_X.astype(float)).fit() \n",
    "\n",
    "# Print model summary \n",
    "new_model.summary()"
   ]
  },
  {
   "cell_type": "markdown",
   "metadata": {},
   "source": [
    "**Part E**: Perform the appropriate statistical test at the $\\alpha = 0.05$ significance level to determine whether there is a statistically significant difference between the full model with all features and the reduced model obtained by forward selection in **Part D**. "
   ]
  },
  {
   "cell_type": "code",
   "execution_count": 42,
   "metadata": {},
   "outputs": [
    {
     "data": {
      "text/plain": [
       "nan"
      ]
     },
     "execution_count": 42,
     "metadata": {},
     "output_type": "execute_result"
    }
   ],
   "source": [
    "y_bar = np.mean(dfRalphie[\"happiness\"])\n",
    "SST = 0\n",
    "for y in dfRalphie[\"happiness\"]:\n",
    "    SST = SST + (y - y_bar)**2\n",
    "R_2 = 0.874\n",
    "SSE_full = (1-R_2)*SST\n",
    "SSE_red = 103765.421954\n",
    "F = ((SSE_red - SSE_full)/(len(dfRalphie)*5 - len(dfRalphie)*(len(dfRalphie.columns)-1)))/(SSE_full/len(dfRalphie)*(len(dfRalphie.columns)-1))\n",
    "1-stats.f.cdf(F,len(dfRalphie)*5 - len(dfRalphie)*(len(dfRalphie.columns)-1),len(dfRalphie)*(len(dfRalphie.columns)-1))"
   ]
  },
  {
   "cell_type": "markdown",
   "metadata": {},
   "source": [
    "**Part F**: Based on your conclusions in **Part E**, use the _better_ of the two models to predict Ralphie's happiness when the following features are observed: \n",
    "\n",
    "- $\\texttt{hay freshness}$: 92 Freshies \n",
    "- $\\texttt{coat silkiness}$: 8.5 Laramores \n",
    "- $\\texttt{run length}$: 275 yards \n",
    "- $\\texttt{temp}$: 45F \n",
    "- $\\texttt{SCMLP}$: 0.80 \n",
    "- $\\texttt{mean GPA}$: 3.50 \n",
    "- $\\texttt{score diff}$: -10 \n",
    "- $\\texttt{star yards}$: 55 \n",
    "- $\\texttt{ice cream sold}$: 125\n",
    "- $\\texttt{shark attacks}$: 2 "
   ]
  },
  {
   "cell_type": "code",
   "execution_count": null,
   "metadata": {
    "collapsed": true
   },
   "outputs": [],
   "source": []
  }
 ],
 "metadata": {
  "kernelspec": {
   "display_name": "Python 3",
   "language": "python",
   "name": "python3"
  },
  "language_info": {
   "codemirror_mode": {
    "name": "ipython",
    "version": 3
   },
   "file_extension": ".py",
   "mimetype": "text/x-python",
   "name": "python",
   "nbconvert_exporter": "python",
   "pygments_lexer": "ipython3",
   "version": "3.5.4"
  }
 },
 "nbformat": 4,
 "nbformat_minor": 2
}
