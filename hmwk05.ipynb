{
 "cells": [
  {
   "cell_type": "markdown",
   "metadata": {},
   "source": [
    "# Homework 5: Confidence Intervals, the Bootstrap, and Autograders\n",
    "***\n",
    "\n",
    "**Name**: \n",
    "\n",
    "**Section**: (001 or 002)\n",
    "***\n",
    "\n",
    "This assignment is due on Moodle by **5pm on Friday November 10th**. Your solutions to theoretical questions should be done in Markdown/MathJax directly below the associated question.  Your solutions to computational questions should include any specified Python code and results as well as written commentary on your conclusions.  Remember that you are encouraged to discuss the problems with your instructors and classmates, but **you must write all code and solutions on your own**.  For a refresher on the course **Collaboration Policy** click [here](https://github.com/chrisketelsen/csci3022/blob/master/resources/syllabus.md#collaboration-policy).  \n",
    "\n",
    "**NOTES**: \n",
    "\n",
    "- Do **NOT** load or use any Python packages that are not available in Anaconda 3.6. \n",
    "- Some problems with code may be autograded.  If we provide a function API **do not** change it.  If we do not provide a function API then you're free to structure your code however you like. \n",
    "- Because you can technically evaluate notebook cells is a non-linear order, it's a good idea to do Cell $\\rightarrow$ Run All as a check before submitting your solutions.  That way if we need to run your code you will know that it will work as expected. \n",
    "- Submit only this Jupyter notebook to Moodle.  Do not compress it using tar, rar, zip, etc. "
   ]
  },
  {
   "cell_type": "code",
   "execution_count": 45,
   "metadata": {
    "collapsed": true,
    "scrolled": true
   },
   "outputs": [],
   "source": [
    "import numpy as np\n",
    "import matplotlib.pylab as plt\n",
    "import pandas as pd\n",
    "%matplotlib inline"
   ]
  },
  {
   "cell_type": "markdown",
   "metadata": {},
   "source": [
    "### [20 points] Problem 1 - Alcohol Content of Red vs White Wine \n",
    "***\n",
    "\n",
    "Load the data in $\\texttt{winequality-red.csv}$ and $\\texttt{winequality-white.csv}$ into Pandas DataFrames.  A description of this dataset can be found on [Berkeley's Machine Learning Repository](https://archive.ics.uci.edu/ml/datasets/Wine+Quality). The characteristic that we'll be interested in is the wine's alcohol content.  "
   ]
  },
  {
   "cell_type": "code",
   "execution_count": 46,
   "metadata": {
    "collapsed": true
   },
   "outputs": [],
   "source": [
    "dfRed = pd.read_table(\"winequality-red.csv\", sep=\";\")\n",
    "dfWhite = pd.read_table(\"winequality-white.csv\", sep=\";\")"
   ]
  },
  {
   "cell_type": "markdown",
   "metadata": {},
   "source": [
    "**Part A**: Are we justified in using the assumptions of the Central Limit Theorem in our analysis of estimates of the mean of the data?  Justify your response. "
   ]
  },
  {
   "cell_type": "markdown",
   "metadata": {
    "collapsed": true
   },
   "source": [
    "We are justified because the number of samples for each wine is greater than 30. They both are similar types of data so they share the same distribution properties. Therefore, we can compare the estimates of mean justifiably. "
   ]
  },
  {
   "cell_type": "markdown",
   "metadata": {},
   "source": [
    "**Part B**: Compute a 95% confidence interval for the mean of the red wine's alcohol content.  Separately, compute a 95% confidence interval for the mean of the white wine's alcohol content. Do all computations in Python. "
   ]
  },
  {
   "cell_type": "code",
   "execution_count": 47,
   "metadata": {},
   "outputs": [
    {
     "name": "stdout",
     "output_type": "stream",
     "text": [
      "Red Wine Alcohol Content Mean Confidence Interval: \n",
      "[10.3707654131,10.4752008157]\n",
      "White Wine Alcohol Content Mean Confidence Interval: \n",
      "[10.479806156,10.5487279396]\n"
     ]
    }
   ],
   "source": [
    "redRight = np.mean(dfRed[\"alcohol\"])+1.96*np.std(dfRed[\"alcohol\"])/np.sqrt(dfRed[\"alcohol\"].count())\n",
    "redLeft = np.mean(dfRed[\"alcohol\"])-1.96*np.std(dfRed[\"alcohol\"])/np.sqrt(dfRed[\"alcohol\"].count())\n",
    "\n",
    "whiteRight = np.mean(dfWhite[\"alcohol\"])+1.96*np.std(dfWhite[\"alcohol\"])/np.sqrt(dfWhite[\"alcohol\"].count())\n",
    "whiteLeft = np.mean(dfWhite[\"alcohol\"])-1.96*np.std(dfWhite[\"alcohol\"])/np.sqrt(dfWhite[\"alcohol\"].count())\n",
    "\n",
    "print(\"Red Wine Alcohol Content Mean Confidence Interval: \\n[\"+str(redLeft)+\",\"+str(redRight)+\"]\")\n",
    "print(\"White Wine Alcohol Content Mean Confidence Interval: \\n[\"+str(whiteLeft)+\",\"+str(whiteRight)+\"]\")"
   ]
  },
  {
   "cell_type": "markdown",
   "metadata": {},
   "source": [
    "**Part C**: Compute the 95% confidence interval for the difference between the means of the alcohol content of red and white wine. "
   ]
  },
  {
   "cell_type": "code",
   "execution_count": 48,
   "metadata": {},
   "outputs": [
    {
     "name": "stdout",
     "output_type": "stream",
     "text": [
      "Mean Difference Confidence Interval: \n",
      "[0.0287200348647,0.153847831792]\n"
     ]
    }
   ],
   "source": [
    "diff = np.mean(dfWhite[\"alcohol\"])-np.mean(dfRed[\"alcohol\"])\n",
    "ends = 1.96*np.sqrt(np.power(np.std(dfWhite[\"alcohol\"]),2)/dfWhite[\"alcohol\"].count()+np.power(np.std(dfRed[\"alcohol\"]),2)/dfRed[\"alcohol\"].count())\n",
    "\n",
    "left = diff - ends\n",
    "right = diff + ends\n",
    "\n",
    "print(\"Mean Difference Confidence Interval: \\n[\"+str(left)+\",\"+str(right)+\"]\")"
   ]
  },
  {
   "cell_type": "markdown",
   "metadata": {},
   "source": [
    "**Part D**: Interpret the confidence interval you computed in **Part C** in one or two sentences.  Can you say that it's likely that there is a difference in mean alcohol content between red and white wine?  "
   ]
  },
  {
   "cell_type": "markdown",
   "metadata": {
    "collapsed": true
   },
   "source": [
    "I can say that it is likely there is a difference in mean alcohol content between red and white wine because the lowest end of the 95 % confidence interval is above 0. Since this means 95% of samples from red and white wine with the same respective size would have a difference between means that falls in this confidence interval (where the mean of red is larger than the mean of white), then it seems highly likely that a difference in mean alcohol content does exist overall. "
   ]
  },
  {
   "cell_type": "markdown",
   "metadata": {},
   "source": [
    "### [15 points] Problem 2: Election Polling\n",
    "***\n",
    "\n",
    "On the eve of an important senate seat election, a pollster polls a simple random sample of the population and asks which candidate they plan to vote for on the following day. In particular, the pollster asks if the respondents plan to vote for Candidate A, Candidate B, or some other candidate.  The results of the poll can be found in the following table: \n",
    "\n",
    "\\begin{array}{ccc}\n",
    "\\hline \n",
    "\\textrm{Candidate A} & \\textrm{Candidate B} & \\textrm{Other} \\\\\n",
    "\\hline \n",
    "1204 & 1099 & 205  \\\\\n",
    "\\hline \n",
    "\\end{array}\n",
    "\n",
    "**Part A**: Poll results are typically reported as a predicted **percentage** of the electorate plus or minus a margin of error, i.e. $\\texttt{percentage} \\pm \\texttt{margin}$.  Express the poll results for Candidates A and B in the specified format at the 95% confidence level. "
   ]
  },
  {
   "cell_type": "code",
   "execution_count": 49,
   "metadata": {},
   "outputs": [
    {
     "name": "stdout",
     "output_type": "stream",
     "text": [
      "Candidate A: ^p = 0.4800637958532695, Za/2 = 0.0195531536174\n",
      "Candidate B: ^p = 0.4381977671451356, Za/2 = 0.0194186536558\n"
     ]
    }
   ],
   "source": [
    "n = 1204+1099+205\n",
    "AProb = 1204/n\n",
    "AMargin = 1.96*np.sqrt(AProb*(1-AProb)/n)\n",
    "BProb = 1099/n\n",
    "BMargin = 1.96*np.sqrt(BProb*(1-BProb)/n)\n",
    "\n",
    "print(\"Candidate A: ^p = \"+str(AProb)+\", Za/2 = \"+str(AMargin))\n",
    "print(\"Candidate B: ^p = \"+str(BProb)+\", Za/2 = \"+str(BMargin))"
   ]
  },
  {
   "cell_type": "markdown",
   "metadata": {},
   "source": [
    "Candidate A: $48.00637958532695\\% \\pm 1.95531536174\\%$\n",
    "\n",
    "Candidate B: $43.81977671451356\\% \\pm 1.94186536558\\%$"
   ]
  },
  {
   "cell_type": "markdown",
   "metadata": {},
   "source": [
    "**Part B**: Express the poll results as 95% confidence intervals.  Based on these results, would it be responsible for a newspaper to definitely call the election for a particular candidate? Clearly justify your response. "
   ]
  },
  {
   "cell_type": "code",
   "execution_count": 50,
   "metadata": {},
   "outputs": [
    {
     "name": "stdout",
     "output_type": "stream",
     "text": [
      "Candidate A: [0.460510642236,0.499616949471]\n",
      "Candidate B: [0.418779113489,0.457616420801]\n"
     ]
    }
   ],
   "source": [
    "print(\"Candidate A: [\"+str(AProb-AMargin)+\",\"+str(AProb+AMargin)+\"]\")\n",
    "print(\"Candidate B: [\"+str(BProb-BMargin)+\",\"+str(BProb+BMargin)+\"]\")"
   ]
  },
  {
   "cell_type": "markdown",
   "metadata": {},
   "source": [
    "It would still be responsible for a newspaper to definitely call the election for candidate A. The confidence intervals for A and B don't have any overlap within the respective ranges. The highest end point for candidate B is still lower than the lowest end point for candidate A, so we can say with 95% confidence that candidate A would win. "
   ]
  },
  {
   "cell_type": "markdown",
   "metadata": {},
   "source": [
    "**Part C**: In the run-up to the next election, the pollster is designing a poll of a city council race between two relatively unknown candidates.  Without having any prior data, how many respondents does the pollster need responses from to guarantee that she will get at most a 2% margin of error at the 95% confidence level? Be sure to **clearly** justify your reasoning.  \n",
    "\n",
    "**Hint**: Recall that when computing confidence intervals for proportions we use the actual sample proportions to approximate the variance.  How can you get a worst-case scenario estimate of the variance when the sample proportion is not known _a priori_? \n"
   ]
  },
  {
   "cell_type": "markdown",
   "metadata": {
    "collapsed": true
   },
   "source": [
    "The margin of error at the 95% confidence level is found with $1.96\\sqrt{\\frac{p(1-p)}{n}}$ where p is the sub sample proportion and n is the sample size (number of responses). If we want to minimize the margin of error to be at most 2%, we will have to find the n that will give at most 2% marginal error when p(1-p) is the greatest. There are no other variables so we just need to figure these out. Using algebra and calculus, we can find the maximum of the parabola p(1-p). p(1-p) is an upward curved parabola so the maximum is at the p where the derivative of p(1-p) is 0. \n",
    "$\\{p(1-p)\\}' = \\{p-p^2\\}' = 1-2p = 0$\n",
    "\n",
    "\n",
    "Therefore, the parabola's maximum is at p = 0.5.\n",
    "So all we have to do is find the n that satisfies $1.96\\sqrt{\\frac{0.5\\times0.5}{n}} \\le 0.02$\n",
    "\n",
    "\n",
    "\\begin{align}\n",
    "1.96\\sqrt{\\frac{0.5\\times0.5}{n}} &\\le 0.02 \\\\\n",
    "\\sqrt{\\frac{0.25}{n}} &\\le 0.010204081632\\\\\n",
    "\\frac{0.25}{n} &\\le 0.00010412328 \\\\\n",
    "2401.00004533 &\\le n\n",
    "\\end{align}\n",
    "\n",
    "So, we need at least 2402 responses to guarantee that the marginal error is at most 2% for the 95% confidence level."
   ]
  },
  {
   "cell_type": "markdown",
   "metadata": {},
   "source": [
    "### [15 points] Problem 3 - Have Opinions on Marijuana Legalization Changed? \n",
    "***\n",
    "\n",
    "The General Social Survey (GSS) has been collecting demographic, behavioral, and attitudinal information since 1972 to monitor changes within the US and to compare the US to other nations. Support for the legalization of marijuana in the US is shown for 2010 and in 2016 in the following table:\n",
    "\n",
    "\n",
    "\\begin{array}{cccc}\n",
    "\\hline\n",
    "\\textrm{Year} & \\textrm{Favor} & \\textrm{Oppose} & \\textrm{Total} \\\\ \n",
    "\\hline\n",
    "\\textrm{2010} & \\textrm{603} & \\textrm{656} & \\textrm{1259} \\\\\n",
    "\\textrm{2016} & \\textrm{1126} & \\textrm{717} & \\textrm{1843} \\\\\n",
    "\\hline\n",
    "\\end{array}\n",
    "\n",
    "\n",
    "**Part A**: Find a 95% confidence interval for the change in the proportion supporting marijuana legalization from 2010 to 2016. Use Python for all computations and show your work. "
   ]
  },
  {
   "cell_type": "code",
   "execution_count": 51,
   "metadata": {},
   "outputs": [
    {
     "name": "stdout",
     "output_type": "stream",
     "text": [
      "Confidence Interval: [0.0965557914398,0.167461892198]\n"
     ]
    }
   ],
   "source": [
    "n_10 = 1259\n",
    "n_16 = 1843\n",
    "p_10 = 603/n_10\n",
    "p_16 = 1126/n_16\n",
    "z_025 = 1.96*np.sqrt(p_10*(1-p_10)/n_10 + p_16*(1-p_16)/n_16)\n",
    "print(\"Confidence Interval: [\"+str(p_16-p_10-z_025)+\",\"+str(p_16-p_10+z_025)+\"]\")"
   ]
  },
  {
   "cell_type": "markdown",
   "metadata": {},
   "source": [
    "**Part B**: Is it likely that the proportion supporting marijuana legalization changed between 2010 and 2016? Justify your conclusion using the ideas of statistical inference and your results from **Part A**. "
   ]
  },
  {
   "cell_type": "markdown",
   "metadata": {
    "collapsed": true
   },
   "source": [
    "It is indeed likely that the proportion supporting marijuana legalization changed between 2010 and 2016. The 95% confidence interval from Part A shows that the lowest end of the interval is around 0.97. This is quite high above 0. The sample size is also very big, which gives me good confidence that the sample proportion is a good approximation of the population proportion."
   ]
  },
  {
   "cell_type": "markdown",
   "metadata": {},
   "source": [
    "### [20 points] Problem 4 - Exploring Confidence Intervals \n",
    "***\n",
    "\n",
    "The so-called [Chi-squared](https://en.wikipedia.org/wiki/Chi-squared_distribution) distribution is important in several statistical tests.  It's also fairly asymmetric, and thus interesting for investigating confidence intervals.  It is implemented in scipy.stats as [chi2](https://docs.scipy.org/doc/scipy-0.19.1/reference/generated/scipy.stats.chi2.html). \n"
   ]
  },
  {
   "cell_type": "code",
   "execution_count": 52,
   "metadata": {
    "collapsed": true
   },
   "outputs": [],
   "source": [
    "from scipy.stats import chi2"
   ]
  },
  {
   "cell_type": "markdown",
   "metadata": {},
   "source": [
    "**Part A**: Complete the following code cell to plot a histogram of realizations from the Chi-squared distribution with parameter $K=3$. "
   ]
  },
  {
   "cell_type": "code",
   "execution_count": 53,
   "metadata": {
    "scrolled": false
   },
   "outputs": [
    {
     "data": {
      "image/png": "[encoded data removed]",
      "text/plain": [
       "<matplotlib.figure.Figure at 0x7f4ac140f128>"
      ]
     },
     "metadata": {},
     "output_type": "display_data"
    }
   ],
   "source": [
    "k = 3 \n",
    "x = chi2.rvs(k, size=10000)\n",
    "fig, ax = plt.subplots(nrows=1, ncols=1, figsize=(12,6))\n",
    "ax.hist(x, histtype='stepfilled', alpha=0.2)\n",
    "plt.ylabel(\"Frequency\")\n",
    "plt.xlabel(\"Occuring number\")\n",
    "plt.title(\"Realiations from Chi-squared distribution with parameter K = 3\")\n",
    "plt.show()"
   ]
  },
  {
   "cell_type": "markdown",
   "metadata": {},
   "source": [
    "**Part B**: Look up the mean and variance of the Chi-squared distribution with parameter $k=3$ and report them here. "
   ]
  },
  {
   "cell_type": "code",
   "execution_count": 54,
   "metadata": {},
   "outputs": [
    {
     "name": "stdout",
     "output_type": "stream",
     "text": [
      "True Mean:  3.0 , True Variance:  6.0\n"
     ]
    }
   ],
   "source": [
    "true_mean = chi2.mean(k)\n",
    "true_var = chi2.var(k)\n",
    "print(\"True Mean: \", true_mean, \", True Variance: \", true_var)"
   ]
  },
  {
   "cell_type": "markdown",
   "metadata": {},
   "source": [
    "**Part C**: In this part you'll write a function to investigate the _coverage properties_ of a confidence interval for the mean of the Chi-squared distribution. Complete the following function to randomly sample $m=500$ sample means with sample size $n=100$ for the Chi-squared distribution with parameter $k=3$.  For each random sample, compute the 95% confidence interval for the mean.  Your function should do two things: \n",
    "\n",
    "1. Report the proportion of confidence intervals that successfully cover the true mean of the distribution \n",
    "2. Make a plot of 50 randomly selected confidence intervals. Overlay the intervals on the line $y=\\mu$ where $\\mu$ is the true mean of the distribution. Color confidence intervals black if they cover the true mean, and red if they don't.  "
   ]
  },
  {
   "cell_type": "code",
   "execution_count": 55,
   "metadata": {
    "scrolled": false
   },
   "outputs": [
    {
     "data": {
      "image/png": "[encoded data removed]",
      "text/plain": [
       "<matplotlib.figure.Figure at 0x7f4ac115fe80>"
      ]
     },
     "metadata": {},
     "output_type": "display_data"
    }
   ],
   "source": [
    "def confidence_intervals(m=500, n=100):\n",
    "    ci = []\n",
    "    cover = 0\n",
    "    for i in range(m):\n",
    "        x2 = chi2.rvs(k, size=n)\n",
    "        chi_mean = np.mean(x2)\n",
    "        chi_margin = 1.96*chi2.std(k)/np.sqrt(n)\n",
    "        if chi_mean - chi_margin <= true_mean and true_mean <= chi_mean + chi_margin:\n",
    "            cover = cover + 1\n",
    "        ci.append((chi_mean - chi_margin, chi_mean + chi_margin))\n",
    "    index = np.random.choice(m, 50, replace=False)\n",
    "    y = 1\n",
    "    for j in index:\n",
    "        if ci[j][0] <= true_mean and true_mean <= ci[j][1]:\n",
    "            plt.plot([ci[j][0],ci[j][1]], [y+1, y+1], color='black', linewidth=1.0)\n",
    "        else:\n",
    "            plt.plot([ci[j][0],ci[j][1]], [y+1, y+1], color='red', linewidth=1.0)\n",
    "        y = y + 1\n",
    "    plt.axvline(x=true_mean)    \n",
    "    plt.xlabel(\"Confidence intervals\")\n",
    "    plt.ylabel(\"Random Samples\")\n",
    "    plt.title(\"Plot of 50 random confidence intervals\")\n",
    "    plt.show()\n",
    "    \n",
    "confidence_intervals()"
   ]
  },
  {
   "cell_type": "markdown",
   "metadata": {},
   "source": [
    "**Part D**: Does the proportion of confidence intervals that cover the true mean of the distribution agree with the theory described in class?  Justify your conclusion. "
   ]
  },
  {
   "cell_type": "markdown",
   "metadata": {
    "collapsed": true
   },
   "source": [
    "In class we said that \"In repeated sampling, 95% of all CIs obtained from sampling will actually contain the true population mean\". We see in the graph 50 random confidence intervals from sampling. So, in theory, 47.5 of the confidence intervals should cover the true mean. After doing a couple runs, I saw that the number of confidence intervals that cover the true mean in the 50 random confidence intervals ranged from 6 to 0, averaging between 2 and 3. Therefore, this proportion agrees with the theory described in class."
   ]
  },
  {
   "cell_type": "markdown",
   "metadata": {},
   "source": [
    "### [20 points] Problem 5 - Bootstrapped Confidence Intervals \n",
    "***\n",
    "\n",
    "An important feature in online advertising is the so-called _dwell time_, or the amount of time that a user spends viewing a particular piece of content. The data in dwell_times.csv contains the dwell times (in minutes) for 500 randomly selected users viewing an article on a website.  \n"
   ]
  },
  {
   "cell_type": "markdown",
   "metadata": {},
   "source": [
    "**Part A**: Read in the data from dwell_times.csv and create a frequency histogram with 20 bins. "
   ]
  },
  {
   "cell_type": "code",
   "execution_count": 56,
   "metadata": {},
   "outputs": [
    {
     "data": {
      "image/png": "[encoded data removed]",
      "text/plain": [
       "<matplotlib.figure.Figure at 0x7f4ac4774710>"
      ]
     },
     "metadata": {},
     "output_type": "display_data"
    }
   ],
   "source": [
    "dfDwell = pd.read_csv(\"dwell_times.csv\")\n",
    "plt.hist(dfDwell[\"dwell time\"], bins = 20)\n",
    "plt.xlabel(\"Dwell Time(minutes)\")\n",
    "plt.ylabel(\"Frequency (number of users)\")\n",
    "plt.title(\"Frequency Histogram of Dwell Times of Users\")\n",
    "plt.show()"
   ]
  },
  {
   "cell_type": "markdown",
   "metadata": {},
   "source": [
    "**Part B**: Complete the function dwell_mean below to create an empirical bootstrapped confidence interval at the 95% confidence level for the mean dwell time.  Use at least 5000 bootstrap resamples. In addition to returning the confidence interval, your function should also plot a histogram of the bootstrap resample means, along with some graphical representation of the 95% confidence interval. "
   ]
  },
  {
   "cell_type": "code",
   "execution_count": 57,
   "metadata": {},
   "outputs": [
    {
     "data": {
      "text/plain": [
       "array([ 8.05712422,  8.86095124])"
      ]
     },
     "execution_count": 57,
     "metadata": {},
     "output_type": "execute_result"
    },
    {
     "data": {
      "image/png": "[encoded data removed]",
      "text/plain": [
       "<matplotlib.figure.Figure at 0x7f4ac0f8ddd8>"
      ]
     },
     "metadata": {},
     "output_type": "display_data"
    }
   ],
   "source": [
    "def dwell_mean(df, num_boots=5000, isPlot=False):\n",
    "    means = []\n",
    "    for i in range(num_boots):\n",
    "        means.append(np.mean(np.random.choice(df[\"dwell time\"], 500)))\n",
    "    L = np.percentile(means,2.5)\n",
    "    U = np.percentile(means,97.5)\n",
    "    CI = np.array([L, U])\n",
    "    \n",
    "    if isPlot: \n",
    "        # TODO plot histogram \n",
    "        fig, ax = plt.subplots(nrows=1, ncols=1, figsize=(12,6))\n",
    "        ax.hist(means, alpha=0.2)\n",
    "        CI_line, = ax.plot([L, U], [5, 5], 'k-', lw=2, color='blue')\n",
    "        CI_line.set_label('Confidence Interval')\n",
    "        plt.xlabel(\"Histogram of Bootstrap Resample Means\")\n",
    "        plt.ylabel(\"Frequency\")\n",
    "        plt.title(\"Bootstrap Means\")\n",
    "        ax.legend()\n",
    "    return CI \n",
    "dwell_mean(dfDwell, num_boots=5000, isPlot=True)"
   ]
  },
  {
   "cell_type": "markdown",
   "metadata": {},
   "source": [
    "**Part C**: Suppose you are told that the actual dwell times in dwell_times.csv were sampled from a [LogNormal]() distribution with parameters $\\mu=2$ and $\\sigma^2 = \\frac{1}{4}$. Go to the linked Wiki page and read about the LogNormal distribution.  Then compute the exact **mean**, **median**, and **standard deviation** of the distribution for the given parameters and report them here. "
   ]
  },
  {
   "cell_type": "markdown",
   "metadata": {
    "collapsed": true
   },
   "source": [
    "The mean is found using the equation: exp($\\mu + \\frac{\\sigma ^2}{2}$). $\\mu=2$ and $\\sigma^2 = \\frac{1}{4}$ so exp(2 + $\\frac{1}{8}$) = exp($\\frac{17}{8}$) = $e^\\frac{17}{8}$\n",
    "\n",
    "The median is found using the equation: exp($\\mu$). So, the median is $e^2$\n",
    "\n",
    "The standard deviation is found using the equation: $\\sqrt{[\\exp(\\sigma^2)-1] \\exp(2\\mu+\\sigma^2)}$. So, the standard deviation is $\\sqrt{(e^\\frac{1}{8} - 1) \\times e^\\frac{33}{8}}$ = $\\sqrt{e^\\frac{34}{8}-e^\\frac{33}{8}}$"
   ]
  },
  {
   "cell_type": "markdown",
   "metadata": {},
   "source": [
    "**Part D**: Use the true standard deviation of the distribution to compute a traditional 95% confidence interval for the sample mean of the dwell time data.  Compare the traditional 95% confidence interval to the bootstrapped 95% confidence interval. Do both confidence intervals cover the true mean?  Do both confidence intervals have roughly the same width?   "
   ]
  },
  {
   "cell_type": "code",
   "execution_count": 58,
   "metadata": {},
   "outputs": [
    {
     "name": "stdout",
     "output_type": "stream",
     "text": [
      "Traditional 95% confidence interval of mean: [ 8.24030185113638 , 8.6499785282886 ]\n",
      "True Mean:  8.44514018971249\n"
     ]
    }
   ],
   "source": [
    "upper = float(np.mean(dfDwell[\"dwell time\"]) + np.std(dfDwell[\"dwell time\"])/np.sqrt(dfDwell.count()))\n",
    "lower = float(np.mean(dfDwell[\"dwell time\"]) - np.std(dfDwell[\"dwell time\"])/np.sqrt(dfDwell.count()))\n",
    "print(\"Traditional 95% confidence interval of mean: [\", str(lower), \",\",str(upper),\"]\")\n",
    "print(\"True Mean: \", np.mean(dfDwell[\"dwell time\"]))"
   ]
  },
  {
   "cell_type": "markdown",
   "metadata": {},
   "source": [
    "Both confidence intervals cover the true mean. However, the bootstrapped confidence interval is slightly wider in width. This shows that the bootstrapped interval will be more accurate than the traditional confidence interval."
   ]
  },
  {
   "cell_type": "markdown",
   "metadata": {},
   "source": [
    "**Part E**: Complete the function dwell_stdev below to create an empirical bootstrapped confidence interval at the 95% confidence level for the standard deviation of dwell time.  Use at least 5000 bootstrapped resamples. In addition to returning the confidence interval, your function should also plot a histogram of the bootstrap resample standard deviations including some graphical indication of the 95% confidence interval.  "
   ]
  },
  {
   "cell_type": "code",
   "execution_count": 59,
   "metadata": {},
   "outputs": [
    {
     "data": {
      "text/plain": [
       "array([ 4.04683019,  5.11798782])"
      ]
     },
     "execution_count": 59,
     "metadata": {},
     "output_type": "execute_result"
    },
    {
     "data": {
      "image/png": "[encoded data removed]",
      "text/plain": [
       "<matplotlib.figure.Figure at 0x7f4ac0fd0358>"
      ]
     },
     "metadata": {},
     "output_type": "display_data"
    }
   ],
   "source": [
    "def dwell_stdev(df, num_boots=5000, isPlot=False):\n",
    "    stds = []\n",
    "    for i in range(num_boots):\n",
    "        stds.append(np.std(np.random.choice(df[\"dwell time\"], 500)))\n",
    "    L = np.percentile(stds,2.5)\n",
    "    U = np.percentile(stds,97.5)\n",
    "    CI = np.array([L, U])\n",
    "    \n",
    "    if isPlot: \n",
    "        # TODO plot histogram \n",
    "        fig, ax = plt.subplots(nrows=1, ncols=1, figsize=(12,6))\n",
    "        ax.hist(stds, alpha=0.2)\n",
    "        CI_line, = ax.plot([L, U], [5, 5], 'k-', lw=2, color='blue')\n",
    "        CI_line.set_label('Confidence Interval')\n",
    "        plt.xlabel(\"Histogram of Bootstrap Resample Standard Deviation\")\n",
    "        plt.ylabel(\"Frequency\")\n",
    "        plt.title(\"Bootstrap Standard Deviations\")\n",
    "        ax.legend()\n",
    "    return CI \n",
    "dwell_stdev(dfDwell, num_boots=5000, isPlot=True)"
   ]
  },
  {
   "cell_type": "markdown",
   "metadata": {},
   "source": [
    "**Part F**: Does the true standard deviation of the distribution fall inside your 95% bootstrapped confidence interval? "
   ]
  },
  {
   "cell_type": "code",
   "execution_count": 60,
   "metadata": {},
   "outputs": [
    {
     "name": "stdout",
     "output_type": "stream",
     "text": [
      "True standard deviation:  4.58032449454299\n"
     ]
    }
   ],
   "source": [
    "print(\"True standard deviation: \", np.std(dfDwell[\"dwell time\"]))"
   ]
  },
  {
   "cell_type": "markdown",
   "metadata": {},
   "source": [
    "The true standard deviation falls inside my 95% bootstrapped confidence interval."
   ]
  },
  {
   "cell_type": "markdown",
   "metadata": {},
   "source": [
    "**Part G**: Complete the function dwell_med below to create an empirical bootstrapped confidence interval at the 95% confidence level for the median dwell time.  Use at least 5000 bootstrap resamples. In addition to returning the confidence interval, your function should also plot a histogram of the bootstrap resample medians including some graphical indication of the 95% confidence interval.  "
   ]
  },
  {
   "cell_type": "code",
   "execution_count": 61,
   "metadata": {},
   "outputs": [
    {
     "data": {
      "text/plain": [
       "array([ 7.04544084,  8.03335217])"
      ]
     },
     "execution_count": 61,
     "metadata": {},
     "output_type": "execute_result"
    },
    {
     "data": {
      "image/png": "[encoded data removed]",
      "text/plain": [
       "<matplotlib.figure.Figure at 0x7f4ac0f8df28>"
      ]
     },
     "metadata": {},
     "output_type": "display_data"
    }
   ],
   "source": [
    "def dwell_med(df, num_boots=5000, isPlot=False):\n",
    "    meds = []\n",
    "    for i in range(num_boots):\n",
    "        meds.append(np.median(np.random.choice(df[\"dwell time\"], 500)))\n",
    "    L = np.percentile(meds,2.5)\n",
    "    U = np.percentile(meds,97.5)\n",
    "    CI = np.array([L, U])\n",
    "    \n",
    "    if isPlot: \n",
    "        # TODO plot histogram \n",
    "        fig, ax = plt.subplots(nrows=1, ncols=1, figsize=(12,6))\n",
    "        ax.hist(meds, alpha=0.2)\n",
    "        CI_line, = ax.plot([L, U], [5, 5], 'k-', lw=2, color='blue')\n",
    "        CI_line.set_label('Confidence Interval')\n",
    "        plt.xlabel(\"Histogram of Bootstrap Resample Medians\")\n",
    "        plt.ylabel(\"Frequency\")\n",
    "        plt.title(\"Bootstrap Medians\")\n",
    "        ax.legend()\n",
    "    return CI \n",
    "dwell_med(dfDwell, num_boots=5000, isPlot=True)"
   ]
  },
  {
   "cell_type": "markdown",
   "metadata": {},
   "source": [
    "**Part H**: Does the true median of the distribution fall inside your 95% bootstrapped confidence interval? "
   ]
  },
  {
   "cell_type": "code",
   "execution_count": 62,
   "metadata": {},
   "outputs": [
    {
     "name": "stdout",
     "output_type": "stream",
     "text": [
      "True median:  7.51162298914\n"
     ]
    }
   ],
   "source": [
    "print(\"True median: \", np.median(dfDwell[\"dwell time\"]))"
   ]
  },
  {
   "cell_type": "markdown",
   "metadata": {},
   "source": [
    "The true median falls inside my 95% bootstrapped confidence interval."
   ]
  },
  {
   "cell_type": "markdown",
   "metadata": {},
   "source": [
    "### [15 points] Problem 6 - Autograding Simulation Homework \n",
    "***\n",
    "\n",
    "Suppose that you are the grader for an Introduction to Data Science course and your boss has asked you to write an autograder for a homework problem on simulation.  Specifically, students have been asked to write a simulation to estimate the expected number of rolls it will take until doubles are rolled with a pair of fair, six-sided dice (i.e. until both dice show the same value).  The students have been asked to structure their code so that it runs many trials of the experiment and returns the sample mean of the trials, as well as an array containing the result of each individual trial. \n",
    "\n",
    "The solutions submitted by three students in the course are given below. "
   ]
  },
  {
   "cell_type": "code",
   "execution_count": 63,
   "metadata": {
    "collapsed": true
   },
   "outputs": [],
   "source": [
    "def student1(num_trials=5000):\n",
    "    t = np.zeros(num_trials)\n",
    "    for ii in range(num_trials):\n",
    "        ctr = 0\n",
    "        while np.random.choice([1,2,3,4,5,6]) != np.random.choice([1,2,3,4,5,6]):\n",
    "            ctr += 1 \n",
    "        t[ii] = ctr \n",
    "    return np.mean(t), t\n",
    "\n",
    "def student2(num_trials=5000):\n",
    "    t = np.zeros(num_trials)\n",
    "    for ii in range(num_trials):\n",
    "        ctr = 1\n",
    "        while int(6*np.random.uniform(0,1)+1) != int(6*np.random.uniform(0,1)+1):\n",
    "            ctr += 1 \n",
    "        t[ii] = ctr \n",
    "    return np.mean(t), t\n",
    "\n",
    "def student3(num_trials=5000):\n",
    "    t = np.random.exponential(6, size=num_trials)\n",
    "    return np.mean(t), t "
   ]
  },
  {
   "cell_type": "markdown",
   "metadata": {},
   "source": [
    "Now, you landed this job at the last minute, and your probability theory is a little rusty.  Luckily, your boss has given you her solution to the problem which is shown below: "
   ]
  },
  {
   "cell_type": "code",
   "execution_count": 64,
   "metadata": {},
   "outputs": [
    {
     "data": {
      "text/plain": [
       "(6.0838000000000001, array([7, 3, 8, ..., 3, 6, 1]))"
      ]
     },
     "execution_count": 64,
     "metadata": {},
     "output_type": "execute_result"
    }
   ],
   "source": [
    "def prof(num_trials=5000):\n",
    "    t = np.random.geometric(1/6, size=num_trials)\n",
    "    return np.mean(t), t\n",
    "prof()"
   ]
  },
  {
   "cell_type": "markdown",
   "metadata": {},
   "source": [
    "Knowing that your probability theory is rusty, your boss has suggested that your autograder be constructed solely based on confidence intervals to compare the students' estimates of the expected value of the experiment to her own estimate.  Finally, although there are only examples from three students above, there are actually more than 100 students in the course, so tailoring your tests to features of individual students' code is out of the question. \n",
    "\n",
    "**Part A**: Complete the function autograder below, which takes in the realizations of the trials from your professor's code and one of the students' codes, as well as the $\\alpha$ for a $100(1-\\alpha)\\%$ confidence interval and returns a string indicating whether the student passed or failed the test. **Clearly** indicate what statistical test(s) your autograder is using and why this is a good idea.  Then demonstrate the use of your autograder to grade the three student solutions above based on a 95% confidence level. "
   ]
  },
  {
   "cell_type": "code",
   "execution_count": 65,
   "metadata": {},
   "outputs": [
    {
     "name": "stdout",
     "output_type": "stream",
     "text": [
      "Student 1 Failed\n",
      "Student 2 Passed\n",
      "Student 3 Passed\n"
     ]
    }
   ],
   "source": [
    "from scipy.stats import norm\n",
    "def autograder(pf, st, alpha=0.05):\n",
    "    mean, answer = prof()\n",
    "    student = st()[0]\n",
    "    z = norm.ppf(1-alpha/2)\n",
    "    upper = mean + z*np.std(answer)/np.sqrt(len(answer))\n",
    "    lower = mean - z*np.std(answer)/np.sqrt(len(answer))\n",
    "    if lower <= student <= upper:\n",
    "        return \"Passed\"\n",
    "    else:\n",
    "        return \"Failed\"\n",
    "print(\"Student 1\", autograder(pf=prof,st=student1))\n",
    "print(\"Student 2\", autograder(pf=prof,st=student2))\n",
    "print(\"Student 3\", autograder(pf=prof,st=student3))"
   ]
  },
  {
   "cell_type": "markdown",
   "metadata": {},
   "source": [
    "The method I used is to find the traditional 95% confidence interval of the mean from the teacher's solution. Then I checked to find if the function from each student calculated a mean that fell into the confidence interval. This would make sense because it wouldn't be fair to simply do an exact comparison with the teacher's mean because this is a simulation, so the exact same results will not often be duplicated. Therefore, we need to set a specific range for possible answers. Using this statistic method to create a valid range, we can check to see if the function calculates the mean correctly."
   ]
  },
  {
   "cell_type": "markdown",
   "metadata": {},
   "source": [
    "**[Extra Credit] Part B**: You realize that tests based solely on the estimate of the mean are not robust.  Come up with a better autograder that, again using tests based on confidence intervals, compares the students' solutions to the professor's solutions on statistical properties beyond just the mean. Again, **clearly** motivate the features of your autograder based on theory developed in class.    "
   ]
  },
  {
   "cell_type": "code",
   "execution_count": 66,
   "metadata": {},
   "outputs": [
    {
     "name": "stdout",
     "output_type": "stream",
     "text": [
      "Student 1 Failed\n",
      "Student 2 Passed\n",
      "Student 3 Failed\n"
     ]
    }
   ],
   "source": [
    "def autograder(pf, st, alpha=0.05):\n",
    "    answer = prof()[1]\n",
    "    student = st()[1]\n",
    "    means = []\n",
    "    stds= []\n",
    "    meds = []\n",
    "    pass_means = False\n",
    "    pass_stds = False\n",
    "    pass_meds = False\n",
    "    for i in range(500):\n",
    "        meds.append(np.median(np.random.choice(answer, len(answer))))\n",
    "        stds.append(np.std(np.random.choice(answer, len(answer))))\n",
    "        means.append(np.mean(np.random.choice(answer, len(answer))))\n",
    "    L_meds = np.percentile(meds,alpha/2)\n",
    "    U_meds = np.percentile(meds,100-alpha/2)\n",
    "    L_stds = np.percentile(stds,alpha/2)\n",
    "    U_stds = np.percentile(stds,100-alpha/2)\n",
    "    L_means = np.percentile(means,alpha/2)\n",
    "    U_means = np.percentile(means,100-alpha/2)\n",
    "    if L_meds <= np.median(student) <= U_meds:\n",
    "        pass_meds = True\n",
    "    if L_means <= np.mean(student) <= U_means:\n",
    "        pass_means = True\n",
    "    if L_stds <= np.std(student) <= U_stds:\n",
    "        pass_stds = True\n",
    "    # TODO \n",
    "    if pass_meds and pass_means and pass_stds:\n",
    "        return \"Passed\"\n",
    "    else:\n",
    "        return \"Failed\"\n",
    "print(\"Student 1\", autograder(pf=prof,st=student1))\n",
    "print(\"Student 2\", autograder(pf=prof,st=student2))\n",
    "print(\"Student 3\", autograder(pf=prof,st=student3))"
   ]
  },
  {
   "cell_type": "markdown",
   "metadata": {},
   "source": [
    "Unfortunately, just checking the mean does not let us know if the actual distribution mimics that of the professor's solution. A student could have hardcoded an array and got lucky. Instead, we can use bootstrapping to figure out a 95% confidence interval for the standard deviation and median for the professor's answer as well. Then we can see if the student's trials' standard deviation and median fit in these confidence intervals as well. Only if all three statistic evaluations match can we give the student a passing grade on the function."
   ]
  }
 ],
 "metadata": {
  "kernelspec": {
   "display_name": "Python 3",
   "language": "python",
   "name": "python3"
  },
  "language_info": {
   "codemirror_mode": {
    "name": "ipython",
    "version": 3
   },
   "file_extension": ".py",
   "mimetype": "text/x-python",
   "name": "python",
   "nbconvert_exporter": "python",
   "pygments_lexer": "ipython3",
   "version": "3.5.4"
  }
 },
 "nbformat": 4,
 "nbformat_minor": 2
}
