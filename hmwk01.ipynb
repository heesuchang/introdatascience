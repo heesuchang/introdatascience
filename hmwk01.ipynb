{
 "cells": [
  {
   "cell_type": "markdown",
   "metadata": {},
   "source": [
    "# Homework 1: Data Cleaning and Exploratory Data Analysis \n",
    "***\n",
    "\n",
    "**Name**: Hee Su Chang\n",
    "\n",
    "**Section**: (001 or 002)\n",
    "***\n",
    "\n",
    "This assignment is due on Moodle by **5pm on Friday September 15th**. Your solutions to theoretical questions should be done in Markdown directly below the associated question.  Your solutions to computational questions should include any specified Python code and results as well as written commentary on your conclusions.  Remember that you are encouraged to discuss the problems with your classmates, but **you must write all code and solutions on your own**.   \n",
    "\n",
    "**NOTES**: \n",
    "\n",
    "- Unless a url is given for a data set, you will find the required data in the same directory as this assignment on GitHub.\n",
    "- If you're not familiar with typesetting math directly into Markdown then by all means, do your work on paper first and then typeset it later.  Remember that there is a [reference guide](https://math.meta.stackexchange.com/questions/5020/mathjax-basic-tutorial-and-quick-reference) linked on Piazza on writing math in Markdown. \n",
    "- It is **bad form** to make your reader interpret numerical output from your code.  If a question asks you to compute some value from the data you should show your code output **AND** write a summary of the results in Markdown directly below your code. \n",
    "\n"
   ]
  },
  {
   "cell_type": "code",
   "execution_count": 1,
   "metadata": {},
   "outputs": [
    {
     "name": "stderr",
     "output_type": "stream",
     "text": [
      "/home/nbuser/anaconda3_410/lib/python3.5/site-packages/matplotlib/font_manager.py:273: UserWarning: Matplotlib is building the font cache using fc-list. This may take a moment.\n",
      "  warnings.warn('Matplotlib is building the font cache using fc-list. This may take a moment.')\n",
      "/home/nbuser/anaconda3_410/lib/python3.5/site-packages/matplotlib/font_manager.py:273: UserWarning: Matplotlib is building the font cache using fc-list. This may take a moment.\n",
      "  warnings.warn('Matplotlib is building the font cache using fc-list. This may take a moment.')\n"
     ]
    }
   ],
   "source": [
    "import pandas as pd\n",
    "import numpy as np\n",
    "import matplotlib.pylab as plt\n",
    "%matplotlib inline"
   ]
  },
  {
   "cell_type": "markdown",
   "metadata": {},
   "source": [
    "### Problem 1 \n",
    "***\n",
    "\n",
    "An owner of a taxi company wants to estimate his fleet's average fuel economy over the next year in order to estimate the company's future fuel costs.  His fleet of taxis is made up of 100 Crown Victorias, 50 Toyota Priuses, and 50 Ford Escapes.  The owner randomly selects 12 vehicles from his vehicle registration rolls and tracks their fuel usage in miles per gallon over the next week.  So as to get a proper estimate, he intentionally selects 6 Crown Vics, 3 Priuses, and 3 Escapes to track. \n",
    "\n",
    "Identify the following: \n",
    "\n",
    "- the population \n",
    "- the sample frame \n",
    "- the sample \n",
    "- the type of sample \n",
    "- the quantity of interest "
   ]
  },
  {
   "cell_type": "markdown",
   "metadata": {
    "collapsed": true
   },
   "source": [
    "Population: Fleet of taxis (200 taxis) \n",
    "\n",
    "Sample Frame: Vehicle registration rolls\n",
    "\n",
    "Sample: 6 Crown Vics, 3 Priuses, 3 Escapes \n",
    "\n",
    "Type of Sample: Stratified Sample (Random)\n",
    "\n",
    "Quantity of Interest: 12 Vehicles \n"
   ]
  },
  {
   "cell_type": "markdown",
   "metadata": {},
   "source": [
    "###### Problem 2 \n",
    "***\n",
    "\n",
    "A method to investigate the sensitivity of the sample mean and the sample median to extreme outliers is to replace one or more elements in a given dataset by a number $y$ and investigate the eﬀect when $y$ goes to inﬁnity. To illustrate this, consider the dataset\n",
    "\n",
    "$$\n",
    "4.6 \\quad \n",
    "3.0 \\quad \n",
    "3.2 \\quad\n",
    "4.2 \\quad\n",
    "5.0\n",
    "$$\n",
    "\n",
    "with sample mean $4$ and sample median $4.2$. \n",
    "\n",
    "**Part A**: We replace the element $3.2$ by some real number $y$. What happens with the sample mean and the sample median of this new dataset as $y \\rightarrow \\infty$?\n"
   ]
  },
  {
   "cell_type": "markdown",
   "metadata": {
    "collapsed": true
   },
   "source": [
    "The sample mean also goes to $\\infty$\n",
    "\n",
    "The sample median becomes 4.6\n"
   ]
  },
  {
   "cell_type": "markdown",
   "metadata": {},
   "source": [
    "**Part B**: We replace a number of elements by some real number $y$. How many elements do we need to replace so that the sample median of the new dataset goes to infinity as $y \\rightarrow \\infty$?"
   ]
  },
  {
   "cell_type": "markdown",
   "metadata": {
    "collapsed": true
   },
   "source": [
    "3"
   ]
  },
  {
   "cell_type": "markdown",
   "metadata": {},
   "source": [
    "**Part C**: Suppose we have another data set of size $n$. How many elements do we need to replace by some real number $y$, so that the sample mean of the new dataset goes to infinity as $y \\rightarrow \\infty$? And how many elements do we need to replace, so that the sample median of the new dataset goes to infinity? "
   ]
  },
  {
   "cell_type": "markdown",
   "metadata": {
    "collapsed": true
   },
   "source": [
    "To make the sample mean of the new dataset go to infinity, we only need to replace 1 element by some real number y where y  $y \\rightarrow \\infty$ since any number of finite numbers added to $\\infty$ will be $\\infty$. $\\infty$ divided by any finite number (such as the data set size n) is also still $\\infty$.\n",
    "\n",
    "To make the sample median of the new dataset go to infinty, we need to replace at least n/2 elements with y where $y \\rightarrow \\infty$. This is the median is either the middle most element (n/2 position in even count ordered list of elements) or the mean of the two middle most elements (in odd count ordered list of elements)."
   ]
  },
  {
   "cell_type": "markdown",
   "metadata": {},
   "source": [
    "### Problem 3 \n",
    "***\n",
    "\n",
    "Let $x_1, x_2, \\ldots, x_n$ be $n$ observations of a variable of interest.  Recall that the sample mean $\\bar{x}_n$ and sample variance $s^2_n$ are given by \n",
    "\n",
    "$$\n",
    "\\bar{x}_n = \\frac{1}{n}\\sum_{k=1}^n x_k \\quad \\textrm{and} \\quad s^2_n = \\frac{1}{n-1}\\sum_{k=1}^n \\left( x_k - \\bar{x}_n\\right)^2\n",
    "$$\n",
    "\n",
    "where here the subscript $n$'s indicate the number of observations in the sample. Notice that a natural computation of the variance requires two passes over the data: one to compute the mean, and a second to subtract the mean from each observation and compute the sum of squares. It is often useful to be able to compute the variance in a single pass, inspecting each value $x_k$ only once; for example, when the data are being collected without enough storage to keep all the values, or when costs of memory access dominate those of computation. In this problem you will explore two methods for such an _online_ computation of the mean and variance.  \n",
    "\n",
    "**Part A**: Show algebraically that the following relation holds between the mean of the first $n-1$ observations and the mean of all $n$ observations: \n",
    "\n",
    "$$\n",
    "\\bar{x}_n = \\bar{x}_{n-1} + \\frac{x_n - \\bar{x}_{n-1}}{n}\n",
    "$$"
   ]
  },
  {
   "cell_type": "markdown",
   "metadata": {
    "collapsed": true
   },
   "source": [
    "We can rewrite the above according to the summation definition.\n",
    "\n",
    "$$\n",
    "\\begin{align}\n",
    "\\bar{x}_n &= \\bar{x}_{n-1} + \\frac{x_n - \\bar{x}_{n-1}}{n} \\\\\\\\\n",
    "&= \\frac{1}{n-1}\\sum_{k=1}^{n-1} x_k \\\\\\\\\n",
    "&= \\frac{1}{n-1}(x_1+x_2+ ⋅⋅⋅ +x_n-1) + \\frac{x_n-\\frac{1}{n-1}(x_1+x_2+ ⋅⋅⋅ +x_n-1)}{n} \\\\\\\\\n",
    "&= \\frac{1}{n}\\{\\frac{n}{n-1}(x_1+x_2+ ⋅⋅⋅ +x_n-1) + x_n - \\frac{1}{n-1}(x_1+x_2+ ⋅⋅⋅ +x_n-1)\\} \\\\\\\\\n",
    "&= \\frac{1}{n}\\{\\frac{n-1}{n-1}(x_1+x_2+ ⋅⋅⋅ +x_n-1) + x_n\\} \\\\\\\\\n",
    "&= \\frac{1}{n}\\{(x_1+x_2+ ⋅⋅⋅ +x_n-1) + x_n\\} \\\\\\\\\n",
    "&= \\frac{1}{n}\\{(x_1+x_2+ ⋅⋅⋅ +x_n-1+x_n)\\} \\\\\\\\\n",
    "&= \\frac{(x_1+x_2+ ⋅⋅⋅ +x_n-1+x_n)}{n} \\\\\\\\\n",
    "&= \\frac{1}{n}\\sum_{k=1}^n x_k \\\\\\\\\n",
    "&= \\bar{x}_n\n",
    "\\end{align}\n",
    "$$\n",
    "\n",
    "Therefore, we can prove the relation holds between the mean of the first $n-1$ observations and the mean of all $n$ observations by showing that it can be simplified into an equation we know is true."
   ]
  },
  {
   "cell_type": "markdown",
   "metadata": {},
   "source": [
    "**Part B**: Show algebraically that the following relation holds between the variance of the first $n-1$ observations and the variance of all $n$ observations: \n",
    "\n",
    "$$\n",
    "s^2_n = \\frac{(n-2)}{(n-1)}s^2_{n-1} + \\frac{(x_n - \\bar{x}_{n-1})^2}{n}\n",
    "$$"
   ]
  },
  {
   "cell_type": "code",
   "execution_count": null,
   "metadata": {
    "collapsed": true
   },
   "outputs": [],
   "source": []
  },
  {
   "cell_type": "markdown",
   "metadata": {},
   "source": [
    "**Part C**: It turns out that in some scenarios the variance calculation in **Part B** can suffer from numerical instability (that is, due to round-off errors and finite precision arithmetic, the algorithm can return garbage).  A better method is to update the sum of squares term incrementally and then divide by $n-1$ at the end.  Define the sum of squares with $n$ observations as $\n",
    "M_n = \\sum_{k=1}^n (x_k - \\bar{x}_n)^2$. We can then compute the sample variance as $s_n^2 = M_n/(n-1)$.\n",
    "\n",
    "Show algebraically that the following relation holds between the sum of squares with $n-1$ observations and the sum of squares with all $n$ observations: \n",
    "\n",
    "$$\n",
    "M_n = M_{n-1} + (x_n - \\bar{x}_{n-1})(x_n - \\bar{x}_n)\n",
    "$$"
   ]
  },
  {
   "cell_type": "markdown",
   "metadata": {
    "collapsed": true
   },
   "source": [
    "$$\n",
    "\\begin{align}\n",
    "M_n - M_{n-1} &= (x_n - \\bar{x}_{n-1})(x_n - \\bar{x}_n) \\\\\n",
    "\\sum_{k=1}^n (x_k - \\bar{x}_n)^2 - \\sum_{k=1}^{n-1} (x_k - \\bar{x}_n)^2 &= (x_n - \\bar{x}_{n-1})(x_n - \\bar{x}_n) \\\\\n",
    "\\sum_{k=1}^n (x_k - \\bar{x}_n)^2 - (x_k - \\bar{x}_{n-1})^2 &= (x_n - \\bar{x}_{n-1})(x_n - \\bar{x}_n) - (x_n - \\bar{x}_{n-1})^2 \\\\\n",
    "\\sum_{k=1}^n -2x_k(\\bar{x}_n - \\bar{x}_{n-1}) + (\\bar{x}_n)^2 - (\\bar{x}_{n-1})^2 &= (x_n - \\bar{x}_{n-1})(x_n - \\bar{x}_n) - (x_n - \\bar{x}_{n-1})^2 \\\\\n",
    "\\sum_{k=1}^n -2x_k(\\bar{x}_{n-1} + \\frac{x_n - \\bar{x}_{n-1}}{n} - \\bar{x}_{n-1}) + (\\bar{x}_n)^2 - (\\bar{x}_{n-1})^2 &= (x_n - \\bar{x}_{n-1})(x_n - \\bar{x}_n) - (x_n - \\bar{x}_{n-1})^2 \\\\\n",
    "\\frac{-2x_n}{n}\\sum_{k=1}^{n} x_k + \\frac{2\\bar{x}_{n-1}}{n}\\sum_{k=1}^{n} x_k + \\sum_{k=1}^{n} ((\\bar{x}_n)^2 - (\\bar{x}_{n-1})^2) &= (x_n - \\bar{x}_{n-1})(x_n - \\bar{x}_n) - (x_n - \\bar{x}_{n-1})^2 \\\\\n",
    "-2x_n\\bar{x}_n + 2\\bar{x}_n\\bar{x}_{n-1} + n(\\bar{x}_{n})^2 - n(\\bar{x}_{n-1})^2 &= (x_n - \\bar{x}_{n-1})(x_n - \\bar{x}_n) - (x_n - \\bar{x}_{n-1})^2 \\\\\n",
    "-2x_n\\bar{x}_n + 2\\bar{x}_n\\bar{x}_{n-1} + n(\\bar{x}_{n})^2 - n(\\bar{x}_{n-1})^2 &= (x_n)^2 - x_n\\bar{x}_{n} - x_n\\bar{x}_{n-1} + \\bar{x}_n\\bar{x}_{n-1} - (x_n)^2 + 2x_n\\bar{x}_{n-1} - (\\bar{x}_{n-1})^2 \\\\\n",
    "-x_n\\bar{x}_n + \\bar{x}_n\\bar{x}_{n-1} + n(\\bar{x}_{n})^2 - n(\\bar{x}_{n-1})^2 &= (x_n)^2 - x_n\\bar{x}_{n-1}  - (x_n)^2 + 2x_n\\bar{x}_{n-1} - (\\bar{x}_{n-1})^2 \\\\\n",
    "-x_n\\bar{x}_n + \\bar{x}_n\\bar{x}_{n-1} + n\\bar{x}_n\\bar{x}_{n-1} + x_n\\bar{x}_n - \\bar{x}_n\\bar{x}_{n-1} - n(\\bar{x}_{n-1})^2 &= (x_n)^2 - x_n\\bar{x}_{n-1}  - (x_n)^2 + 2x_n\\bar{x}_{n-1} - (\\bar{x}_{n-1})^2 \\\\\n",
    "n\\bar{x}_n\\bar{x}_{n-1} - n(\\bar{x}_{n-1})^2 &= x_n\\bar{x}_{n-1} - (\\bar{x}_{n-1})^2 \\\\\n",
    "n(\\bar{x}_{n-1})^2 + x_n\\bar{x}_{n-1} - (\\bar{x}_{n-1})^2 - n(\\bar{x}_{n-1})^2 &= x_n\\bar{x}_{n-1} - (\\bar{x}_{n-1})^2 \\\\\n",
    "0 &= 0\n",
    "\\end{align}\n",
    "$$"
   ]
  },
  {
   "cell_type": "markdown",
   "metadata": {},
   "source": [
    "**Informative But Not Required**: Write a Python function that implements the online variance computation in **Part C** and  requires only one pass over the data. "
   ]
  },
  {
   "cell_type": "markdown",
   "metadata": {},
   "source": [
    "### Problem 4\n",
    "*** \n",
    "Some claim that the final hours aboard the RMS Titanic were marked by class warfare; others claim it was characterized by male chivalry.  We have the data on survival rates by class and by sex, so let's figure out whether there is evidence for these scenarios. Access the titanic data in titanic_data.csv and store it in a Pandas DataFrame. The data contains information pertaining to class status (**Pclass**), survival of passengers (**Survived**), and gender (**Sex**), among others.  "
   ]
  },
  {
   "cell_type": "code",
   "execution_count": 4,
   "metadata": {
    "scrolled": true
   },
   "outputs": [
    {
     "data": {
      "text/html": [
       "<div>\n",
       "<table border=\"1\" class=\"dataframe\">\n",
       "  <thead>\n",
       "    <tr style=\"text-align: right;\">\n",
       "      <th></th>\n",
       "      <th>PassengerId</th>\n",
       "      <th>Survived</th>\n",
       "      <th>Pclass</th>\n",
       "      <th>Name</th>\n",
       "      <th>Sex</th>\n",
       "      <th>Age</th>\n",
       "      <th>SibSp</th>\n",
       "      <th>Parch</th>\n",
       "      <th>Ticket</th>\n",
       "      <th>Fare</th>\n",
       "      <th>Embarked</th>\n",
       "    </tr>\n",
       "  </thead>\n",
       "  <tbody>\n",
       "    <tr>\n",
       "      <th>0</th>\n",
       "      <td>1</td>\n",
       "      <td>0</td>\n",
       "      <td>3</td>\n",
       "      <td>Braund, Mr. Owen Harris</td>\n",
       "      <td>male</td>\n",
       "      <td>22.0</td>\n",
       "      <td>1</td>\n",
       "      <td>0</td>\n",
       "      <td>A/5 21171</td>\n",
       "      <td>7.2500</td>\n",
       "      <td>S</td>\n",
       "    </tr>\n",
       "    <tr>\n",
       "      <th>1</th>\n",
       "      <td>2</td>\n",
       "      <td>1</td>\n",
       "      <td>1</td>\n",
       "      <td>Cumings, Mrs. John Bradley (Florence Briggs Th...</td>\n",
       "      <td>female</td>\n",
       "      <td>38.0</td>\n",
       "      <td>1</td>\n",
       "      <td>0</td>\n",
       "      <td>PC 17599</td>\n",
       "      <td>71.2833</td>\n",
       "      <td>C</td>\n",
       "    </tr>\n",
       "    <tr>\n",
       "      <th>2</th>\n",
       "      <td>3</td>\n",
       "      <td>1</td>\n",
       "      <td>3</td>\n",
       "      <td>Heikkinen, Miss. Laina</td>\n",
       "      <td>female</td>\n",
       "      <td>26.0</td>\n",
       "      <td>0</td>\n",
       "      <td>0</td>\n",
       "      <td>STON/O2. 3101282</td>\n",
       "      <td>7.9250</td>\n",
       "      <td>S</td>\n",
       "    </tr>\n",
       "    <tr>\n",
       "      <th>3</th>\n",
       "      <td>4</td>\n",
       "      <td>1</td>\n",
       "      <td>1</td>\n",
       "      <td>Futrelle, Mrs. Jacques Heath (Lily May Peel)</td>\n",
       "      <td>female</td>\n",
       "      <td>35.0</td>\n",
       "      <td>1</td>\n",
       "      <td>0</td>\n",
       "      <td>113803</td>\n",
       "      <td>53.1000</td>\n",
       "      <td>S</td>\n",
       "    </tr>\n",
       "    <tr>\n",
       "      <th>4</th>\n",
       "      <td>5</td>\n",
       "      <td>0</td>\n",
       "      <td>3</td>\n",
       "      <td>Allen, Mr. William Henry</td>\n",
       "      <td>male</td>\n",
       "      <td>35.0</td>\n",
       "      <td>0</td>\n",
       "      <td>0</td>\n",
       "      <td>373450</td>\n",
       "      <td>8.0500</td>\n",
       "      <td>S</td>\n",
       "    </tr>\n",
       "  </tbody>\n",
       "</table>\n",
       "</div>"
      ],
      "text/plain": [
       "   PassengerId  Survived  Pclass  \\\n",
       "0            1         0       3   \n",
       "1            2         1       1   \n",
       "2            3         1       3   \n",
       "3            4         1       1   \n",
       "4            5         0       3   \n",
       "\n",
       "                                                Name     Sex   Age  SibSp  \\\n",
       "0                            Braund, Mr. Owen Harris    male  22.0      1   \n",
       "1  Cumings, Mrs. John Bradley (Florence Briggs Th...  female  38.0      1   \n",
       "2                             Heikkinen, Miss. Laina  female  26.0      0   \n",
       "3       Futrelle, Mrs. Jacques Heath (Lily May Peel)  female  35.0      1   \n",
       "4                           Allen, Mr. William Henry    male  35.0      0   \n",
       "\n",
       "   Parch            Ticket     Fare Embarked  \n",
       "0      0         A/5 21171   7.2500        S  \n",
       "1      0          PC 17599  71.2833        C  \n",
       "2      0  STON/O2. 3101282   7.9250        S  \n",
       "3      0            113803  53.1000        S  \n",
       "4      0            373450   8.0500        S  "
      ]
     },
     "execution_count": 4,
     "metadata": {},
     "output_type": "execute_result"
    }
   ],
   "source": [
    "local_path = 'https://raw.githubusercontent.com/chrisketelsen/csci3022/master/inclass-notebooks/data/clean_titanic_data.csv'\n",
    "dfTitanic= pd.read_csv(local_path)\n",
    "dfTitanic.head()"
   ]
  },
  {
   "cell_type": "markdown",
   "metadata": {},
   "source": [
    "**Part A**: Explain in words what patterns you might see in the data if there were male chivalry in the final hours aboard the Titanic?  What patterns might you see if there were class warfare in the final hours?"
   ]
  },
  {
   "cell_type": "markdown",
   "metadata": {
    "collapsed": true
   },
   "source": [
    "If there were male chivalry in the final hours aboard the Titanic, we would observe patterns of a larger number of females and survived. \n",
    "\n",
    "If there were class warfare in the final hours, we would observe patterns of a larger proportion of upper class (1) survivors than lower class (3) survivors."
   ]
  },
  {
   "cell_type": "markdown",
   "metadata": {},
   "source": [
    "**Part B**: Create a clean data set by removing any rows from the DataFrame that are missing values corresponding to **Survived**, **Pclass**, **Age**, or **Sex**. Store the clean data in a DataFrame called dfTitanic. "
   ]
  },
  {
   "cell_type": "code",
   "execution_count": 5,
   "metadata": {},
   "outputs": [
    {
     "name": "stdout",
     "output_type": "stream",
     "text": [
      "<class 'pandas.core.frame.DataFrame'>\n",
      "Int64Index: 714 entries, 0 to 713\n",
      "Data columns (total 11 columns):\n",
      "PassengerId    714 non-null int64\n",
      "Survived       714 non-null int64\n",
      "Pclass         714 non-null int64\n",
      "Name           714 non-null object\n",
      "Sex            714 non-null object\n",
      "Age            714 non-null float64\n",
      "SibSp          714 non-null int64\n",
      "Parch          714 non-null int64\n",
      "Ticket         714 non-null object\n",
      "Fare           714 non-null float64\n",
      "Embarked       712 non-null object\n",
      "dtypes: float64(2), int64(5), object(4)\n",
      "memory usage: 66.9+ KB\n"
     ]
    }
   ],
   "source": [
    "dfTitanic = dfTitanic.dropna(subset=[\"Survived\", \"Pclass\", \"Age\", \"Sex\"]).copy()\n",
    "dfTitanic.info()"
   ]
  },
  {
   "cell_type": "markdown",
   "metadata": {},
   "source": [
    "**Part C**: Determine the fraction of survivors from each passenger class. "
   ]
  },
  {
   "cell_type": "code",
   "execution_count": 6,
   "metadata": {},
   "outputs": [
    {
     "name": "stdout",
     "output_type": "stream",
     "text": [
      "122 first class passengers out of 186 survived : 0.6559139784946236\n",
      "83 second class passengers out of 173 survived : 0.4797687861271676\n",
      "85 third class passengers out of 355 survived : 0.23943661971830985\n"
     ]
    }
   ],
   "source": [
    "class1survived = dfTitanic.loc[dfTitanic[\"Pclass\"] == 1, \"Survived\"].sum()\n",
    "class1total = (dfTitanic.loc[dfTitanic[\"Pclass\"] == 1]).shape[0]\n",
    "print(\"{} first class passengers out of {} survived : {}\".format(class1survived, class1total, class1survived/class1total))\n",
    "class2survived = dfTitanic.loc[dfTitanic[\"Pclass\"] == 2, \"Survived\"].sum()\n",
    "class2total = (dfTitanic.loc[dfTitanic[\"Pclass\"] == 2]).shape[0]\n",
    "print(\"{} second class passengers out of {} survived : {}\".format(class2survived, class2total, class2survived/class2total))\n",
    "class3survived = dfTitanic.loc[dfTitanic[\"Pclass\"] == 3, \"Survived\"].sum()\n",
    "class3total = (dfTitanic.loc[dfTitanic[\"Pclass\"] == 3]).shape[0]\n",
    "print(\"{} third class passengers out of {} survived : {}\".format(class3survived, class3total, class3survived/class3total))"
   ]
  },
  {
   "cell_type": "markdown",
   "metadata": {},
   "source": [
    "**Part D**: Compute the fraction of survivors according to class and gender.  Did men in first class or women in third class have a higher survival rate? "
   ]
  },
  {
   "cell_type": "code",
   "execution_count": 7,
   "metadata": {},
   "outputs": [
    {
     "name": "stdout",
     "output_type": "stream",
     "text": [
      "First class male survivors rate:  0.39603960396039606\n",
      "First class female survivors rate:  0.9647058823529412\n",
      "Second class male survivors rate:  0.15151515151515152\n",
      "Second class female survivors rate:  0.918918918918919\n",
      "Third class male survivors rate:  0.15019762845849802\n",
      "Third class female survivors rate:  0.46078431372549017\n",
      "\n",
      "Conclusion: Women in third class had a slightly higher survival rate than men in first class.\n"
     ]
    }
   ],
   "source": [
    "male1 = dfTitanic.loc[(dfTitanic[\"Sex\"]==\"male\") & (dfTitanic[\"Pclass\"]==1)]\n",
    "female1 = dfTitanic.loc[(dfTitanic[\"Sex\"]==\"female\") & (dfTitanic[\"Pclass\"]==1)]\n",
    "male2 = dfTitanic.loc[(dfTitanic[\"Sex\"]==\"male\") & (dfTitanic[\"Pclass\"]==2)]\n",
    "female2 = dfTitanic.loc[(dfTitanic[\"Sex\"]==\"female\") & (dfTitanic[\"Pclass\"]==2)]\n",
    "male3 = dfTitanic.loc[(dfTitanic[\"Sex\"]==\"male\") & (dfTitanic[\"Pclass\"]==3)]\n",
    "female3 = dfTitanic.loc[(dfTitanic[\"Sex\"]==\"female\") & (dfTitanic[\"Pclass\"]==3)]\n",
    "print (\"First class male survivors rate: \",male1[\"Survived\"].sum()/len(male1))\n",
    "print (\"First class female survivors rate: \",female1[\"Survived\"].sum()/len(female1))\n",
    "print (\"Second class male survivors rate: \",male2[\"Survived\"].sum()/len(male2))\n",
    "print (\"Second class female survivors rate: \",female2[\"Survived\"].sum()/len(female2))\n",
    "print (\"Third class male survivors rate: \",male3[\"Survived\"].sum()/len(male3))\n",
    "print (\"Third class female survivors rate: \",female3[\"Survived\"].sum()/len(female3))\n",
    "print (\"\\nConclusion: Women in third class had a slightly higher survival rate than men in first class.\")"
   ]
  },
  {
   "cell_type": "markdown",
   "metadata": {},
   "source": [
    "**Part E**: How would you characterize the distribution of **AGE**? (By _characterize_ we mean that you should indicate whether the data are unimodal, bimodal, multimodal, symmetric, negatively skewed, positively skewed, etc.)  Make any necessary graphical summaries to justify your conclusion. "
   ]
  },
  {
   "cell_type": "code",
   "execution_count": 8,
   "metadata": {},
   "outputs": [
    {
     "data": {
      "image/png": "[encoded data removed]",
      "text/plain": [
       "<matplotlib.figure.Figure at 0x7f8a274da748>"
      ]
     },
     "metadata": {},
     "output_type": "display_data"
    }
   ],
   "source": [
    "# Initialize figure subplots\n",
    "fig, axes = plt.subplots(figsize=(8,3))\n",
    "# --------------------------------------\n",
    "dfTitanic.hist(column=\"Age\", ax=axes, facecolor=\"steelblue\", edgecolor=\"white\")\n",
    "                                                      \n",
    "# Add titles and labels \n",
    "axes.set_title(\"Distribution of Age on the Titanic\", fontsize=20)\n",
    "axes.set_xlabel(\"Age\", fontsize=16)\n",
    "axes.set_ylabel(\"People\", fontsize=16)\n",
    "\n",
    "# Make grid lighter and set behind data\n",
    "axes.grid(alpha=0.25)\n",
    "axes.set_axisbelow(True)"
   ]
  },
  {
   "cell_type": "markdown",
   "metadata": {},
   "source": [
    "**Part F**: Were the median and mean ages for females who survived higher or lower than for females who did not survive?  "
   ]
  },
  {
   "cell_type": "code",
   "execution_count": 9,
   "metadata": {},
   "outputs": [
    {
     "name": "stdout",
     "output_type": "stream",
     "text": [
      "Female survivor age mean: 28.84771573604061\n",
      "Female survivor age median: 28.0\n",
      "\n",
      "Female non-survivor age mean: 25.046875\n",
      "Female non-survivor age median: 24.5\n",
      "\n",
      "The mean and median ages for females who survived were both higher than those who didn't.\n"
     ]
    }
   ],
   "source": [
    "femSurv = dfTitanic.loc[(dfTitanic[\"Sex\"]==\"female\") & (dfTitanic[\"Survived\"]==1)]\n",
    "femNotSurv = dfTitanic.loc[(dfTitanic[\"Sex\"]==\"female\") & (dfTitanic[\"Survived\"]==0)]\n",
    "print(\"Female survivor age mean: {}\\nFemale survivor age median: {}\\n\"\n",
    "      .format(femSurv[\"Age\"].mean(), femSurv[\"Age\"].median()))\n",
    "print(\"Female non-survivor age mean: {}\\nFemale non-survivor age median: {}\\n\"\n",
    "      .format(femNotSurv[\"Age\"].mean(), femNotSurv[\"Age\"].median()))\n",
    "print(\"The mean and median ages for females who survived were both higher than those who didn't.\")"
   ]
  },
  {
   "cell_type": "markdown",
   "metadata": {},
   "source": [
    "**Part G**: Do the data suggest class warfare, male chivalry, or some combination of both characteristics in the final hours aboard the Titanic?  Justify your conclusion based on the computations done above, or do any other analysis that you like, but be sure to clearly justify your conclusion. "
   ]
  },
  {
   "cell_type": "markdown",
   "metadata": {
    "collapsed": true
   },
   "source": [
    "The data suggests male chivalry on a large part. Independent of class, female survival rate surpassed that of men's. The survival rate of first class men was lower than the survival rate of third class women so this strengthens my claim. I don't believe class warfare was a big characteristic in the final hours aboard the Titanic since the survival rate of first class females and second class females don't differ greatly. Third class passengers were at the bottom of the boat so I think they just had a harder time getting out."
   ]
  },
  {
   "cell_type": "markdown",
   "metadata": {},
   "source": [
    "### Problem 5\n",
    "***\n",
    "Access the data from url https://www.stat.berkeley.edu/~statlabs/data/babies.data and store the information in a Pandas DataFrame.  A description of the variables can be found at https://www.stat.berkeley.edu/~statlabs/labs.html.  These data are a subset from a much larger study dealing with child health and development. \n"
   ]
  },
  {
   "cell_type": "code",
   "execution_count": 11,
   "metadata": {},
   "outputs": [
    {
     "ename": "URLError",
     "evalue": "<urlopen error Tunnel connection failed: 403 Forbidden>",
     "output_type": "error",
     "traceback": [
      "\u001b[0;31m---------------------------------------------------------------------------\u001b[0m",
      "\u001b[0;31mOSError\u001b[0m                                   Traceback (most recent call last)",
      "\u001b[0;32m~/anaconda3_410/lib/python3.5/urllib/request.py\u001b[0m in \u001b[0;36mdo_open\u001b[0;34m(self, http_class, req, **http_conn_args)\u001b[0m\n\u001b[1;32m   1239\u001b[0m             \u001b[0;32mtry\u001b[0m\u001b[0;34m:\u001b[0m\u001b[0;34m\u001b[0m\u001b[0m\n\u001b[0;32m-> 1240\u001b[0;31m                 \u001b[0mh\u001b[0m\u001b[0;34m.\u001b[0m\u001b[0mrequest\u001b[0m\u001b[0;34m(\u001b[0m\u001b[0mreq\u001b[0m\u001b[0;34m.\u001b[0m\u001b[0mget_method\u001b[0m\u001b[0;34m(\u001b[0m\u001b[0;34m)\u001b[0m\u001b[0;34m,\u001b[0m \u001b[0mreq\u001b[0m\u001b[0;34m.\u001b[0m\u001b[0mselector\u001b[0m\u001b[0;34m,\u001b[0m \u001b[0mreq\u001b[0m\u001b[0;34m.\u001b[0m\u001b[0mdata\u001b[0m\u001b[0;34m,\u001b[0m \u001b[0mheaders\u001b[0m\u001b[0;34m)\u001b[0m\u001b[0;34m\u001b[0m\u001b[0m\n\u001b[0m\u001b[1;32m   1241\u001b[0m             \u001b[0;32mexcept\u001b[0m \u001b[0mOSError\u001b[0m \u001b[0;32mas\u001b[0m \u001b[0merr\u001b[0m\u001b[0;34m:\u001b[0m \u001b[0;31m# timeout error\u001b[0m\u001b[0;34m\u001b[0m\u001b[0m\n",
      "\u001b[0;32m~/anaconda3_410/lib/python3.5/http/client.py\u001b[0m in \u001b[0;36mrequest\u001b[0;34m(self, method, url, body, headers)\u001b[0m\n\u001b[1;32m   1082\u001b[0m         \u001b[0;34m\"\"\"Send a complete request to the server.\"\"\"\u001b[0m\u001b[0;34m\u001b[0m\u001b[0m\n\u001b[0;32m-> 1083\u001b[0;31m         \u001b[0mself\u001b[0m\u001b[0;34m.\u001b[0m\u001b[0m_send_request\u001b[0m\u001b[0;34m(\u001b[0m\u001b[0mmethod\u001b[0m\u001b[0;34m,\u001b[0m \u001b[0murl\u001b[0m\u001b[0;34m,\u001b[0m \u001b[0mbody\u001b[0m\u001b[0;34m,\u001b[0m \u001b[0mheaders\u001b[0m\u001b[0;34m)\u001b[0m\u001b[0;34m\u001b[0m\u001b[0m\n\u001b[0m\u001b[1;32m   1084\u001b[0m \u001b[0;34m\u001b[0m\u001b[0m\n",
      "\u001b[0;32m~/anaconda3_410/lib/python3.5/http/client.py\u001b[0m in \u001b[0;36m_send_request\u001b[0;34m(self, method, url, body, headers)\u001b[0m\n\u001b[1;32m   1127\u001b[0m             \u001b[0mbody\u001b[0m \u001b[0;34m=\u001b[0m \u001b[0mbody\u001b[0m\u001b[0;34m.\u001b[0m\u001b[0mencode\u001b[0m\u001b[0;34m(\u001b[0m\u001b[0;34m'iso-8859-1'\u001b[0m\u001b[0;34m)\u001b[0m\u001b[0;34m\u001b[0m\u001b[0m\n\u001b[0;32m-> 1128\u001b[0;31m         \u001b[0mself\u001b[0m\u001b[0;34m.\u001b[0m\u001b[0mendheaders\u001b[0m\u001b[0;34m(\u001b[0m\u001b[0mbody\u001b[0m\u001b[0;34m)\u001b[0m\u001b[0;34m\u001b[0m\u001b[0m\n\u001b[0m\u001b[1;32m   1129\u001b[0m \u001b[0;34m\u001b[0m\u001b[0m\n",
      "\u001b[0;32m~/anaconda3_410/lib/python3.5/http/client.py\u001b[0m in \u001b[0;36mendheaders\u001b[0;34m(self, message_body)\u001b[0m\n\u001b[1;32m   1078\u001b[0m             \u001b[0;32mraise\u001b[0m \u001b[0mCannotSendHeader\u001b[0m\u001b[0;34m(\u001b[0m\u001b[0;34m)\u001b[0m\u001b[0;34m\u001b[0m\u001b[0m\n\u001b[0;32m-> 1079\u001b[0;31m         \u001b[0mself\u001b[0m\u001b[0;34m.\u001b[0m\u001b[0m_send_output\u001b[0m\u001b[0;34m(\u001b[0m\u001b[0mmessage_body\u001b[0m\u001b[0;34m)\u001b[0m\u001b[0;34m\u001b[0m\u001b[0m\n\u001b[0m\u001b[1;32m   1080\u001b[0m \u001b[0;34m\u001b[0m\u001b[0m\n",
      "\u001b[0;32m~/anaconda3_410/lib/python3.5/http/client.py\u001b[0m in \u001b[0;36m_send_output\u001b[0;34m(self, message_body)\u001b[0m\n\u001b[1;32m    910\u001b[0m \u001b[0;34m\u001b[0m\u001b[0m\n\u001b[0;32m--> 911\u001b[0;31m         \u001b[0mself\u001b[0m\u001b[0;34m.\u001b[0m\u001b[0msend\u001b[0m\u001b[0;34m(\u001b[0m\u001b[0mmsg\u001b[0m\u001b[0;34m)\u001b[0m\u001b[0;34m\u001b[0m\u001b[0m\n\u001b[0m\u001b[1;32m    912\u001b[0m         \u001b[0;32mif\u001b[0m \u001b[0mmessage_body\u001b[0m \u001b[0;32mis\u001b[0m \u001b[0;32mnot\u001b[0m \u001b[0;32mNone\u001b[0m\u001b[0;34m:\u001b[0m\u001b[0;34m\u001b[0m\u001b[0m\n",
      "\u001b[0;32m~/anaconda3_410/lib/python3.5/http/client.py\u001b[0m in \u001b[0;36msend\u001b[0;34m(self, data)\u001b[0m\n\u001b[1;32m    853\u001b[0m             \u001b[0;32mif\u001b[0m \u001b[0mself\u001b[0m\u001b[0;34m.\u001b[0m\u001b[0mauto_open\u001b[0m\u001b[0;34m:\u001b[0m\u001b[0;34m\u001b[0m\u001b[0m\n\u001b[0;32m--> 854\u001b[0;31m                 \u001b[0mself\u001b[0m\u001b[0;34m.\u001b[0m\u001b[0mconnect\u001b[0m\u001b[0;34m(\u001b[0m\u001b[0;34m)\u001b[0m\u001b[0;34m\u001b[0m\u001b[0m\n\u001b[0m\u001b[1;32m    855\u001b[0m             \u001b[0;32melse\u001b[0m\u001b[0;34m:\u001b[0m\u001b[0;34m\u001b[0m\u001b[0m\n",
      "\u001b[0;32m~/anaconda3_410/lib/python3.5/http/client.py\u001b[0m in \u001b[0;36mconnect\u001b[0;34m(self)\u001b[0m\n\u001b[1;32m   1228\u001b[0m \u001b[0;34m\u001b[0m\u001b[0m\n\u001b[0;32m-> 1229\u001b[0;31m             \u001b[0msuper\u001b[0m\u001b[0;34m(\u001b[0m\u001b[0;34m)\u001b[0m\u001b[0;34m.\u001b[0m\u001b[0mconnect\u001b[0m\u001b[0;34m(\u001b[0m\u001b[0;34m)\u001b[0m\u001b[0;34m\u001b[0m\u001b[0m\n\u001b[0m\u001b[1;32m   1230\u001b[0m \u001b[0;34m\u001b[0m\u001b[0m\n",
      "\u001b[0;32m~/anaconda3_410/lib/python3.5/http/client.py\u001b[0m in \u001b[0;36mconnect\u001b[0;34m(self)\u001b[0m\n\u001b[1;32m    829\u001b[0m         \u001b[0;32mif\u001b[0m \u001b[0mself\u001b[0m\u001b[0;34m.\u001b[0m\u001b[0m_tunnel_host\u001b[0m\u001b[0;34m:\u001b[0m\u001b[0;34m\u001b[0m\u001b[0m\n\u001b[0;32m--> 830\u001b[0;31m             \u001b[0mself\u001b[0m\u001b[0;34m.\u001b[0m\u001b[0m_tunnel\u001b[0m\u001b[0;34m(\u001b[0m\u001b[0;34m)\u001b[0m\u001b[0;34m\u001b[0m\u001b[0m\n\u001b[0m\u001b[1;32m    831\u001b[0m \u001b[0;34m\u001b[0m\u001b[0m\n",
      "\u001b[0;32m~/anaconda3_410/lib/python3.5/http/client.py\u001b[0m in \u001b[0;36m_tunnel\u001b[0;34m(self)\u001b[0m\n\u001b[1;32m    808\u001b[0m             raise OSError(\"Tunnel connection failed: %d %s\" % (code,\n\u001b[0;32m--> 809\u001b[0;31m                                                                message.strip()))\n\u001b[0m\u001b[1;32m    810\u001b[0m         \u001b[0;32mwhile\u001b[0m \u001b[0;32mTrue\u001b[0m\u001b[0;34m:\u001b[0m\u001b[0;34m\u001b[0m\u001b[0m\n",
      "\u001b[0;31mOSError\u001b[0m: Tunnel connection failed: 403 Forbidden",
      "\nDuring handling of the above exception, another exception occurred:\n",
      "\u001b[0;31mURLError\u001b[0m                                  Traceback (most recent call last)",
      "\u001b[0;32m<ipython-input-11-0d2d6c164c1b>\u001b[0m in \u001b[0;36m<module>\u001b[0;34m()\u001b[0m\n\u001b[1;32m      1\u001b[0m \u001b[0mweb_path\u001b[0m \u001b[0;34m=\u001b[0m \u001b[0;34m'https://www.stat.berkeley.edu/~statlabs/data/babies.data'\u001b[0m\u001b[0;34m\u001b[0m\u001b[0m\n\u001b[0;32m----> 2\u001b[0;31m \u001b[0mdfB\u001b[0m \u001b[0;34m=\u001b[0m \u001b[0mpd\u001b[0m\u001b[0;34m.\u001b[0m\u001b[0mread_csv\u001b[0m\u001b[0;34m(\u001b[0m\u001b[0mweb_path\u001b[0m\u001b[0;34m,\u001b[0m \u001b[0mdelim_whitespace\u001b[0m\u001b[0;34m=\u001b[0m\u001b[0;32mTrue\u001b[0m\u001b[0;34m)\u001b[0m\u001b[0;34m\u001b[0m\u001b[0m\n\u001b[0m\u001b[1;32m      3\u001b[0m \u001b[0mdfB\u001b[0m\u001b[0;34m.\u001b[0m\u001b[0minfo\u001b[0m\u001b[0;34m(\u001b[0m\u001b[0;34m)\u001b[0m\u001b[0;34m\u001b[0m\u001b[0m\n",
      "\u001b[0;32m~/anaconda3_410/lib/python3.5/site-packages/pandas/io/parsers.py\u001b[0m in \u001b[0;36mparser_f\u001b[0;34m(filepath_or_buffer, sep, delimiter, header, names, index_col, usecols, squeeze, prefix, mangle_dupe_cols, dtype, engine, converters, true_values, false_values, skipinitialspace, skiprows, nrows, na_values, keep_default_na, na_filter, verbose, skip_blank_lines, parse_dates, infer_datetime_format, keep_date_col, date_parser, dayfirst, iterator, chunksize, compression, thousands, decimal, lineterminator, quotechar, quoting, escapechar, comment, encoding, dialect, tupleize_cols, error_bad_lines, warn_bad_lines, skipfooter, skip_footer, doublequote, delim_whitespace, as_recarray, compact_ints, use_unsigned, low_memory, buffer_lines, memory_map, float_precision)\u001b[0m\n\u001b[1;32m    644\u001b[0m                     skip_blank_lines=skip_blank_lines)\n\u001b[1;32m    645\u001b[0m \u001b[0;34m\u001b[0m\u001b[0m\n\u001b[0;32m--> 646\u001b[0;31m         \u001b[0;32mreturn\u001b[0m \u001b[0m_read\u001b[0m\u001b[0;34m(\u001b[0m\u001b[0mfilepath_or_buffer\u001b[0m\u001b[0;34m,\u001b[0m \u001b[0mkwds\u001b[0m\u001b[0;34m)\u001b[0m\u001b[0;34m\u001b[0m\u001b[0m\n\u001b[0m\u001b[1;32m    647\u001b[0m \u001b[0;34m\u001b[0m\u001b[0m\n\u001b[1;32m    648\u001b[0m     \u001b[0mparser_f\u001b[0m\u001b[0;34m.\u001b[0m\u001b[0m__name__\u001b[0m \u001b[0;34m=\u001b[0m \u001b[0mname\u001b[0m\u001b[0;34m\u001b[0m\u001b[0m\n",
      "\u001b[0;32m~/anaconda3_410/lib/python3.5/site-packages/pandas/io/parsers.py\u001b[0m in \u001b[0;36m_read\u001b[0;34m(filepath_or_buffer, kwds)\u001b[0m\n\u001b[1;32m    373\u001b[0m     filepath_or_buffer, _, compression = get_filepath_or_buffer(\n\u001b[1;32m    374\u001b[0m         \u001b[0mfilepath_or_buffer\u001b[0m\u001b[0;34m,\u001b[0m \u001b[0mencoding\u001b[0m\u001b[0;34m,\u001b[0m\u001b[0;34m\u001b[0m\u001b[0m\n\u001b[0;32m--> 375\u001b[0;31m         compression=kwds.get('compression', None))\n\u001b[0m\u001b[1;32m    376\u001b[0m     kwds['compression'] = (inferred_compression if compression == 'infer'\n\u001b[1;32m    377\u001b[0m                            else compression)\n",
      "\u001b[0;32m~/anaconda3_410/lib/python3.5/site-packages/pandas/io/common.py\u001b[0m in \u001b[0;36mget_filepath_or_buffer\u001b[0;34m(filepath_or_buffer, encoding, compression)\u001b[0m\n\u001b[1;32m    236\u001b[0m \u001b[0;34m\u001b[0m\u001b[0m\n\u001b[1;32m    237\u001b[0m     \u001b[0;32mif\u001b[0m \u001b[0m_is_url\u001b[0m\u001b[0;34m(\u001b[0m\u001b[0mfilepath_or_buffer\u001b[0m\u001b[0;34m)\u001b[0m\u001b[0;34m:\u001b[0m\u001b[0;34m\u001b[0m\u001b[0m\n\u001b[0;32m--> 238\u001b[0;31m         \u001b[0mreq\u001b[0m \u001b[0;34m=\u001b[0m \u001b[0m_urlopen\u001b[0m\u001b[0;34m(\u001b[0m\u001b[0mstr\u001b[0m\u001b[0;34m(\u001b[0m\u001b[0mfilepath_or_buffer\u001b[0m\u001b[0;34m)\u001b[0m\u001b[0;34m)\u001b[0m\u001b[0;34m\u001b[0m\u001b[0m\n\u001b[0m\u001b[1;32m    239\u001b[0m         \u001b[0;32mif\u001b[0m \u001b[0mcompression\u001b[0m \u001b[0;34m==\u001b[0m \u001b[0;34m'infer'\u001b[0m\u001b[0;34m:\u001b[0m\u001b[0;34m\u001b[0m\u001b[0m\n\u001b[1;32m    240\u001b[0m             \u001b[0mcontent_encoding\u001b[0m \u001b[0;34m=\u001b[0m \u001b[0mreq\u001b[0m\u001b[0;34m.\u001b[0m\u001b[0mheaders\u001b[0m\u001b[0;34m.\u001b[0m\u001b[0mget\u001b[0m\u001b[0;34m(\u001b[0m\u001b[0;34m'Content-Encoding'\u001b[0m\u001b[0;34m,\u001b[0m \u001b[0;32mNone\u001b[0m\u001b[0;34m)\u001b[0m\u001b[0;34m\u001b[0m\u001b[0m\n",
      "\u001b[0;32m~/anaconda3_410/lib/python3.5/urllib/request.py\u001b[0m in \u001b[0;36murlopen\u001b[0;34m(url, data, timeout, cafile, capath, cadefault, context)\u001b[0m\n\u001b[1;32m    160\u001b[0m     \u001b[0;32melse\u001b[0m\u001b[0;34m:\u001b[0m\u001b[0;34m\u001b[0m\u001b[0m\n\u001b[1;32m    161\u001b[0m         \u001b[0mopener\u001b[0m \u001b[0;34m=\u001b[0m \u001b[0m_opener\u001b[0m\u001b[0;34m\u001b[0m\u001b[0m\n\u001b[0;32m--> 162\u001b[0;31m     \u001b[0;32mreturn\u001b[0m \u001b[0mopener\u001b[0m\u001b[0;34m.\u001b[0m\u001b[0mopen\u001b[0m\u001b[0;34m(\u001b[0m\u001b[0murl\u001b[0m\u001b[0;34m,\u001b[0m \u001b[0mdata\u001b[0m\u001b[0;34m,\u001b[0m \u001b[0mtimeout\u001b[0m\u001b[0;34m)\u001b[0m\u001b[0;34m\u001b[0m\u001b[0m\n\u001b[0m\u001b[1;32m    163\u001b[0m \u001b[0;34m\u001b[0m\u001b[0m\n\u001b[1;32m    164\u001b[0m \u001b[0;32mdef\u001b[0m \u001b[0minstall_opener\u001b[0m\u001b[0;34m(\u001b[0m\u001b[0mopener\u001b[0m\u001b[0;34m)\u001b[0m\u001b[0;34m:\u001b[0m\u001b[0;34m\u001b[0m\u001b[0m\n",
      "\u001b[0;32m~/anaconda3_410/lib/python3.5/urllib/request.py\u001b[0m in \u001b[0;36mopen\u001b[0;34m(self, fullurl, data, timeout)\u001b[0m\n\u001b[1;32m    463\u001b[0m             \u001b[0mreq\u001b[0m \u001b[0;34m=\u001b[0m \u001b[0mmeth\u001b[0m\u001b[0;34m(\u001b[0m\u001b[0mreq\u001b[0m\u001b[0;34m)\u001b[0m\u001b[0;34m\u001b[0m\u001b[0m\n\u001b[1;32m    464\u001b[0m \u001b[0;34m\u001b[0m\u001b[0m\n\u001b[0;32m--> 465\u001b[0;31m         \u001b[0mresponse\u001b[0m \u001b[0;34m=\u001b[0m \u001b[0mself\u001b[0m\u001b[0;34m.\u001b[0m\u001b[0m_open\u001b[0m\u001b[0;34m(\u001b[0m\u001b[0mreq\u001b[0m\u001b[0;34m,\u001b[0m \u001b[0mdata\u001b[0m\u001b[0;34m)\u001b[0m\u001b[0;34m\u001b[0m\u001b[0m\n\u001b[0m\u001b[1;32m    466\u001b[0m \u001b[0;34m\u001b[0m\u001b[0m\n\u001b[1;32m    467\u001b[0m         \u001b[0;31m# post-process response\u001b[0m\u001b[0;34m\u001b[0m\u001b[0;34m\u001b[0m\u001b[0m\n",
      "\u001b[0;32m~/anaconda3_410/lib/python3.5/urllib/request.py\u001b[0m in \u001b[0;36m_open\u001b[0;34m(self, req, data)\u001b[0m\n\u001b[1;32m    481\u001b[0m         \u001b[0mprotocol\u001b[0m \u001b[0;34m=\u001b[0m \u001b[0mreq\u001b[0m\u001b[0;34m.\u001b[0m\u001b[0mtype\u001b[0m\u001b[0;34m\u001b[0m\u001b[0m\n\u001b[1;32m    482\u001b[0m         result = self._call_chain(self.handle_open, protocol, protocol +\n\u001b[0;32m--> 483\u001b[0;31m                                   '_open', req)\n\u001b[0m\u001b[1;32m    484\u001b[0m         \u001b[0;32mif\u001b[0m \u001b[0mresult\u001b[0m\u001b[0;34m:\u001b[0m\u001b[0;34m\u001b[0m\u001b[0m\n\u001b[1;32m    485\u001b[0m             \u001b[0;32mreturn\u001b[0m \u001b[0mresult\u001b[0m\u001b[0;34m\u001b[0m\u001b[0m\n",
      "\u001b[0;32m~/anaconda3_410/lib/python3.5/urllib/request.py\u001b[0m in \u001b[0;36m_call_chain\u001b[0;34m(self, chain, kind, meth_name, *args)\u001b[0m\n\u001b[1;32m    441\u001b[0m         \u001b[0;32mfor\u001b[0m \u001b[0mhandler\u001b[0m \u001b[0;32min\u001b[0m \u001b[0mhandlers\u001b[0m\u001b[0;34m:\u001b[0m\u001b[0;34m\u001b[0m\u001b[0m\n\u001b[1;32m    442\u001b[0m             \u001b[0mfunc\u001b[0m \u001b[0;34m=\u001b[0m \u001b[0mgetattr\u001b[0m\u001b[0;34m(\u001b[0m\u001b[0mhandler\u001b[0m\u001b[0;34m,\u001b[0m \u001b[0mmeth_name\u001b[0m\u001b[0;34m)\u001b[0m\u001b[0;34m\u001b[0m\u001b[0m\n\u001b[0;32m--> 443\u001b[0;31m             \u001b[0mresult\u001b[0m \u001b[0;34m=\u001b[0m \u001b[0mfunc\u001b[0m\u001b[0;34m(\u001b[0m\u001b[0;34m*\u001b[0m\u001b[0margs\u001b[0m\u001b[0;34m)\u001b[0m\u001b[0;34m\u001b[0m\u001b[0m\n\u001b[0m\u001b[1;32m    444\u001b[0m             \u001b[0;32mif\u001b[0m \u001b[0mresult\u001b[0m \u001b[0;32mis\u001b[0m \u001b[0;32mnot\u001b[0m \u001b[0;32mNone\u001b[0m\u001b[0;34m:\u001b[0m\u001b[0;34m\u001b[0m\u001b[0m\n\u001b[1;32m    445\u001b[0m                 \u001b[0;32mreturn\u001b[0m \u001b[0mresult\u001b[0m\u001b[0;34m\u001b[0m\u001b[0m\n",
      "\u001b[0;32m~/anaconda3_410/lib/python3.5/urllib/request.py\u001b[0m in \u001b[0;36mhttps_open\u001b[0;34m(self, req)\u001b[0m\n\u001b[1;32m   1281\u001b[0m         \u001b[0;32mdef\u001b[0m \u001b[0mhttps_open\u001b[0m\u001b[0;34m(\u001b[0m\u001b[0mself\u001b[0m\u001b[0;34m,\u001b[0m \u001b[0mreq\u001b[0m\u001b[0;34m)\u001b[0m\u001b[0;34m:\u001b[0m\u001b[0;34m\u001b[0m\u001b[0m\n\u001b[1;32m   1282\u001b[0m             return self.do_open(http.client.HTTPSConnection, req,\n\u001b[0;32m-> 1283\u001b[0;31m                 context=self._context, check_hostname=self._check_hostname)\n\u001b[0m\u001b[1;32m   1284\u001b[0m \u001b[0;34m\u001b[0m\u001b[0m\n\u001b[1;32m   1285\u001b[0m         \u001b[0mhttps_request\u001b[0m \u001b[0;34m=\u001b[0m \u001b[0mAbstractHTTPHandler\u001b[0m\u001b[0;34m.\u001b[0m\u001b[0mdo_request_\u001b[0m\u001b[0;34m\u001b[0m\u001b[0m\n",
      "\u001b[0;32m~/anaconda3_410/lib/python3.5/urllib/request.py\u001b[0m in \u001b[0;36mdo_open\u001b[0;34m(self, http_class, req, **http_conn_args)\u001b[0m\n\u001b[1;32m   1240\u001b[0m                 \u001b[0mh\u001b[0m\u001b[0;34m.\u001b[0m\u001b[0mrequest\u001b[0m\u001b[0;34m(\u001b[0m\u001b[0mreq\u001b[0m\u001b[0;34m.\u001b[0m\u001b[0mget_method\u001b[0m\u001b[0;34m(\u001b[0m\u001b[0;34m)\u001b[0m\u001b[0;34m,\u001b[0m \u001b[0mreq\u001b[0m\u001b[0;34m.\u001b[0m\u001b[0mselector\u001b[0m\u001b[0;34m,\u001b[0m \u001b[0mreq\u001b[0m\u001b[0;34m.\u001b[0m\u001b[0mdata\u001b[0m\u001b[0;34m,\u001b[0m \u001b[0mheaders\u001b[0m\u001b[0;34m)\u001b[0m\u001b[0;34m\u001b[0m\u001b[0m\n\u001b[1;32m   1241\u001b[0m             \u001b[0;32mexcept\u001b[0m \u001b[0mOSError\u001b[0m \u001b[0;32mas\u001b[0m \u001b[0merr\u001b[0m\u001b[0;34m:\u001b[0m \u001b[0;31m# timeout error\u001b[0m\u001b[0;34m\u001b[0m\u001b[0m\n\u001b[0;32m-> 1242\u001b[0;31m                 \u001b[0;32mraise\u001b[0m \u001b[0mURLError\u001b[0m\u001b[0;34m(\u001b[0m\u001b[0merr\u001b[0m\u001b[0;34m)\u001b[0m\u001b[0;34m\u001b[0m\u001b[0m\n\u001b[0m\u001b[1;32m   1243\u001b[0m             \u001b[0mr\u001b[0m \u001b[0;34m=\u001b[0m \u001b[0mh\u001b[0m\u001b[0;34m.\u001b[0m\u001b[0mgetresponse\u001b[0m\u001b[0;34m(\u001b[0m\u001b[0;34m)\u001b[0m\u001b[0;34m\u001b[0m\u001b[0m\n\u001b[1;32m   1244\u001b[0m         \u001b[0;32mexcept\u001b[0m\u001b[0;34m:\u001b[0m\u001b[0;34m\u001b[0m\u001b[0m\n",
      "\u001b[0;31mURLError\u001b[0m: <urlopen error Tunnel connection failed: 403 Forbidden>"
     ]
    }
   ],
   "source": [
    "web_path = 'https://www.stat.berkeley.edu/~statlabs/data/babies.data'\n",
    "dfB = pd.read_csv(web_path, delim_whitespace=True)\n",
    "dfB.info()"
   ]
  },
  {
   "cell_type": "markdown",
   "metadata": {},
   "source": [
    "\n",
    "**Part A**: Create a clean data set that removes subjects if any observations on the subject are unknown.  Note that that collectors of the data set used values like $9$, $99$, $999$, to denote unknown values.  You can look at the documentation linked in the problem description to determine which unknown-value marker was used for each characteristic.  Store the modified data set in a Pandas DataFrame called dfBabies. "
   ]
  },
  {
   "cell_type": "code",
   "execution_count": 51,
   "metadata": {
    "collapsed": true
   },
   "outputs": [],
   "source": [
    "dfBabies = dfB[(dfB != 9).all(1) & (dfB != 99).all(1) & (dfB!=999).all(1)]"
   ]
  },
  {
   "cell_type": "markdown",
   "metadata": {},
   "source": [
    "**Part B**: Use the information in dfBabies to create a density histogram of the birth weights of babies whose mothers have never smoked (smoke=0) and another histogram placed directly below the first in the same graphics device for the birth weights of babies whose mothers currently smoke (smoke=1).  Make the range of the horizontal axis $30$ to $180$ (ounces) for both histograms.  Make sure to give each subplot titles and label axes. "
   ]
  },
  {
   "cell_type": "code",
   "execution_count": 54,
   "metadata": {},
   "outputs": [
    {
     "data": {
      "image/png": "[encoded data removed]",
      "text/plain": [
       "<matplotlib.figure.Figure at 0x7f1d8e24e240>"
      ]
     },
     "metadata": {},
     "output_type": "display_data"
    }
   ],
   "source": [
    "# Initialize figure subplots\n",
    "fig, axes = plt.subplots(nrows=2, ncols=1, figsize=(8,8))\n",
    "\n",
    "dfBabies.loc[dfBabies[\"smoke\"]==0].hist(column=\"bwt\", ax=axes[0], facecolor=\"steelblue\", edgecolor=\"white\")\n",
    "                                                      \n",
    "# Add titles and labels \n",
    "axes[0].set_title(\"Baby Birth Weight of Non-Smoking Mothers\", fontsize=20)\n",
    "axes[0].set_xlabel(\"Birth Weight (Ounces)\", fontsize=16)\n",
    "axes[0].set_ylabel(\"Frequency\", fontsize=16)\n",
    "\n",
    "# Make grid lighter and set behind data\n",
    "axes[0].grid(alpha=0.25)\n",
    "axes[0].set_axisbelow(True)\n",
    "\n",
    "dfBabies.loc[dfB[\"smoke\"]==1].hist(column=\"bwt\", ax=axes[1], facecolor=\"green\", edgecolor=\"white\")\n",
    "                                                      \n",
    "# Add titles and labels \n",
    "axes[1].set_title(\"Baby Birth Weight of Smoking Mothers\", fontsize=20)\n",
    "axes[1].set_xlabel(\"Birth Weight (Ounces)\", fontsize=16)\n",
    "axes[1].set_ylabel(\"Frequency\", fontsize=16)\n",
    "\n",
    "# Make grid lighter and set behind data\n",
    "axes[1].grid(alpha=0.25)\n",
    "axes[1].set_axisbelow(True)\n",
    "\n",
    "# --------------------------------------\n",
    "# Make the plots comparable \n",
    "# --------------------------------------\n",
    "\n",
    "# Set x and y axis limits to match\n",
    "axes[0].set_xlim([30,180])\n",
    "axes[1].set_xlim([30,180])\n",
    "axes[0].set_ylim([0,220])\n",
    "axes[1].set_ylim([0,220])\n",
    "\n",
    "# Adjust vertical space so titles/axis labels don't overlap \n",
    "fig.subplots_adjust(hspace=.5)"
   ]
  },
  {
   "cell_type": "markdown",
   "metadata": {},
   "source": [
    "**Part C**: Based on the histograms in **Part B**, characterize the distribution of baby birth weights for both non-smoking and smoking mothers. "
   ]
  },
  {
   "cell_type": "markdown",
   "metadata": {
    "collapsed": true
   },
   "source": [
    "We can see a positive skew on the baby birth weights for non-smoking mothers, whereas there appears to be a very slight negative skew for smoking mothers. The skew of smoking mothers is harder to discern. In both cases the distribution of baby birth weights is unimodal and highly clustered around the median."
   ]
  },
  {
   "cell_type": "markdown",
   "metadata": {},
   "source": [
    "**Part D**: What are the mean and median weight difference between babies of smokers and non-smokers?  Can you think of any reason not to use the mean as a measure of center to compare birth weights for this problem? "
   ]
  },
  {
   "cell_type": "code",
   "execution_count": 56,
   "metadata": {},
   "outputs": [
    {
     "name": "stdout",
     "output_type": "stream",
     "text": [
      "Baby Birth Weight Mean of Non-Smoking Mothers: 123.41784702549575\n",
      "Baby Birth Weight Median of Non-Smoking Mothers: 124.0\n",
      "\n",
      "Baby Birth Weight Mean of Smoking Mothers: 114.24663677130044\n",
      "Baby Birth Weight Median of Smoking Mothers: 115.0\n",
      "\n"
     ]
    }
   ],
   "source": [
    "smokerMean = dfBabies.loc[dfBabies[\"smoke\"]==1]\n",
    "nonSmokerMean = dfBabies.loc[dfBabies[\"smoke\"]==0]\n",
    "print(\"Baby Birth Weight Mean of Non-Smoking Mothers: {}\\nBaby Birth Weight Median of Non-Smoking Mothers: {}\\n\"\n",
    "     .format(nonSmokerMean[\"bwt\"].mean(), nonSmokerMean[\"bwt\"].median()))\n",
    "print(\"Baby Birth Weight Mean of Smoking Mothers: {}\\nBaby Birth Weight Median of Smoking Mothers: {}\\n\"\n",
    "     .format(smokerMean[\"bwt\"].mean(), smokerMean[\"bwt\"].median()))"
   ]
  },
  {
   "cell_type": "markdown",
   "metadata": {},
   "source": [
    "**Part E**: Create side-by-side box-and-whisker plots to compare the birth weights of babies whose mothers never smoked and those who currently smoke.  Use the box-and-whisker plot conventions discussed in lecture. "
   ]
  },
  {
   "cell_type": "code",
   "execution_count": 258,
   "metadata": {},
   "outputs": [
    {
     "data": {
      "image/png": "[encoded data removed]",
      "text/plain": [
       "<matplotlib.figure.Figure at 0x7f1d896877b8>"
      ]
     },
     "metadata": {},
     "output_type": "display_data"
    }
   ],
   "source": [
    "# Initialize figure \n",
    "fig, ax = plt.subplots(figsize=(6,8))\n",
    "\n",
    "# To get just the columns corresponding to Gross and Ralston reservoirs, we \n",
    "# select only the rows of the DataFrame coresponding to those names, then \n",
    "# call boxplot and pass by=\"NAME\" to break the data into the two sets \n",
    "bp = dfBabies.loc[(dfBabies[\"smoke\"]==0) | (dfBabies[\"smoke\"]==1)].boxplot(\n",
    "    column=[\"bwt\"], by=\"smoke\", ax=ax, widths=[.5, .5], return_type=\"dict\")\n",
    "\n",
    "# This time, bp is a Pandas series containing multiple dictionaries\n",
    "# corresponding to the two sets of data. We loop over each one individually \n",
    "# and set the parameters we want \n",
    "for column in bp:\n",
    "    \n",
    "    # Change properties in boxes \n",
    "    for box in column['boxes']:\n",
    "        box.set(color='steelblue', linewidth=2)\n",
    "    \n",
    "    # Change properties of whiskers \n",
    "    for whisker in column['whiskers']:\n",
    "        whisker.set(color='gray', linewidth=2)\n",
    "\n",
    "    # Change properties of caps \n",
    "    for cap in column['caps']:\n",
    "        cap.set(color='gray', linewidth=2)\n",
    "\n",
    "    # Change properties of median \n",
    "    for cap in column['medians']:\n",
    "        cap.set(color='green', linewidth=2, alpha=0.5)\n",
    "\n",
    "    # Change properties of fliers (outliers) \n",
    "    for cap in column['fliers']:\n",
    "        cap.set(markerfacecolor='steelblue', linewidth=2, marker='s', markersize=6, alpha=0.5)\n",
    "\n",
    "# Set title and vertical axis label\n",
    "ax.set_title('Baby Birth Weight of Non-Smoking Mothers vs. Smoking Mothers', fontsize=18)\n",
    "ax.set_ylabel(\"Baby Birth Weight (Ounces)\", fontsize=16)\n",
    "\n",
    "# Set names of plots\n",
    "plt.xticks([1,2],[\"Non-Smoking Mothers\", \"Smoking Mothers\"], rotation=0, fontsize=16)\n",
    "\n",
    "# Get rid of automatically generated titles and xlables\n",
    "plt.suptitle(\"\")\n",
    "ax.set_xlabel(\"\")\n",
    "\n",
    "# Make grid-lines lighter\n",
    "ax.grid(alpha=0.25);"
   ]
  },
  {
   "cell_type": "markdown",
   "metadata": {},
   "source": [
    "**Part F**: Using the box-and-whisker plots from **Part E** comment on the distributions of body weights of babies within each smoking / non-smoking groups as well as the comparison of the two classes. "
   ]
  },
  {
   "cell_type": "markdown",
   "metadata": {
    "collapsed": true
   },
   "source": [
    "The skew of the baby birth weight of non-smoking mothers is difficult to distinguish from the box-and-whisker plots. However, we can observe that the data has a lot of fliers (outliers who lie outside the range of 1.5 \\* Q).The skew of baby birth weight of smoking mothers is easier to see on these plots however, as we can confidently confirm a negative skew of data. There are few fliers as well, so the body weights of these babies is more clustered together. We can see that all Q1, Q2, and Q3 are higher for the non-smoking mother group than the smoking mother group."
   ]
  },
  {
   "cell_type": "markdown",
   "metadata": {},
   "source": [
    "### Problem 6: Cleaning Election Results Data  \n",
    "***\n",
    "\n",
    "The file 2014\\_election\\_results.csv contains data from congressional district races during the 2014 midterm elections.  The problem is that the data is **extremely dirty**.  Your goal in the problem will be to use Pandas to clean the election result data and then, if possible, determine the names of the winners in each congressional district as well as the vote percentage margin that they won by.  Remember that data cleaning and wrangling is a messy business.  Don't be afraid to roll your sleeves up and get hacky!   \n",
    "\n",
    "**Part A**: Complete the clean_election_data( ) function to return a clean DataFrame that accomplishes the following: \n",
    "\n",
    "- remove rows in the DataFrame that are missing values in columns **STATE**, **DISTRICT**, and/or **GENERAL PERCENT**\n",
    "\n",
    "<p> </p> \n",
    "\n",
    "- replace unknown names in **CANDIDATE NAME** with:  \n",
    "    - the value from **CANDIDATE NAME (Last)**, if available\n",
    "    - the string \"UNKNOWN\" if impossible to determine the full or last name \n",
    "    - **Note**: besides \"NaN\", data collectors appear to have used the string \"Scattered\" to indicate missing names as well\n",
    "<p> </p> \n",
    "- convert the strings in **GENERAL PERCENT** to values of type float between $0$ and $100$ \n",
    "<p> </p> \n",
    "- restrict the DataFrame to only the columns **STATE**, **DISTRICT**, **CANDIDATE NAME**, **GENERAL PERCENT**"
   ]
  },
  {
   "cell_type": "code",
   "execution_count": 234,
   "metadata": {
    "collapsed": true
   },
   "outputs": [],
   "source": [
    "def clean_election_data():\n",
    "    '''\n",
    "    Function to clean election data \n",
    "    '''\n",
    "    \n",
    "    # read in dirty data \n",
    "    df = pd.read_csv(\"2014_election_results.csv\")\n",
    "    df = df.loc[df[\"STATE\"].notnull()&df[\"D\"].notnull()&df[\"GENERAL PERCENT\"]]\n",
    "    dfClean = df\n",
    "    for candidate_index, candidate in df.iterrows():\n",
    "        fullName = dfClean.loc[candidate_index, \"CANDIDATE NAME\"]\n",
    "        lastName = dfClean.loc[candidate_index, \"CANDIDATE NAME (Last)\"]\n",
    "        dfClean.loc[candidate_index, \"CANDIDATE NAME\"] = \"UNKNOWN\" if pd.isnull(fullName) or \"Scattered\" in fullName else fullName\n",
    "        fullName = dfClean.loc[candidate_index, \"CANDIDATE NAME\"]\n",
    "        dfClean.loc[candidate_index, \"CANDIDATE NAME\"] = lastName if fullName==\"UNKNOWN\" and pd.notnull(lastName) and \"Scattered\" not in lastName else dfClean.loc[candidate_index, \"CANDIDATE NAME\"]\n",
    "    dfClean[\"GENERAL PERCENT\"] = dfClean[\"GENERAL PERCENT\"].map(lambda x: str(x)[:-1])\n",
    "    dfClean[\"GENERAL PERCENT\"] = pd.to_numeric(dfClean[\"GENERAL PERCENT\"].str.replace(',','.'))\n",
    "    dfClean = dfClean[[\"STATE\", \"D\", \"CANDIDATE NAME\", \"GENERAL PERCENT\"]]\n",
    "    return dfClean\n"
   ]
  },
  {
   "cell_type": "markdown",
   "metadata": {},
   "source": [
    "**Part B**: Complete the function winners_and_margins( ) that takes in your clean DataFrame from **Part A** and returns a DataFrame with one row per state-district pair and with columns **STATE**, **D**, **WINNER**, and **MARGIN** where\n",
    "\n",
    "- **STATE** and **D** are as defined in the original DataFrame \n",
    "<p> </p> \n",
    "- **WINNER** is the name of the candidate that had the largest general vote percentage (which may possibly be \"UNKNOWN\")\n",
    "<p> </p> \n",
    "- **MARGIN** is the difference between the winning general vote percentage and the second highest vote percentage.  If there is only one candidate in a particular district you should list the general vote percentage obtained by the sole candidate. \n",
    "\n",
    "<p> </p> \n",
    "\n",
    "Finally, your DataFrame should be **sorted from most contentious races to least contentious** (i.e. from smallest winning margin to the largest). "
   ]
  },
  {
   "cell_type": "code",
   "execution_count": 235,
   "metadata": {},
   "outputs": [
    {
     "data": {
      "text/html": [
       "<div>\n",
       "<style>\n",
       "    .dataframe thead tr:only-child th {\n",
       "        text-align: right;\n",
       "    }\n",
       "\n",
       "    .dataframe thead th {\n",
       "        text-align: left;\n",
       "    }\n",
       "\n",
       "    .dataframe tbody tr th {\n",
       "        vertical-align: top;\n",
       "    }\n",
       "</style>\n",
       "<table border=\"1\" class=\"dataframe\">\n",
       "  <thead>\n",
       "    <tr style=\"text-align: right;\">\n",
       "      <th></th>\n",
       "      <th>D</th>\n",
       "      <th>MARGIN</th>\n",
       "      <th>STATE</th>\n",
       "      <th>WINNER</th>\n",
       "    </tr>\n",
       "  </thead>\n",
       "  <tbody>\n",
       "    <tr>\n",
       "      <th>117</th>\n",
       "      <td>14</td>\n",
       "      <td>100.00</td>\n",
       "      <td>Georgia</td>\n",
       "      <td>Graves, John Thomas \"Tom\"</td>\n",
       "    </tr>\n",
       "    <tr>\n",
       "      <th>119</th>\n",
       "      <td>3</td>\n",
       "      <td>100.00</td>\n",
       "      <td>Georgia</td>\n",
       "      <td>Westmoreland, Lynn Acton</td>\n",
       "    </tr>\n",
       "    <tr>\n",
       "      <th>116</th>\n",
       "      <td>13</td>\n",
       "      <td>100.00</td>\n",
       "      <td>Georgia</td>\n",
       "      <td>Scott</td>\n",
       "    </tr>\n",
       "    <tr>\n",
       "      <th>334</th>\n",
       "      <td>18</td>\n",
       "      <td>100.00</td>\n",
       "      <td>Pennsylvania</td>\n",
       "      <td>Murphy, Tim</td>\n",
       "    </tr>\n",
       "    <tr>\n",
       "      <th>114</th>\n",
       "      <td>11</td>\n",
       "      <td>100.00</td>\n",
       "      <td>Georgia</td>\n",
       "      <td>Loudermilk, Barry D.</td>\n",
       "    </tr>\n",
       "    <tr>\n",
       "      <th>331</th>\n",
       "      <td>15</td>\n",
       "      <td>100.00</td>\n",
       "      <td>Pennsylvania</td>\n",
       "      <td>Dent</td>\n",
       "    </tr>\n",
       "    <tr>\n",
       "      <th>330</th>\n",
       "      <td>14</td>\n",
       "      <td>100.00</td>\n",
       "      <td>Pennsylvania</td>\n",
       "      <td>Doyle, Mike</td>\n",
       "    </tr>\n",
       "    <tr>\n",
       "      <th>121</th>\n",
       "      <td>5</td>\n",
       "      <td>100.00</td>\n",
       "      <td>Georgia</td>\n",
       "      <td>Lewis, John R.</td>\n",
       "    </tr>\n",
       "    <tr>\n",
       "      <th>313</th>\n",
       "      <td>7</td>\n",
       "      <td>100.00</td>\n",
       "      <td>Ohio</td>\n",
       "      <td>Gibbs, Bob</td>\n",
       "    </tr>\n",
       "    <tr>\n",
       "      <th>393</th>\n",
       "      <td>4</td>\n",
       "      <td>100.00</td>\n",
       "      <td>Texas</td>\n",
       "      <td>Ratcliffe, John</td>\n",
       "    </tr>\n",
       "    <tr>\n",
       "      <th>120</th>\n",
       "      <td>4</td>\n",
       "      <td>99.86</td>\n",
       "      <td>Georgia</td>\n",
       "      <td>Johnson</td>\n",
       "    </tr>\n",
       "    <tr>\n",
       "      <th>124</th>\n",
       "      <td>8</td>\n",
       "      <td>99.82</td>\n",
       "      <td>Georgia</td>\n",
       "      <td>Scott, James Austin</td>\n",
       "    </tr>\n",
       "    <tr>\n",
       "      <th>100</th>\n",
       "      <td>21</td>\n",
       "      <td>99.26</td>\n",
       "      <td>Florida</td>\n",
       "      <td>Deutch, Ted</td>\n",
       "    </tr>\n",
       "    <tr>\n",
       "      <th>195</th>\n",
       "      <td>8</td>\n",
       "      <td>97.34</td>\n",
       "      <td>Massachusetts</td>\n",
       "      <td>Lynch</td>\n",
       "    </tr>\n",
       "    <tr>\n",
       "      <th>3</th>\n",
       "      <td>4</td>\n",
       "      <td>97.14</td>\n",
       "      <td>Alabama</td>\n",
       "      <td>Aderholt, Robert</td>\n",
       "    </tr>\n",
       "    <tr>\n",
       "      <th>6</th>\n",
       "      <td>7</td>\n",
       "      <td>96.74</td>\n",
       "      <td>Alabama</td>\n",
       "      <td>Sewell, Terri A.</td>\n",
       "    </tr>\n",
       "    <tr>\n",
       "      <th>194</th>\n",
       "      <td>7</td>\n",
       "      <td>96.66</td>\n",
       "      <td>Massachusetts</td>\n",
       "      <td>Capuano, Michael E.</td>\n",
       "    </tr>\n",
       "    <tr>\n",
       "      <th>192</th>\n",
       "      <td>5</td>\n",
       "      <td>96.58</td>\n",
       "      <td>Massachusetts</td>\n",
       "      <td>Clark, Katherine M.</td>\n",
       "    </tr>\n",
       "    <tr>\n",
       "      <th>189</th>\n",
       "      <td>2</td>\n",
       "      <td>96.40</td>\n",
       "      <td>Massachusetts</td>\n",
       "      <td>McGovern</td>\n",
       "    </tr>\n",
       "    <tr>\n",
       "      <th>188</th>\n",
       "      <td>1</td>\n",
       "      <td>95.92</td>\n",
       "      <td>Massachusetts</td>\n",
       "      <td>Neal, Richard E.</td>\n",
       "    </tr>\n",
       "    <tr>\n",
       "      <th>191</th>\n",
       "      <td>4</td>\n",
       "      <td>95.82</td>\n",
       "      <td>Massachusetts</td>\n",
       "      <td>Kennedy, Joseph P., III</td>\n",
       "    </tr>\n",
       "    <tr>\n",
       "      <th>263</th>\n",
       "      <td>15</td>\n",
       "      <td>90.79</td>\n",
       "      <td>New York</td>\n",
       "      <td>Serrano, Jose E.</td>\n",
       "    </tr>\n",
       "    <tr>\n",
       "      <th>279</th>\n",
       "      <td>5</td>\n",
       "      <td>90.00</td>\n",
       "      <td>New York</td>\n",
       "      <td>Meeks, Gregory  W.</td>\n",
       "    </tr>\n",
       "    <tr>\n",
       "      <th>297</th>\n",
       "      <td>9</td>\n",
       "      <td>89.17</td>\n",
       "      <td>North Carolina</td>\n",
       "      <td>Pittenger, Robert</td>\n",
       "    </tr>\n",
       "    <tr>\n",
       "      <th>411</th>\n",
       "      <td>3</td>\n",
       "      <td>88.86</td>\n",
       "      <td>Virginia</td>\n",
       "      <td>Scott, Robert C. \"Bobby\"</td>\n",
       "    </tr>\n",
       "    <tr>\n",
       "      <th>346</th>\n",
       "      <td>1</td>\n",
       "      <td>86.82</td>\n",
       "      <td>South Carolina</td>\n",
       "      <td>Sanford, Mark</td>\n",
       "    </tr>\n",
       "    <tr>\n",
       "      <th>404</th>\n",
       "      <td>0</td>\n",
       "      <td>82.26</td>\n",
       "      <td>Virgin Islands</td>\n",
       "      <td>Plaskett, Stacey</td>\n",
       "    </tr>\n",
       "    <tr>\n",
       "      <th>398</th>\n",
       "      <td>9</td>\n",
       "      <td>81.64</td>\n",
       "      <td>Texas</td>\n",
       "      <td>Green, Al</td>\n",
       "    </tr>\n",
       "    <tr>\n",
       "      <th>386</th>\n",
       "      <td>30</td>\n",
       "      <td>81.19</td>\n",
       "      <td>Texas</td>\n",
       "      <td>Johnson, Eddie Bernice</td>\n",
       "    </tr>\n",
       "    <tr>\n",
       "      <th>365</th>\n",
       "      <td>11</td>\n",
       "      <td>80.54</td>\n",
       "      <td>Texas</td>\n",
       "      <td>Conaway, Mike</td>\n",
       "    </tr>\n",
       "    <tr>\n",
       "      <th>...</th>\n",
       "      <td>...</td>\n",
       "      <td>...</td>\n",
       "      <td>...</td>\n",
       "      <td>...</td>\n",
       "    </tr>\n",
       "    <tr>\n",
       "      <th>9</th>\n",
       "      <td>1</td>\n",
       "      <td>5.22</td>\n",
       "      <td>Arizona</td>\n",
       "      <td>Kirkpatrick, Ann</td>\n",
       "    </tr>\n",
       "    <tr>\n",
       "      <th>179</th>\n",
       "      <td>2</td>\n",
       "      <td>5.20</td>\n",
       "      <td>Maine</td>\n",
       "      <td>Poliquin, Bruce</td>\n",
       "    </tr>\n",
       "    <tr>\n",
       "      <th>159</th>\n",
       "      <td>2</td>\n",
       "      <td>5.12</td>\n",
       "      <td>Iowa</td>\n",
       "      <td>Loebsack, Dave</td>\n",
       "    </tr>\n",
       "    <tr>\n",
       "      <th>402</th>\n",
       "      <td>4</td>\n",
       "      <td>5.11</td>\n",
       "      <td>Utah</td>\n",
       "      <td>Love, Mia B.</td>\n",
       "    </tr>\n",
       "    <tr>\n",
       "      <th>176</th>\n",
       "      <td>5</td>\n",
       "      <td>5.06</td>\n",
       "      <td>Louisiana</td>\n",
       "      <td>Mayo, \"Jamie\"</td>\n",
       "    </tr>\n",
       "    <tr>\n",
       "      <th>257</th>\n",
       "      <td>1</td>\n",
       "      <td>5.02</td>\n",
       "      <td>New York</td>\n",
       "      <td>Zeldin, Lee M.</td>\n",
       "    </tr>\n",
       "    <tr>\n",
       "      <th>74</th>\n",
       "      <td>9</td>\n",
       "      <td>4.74</td>\n",
       "      <td>California</td>\n",
       "      <td>McNerney, Jerry</td>\n",
       "    </tr>\n",
       "    <tr>\n",
       "      <th>38</th>\n",
       "      <td>24</td>\n",
       "      <td>3.86</td>\n",
       "      <td>California</td>\n",
       "      <td>Capps, Lois</td>\n",
       "    </tr>\n",
       "    <tr>\n",
       "      <th>127</th>\n",
       "      <td>1</td>\n",
       "      <td>3.86</td>\n",
       "      <td>Hawaii</td>\n",
       "      <td>Takai, Mark</td>\n",
       "    </tr>\n",
       "    <tr>\n",
       "      <th>239</th>\n",
       "      <td>1</td>\n",
       "      <td>3.60</td>\n",
       "      <td>New Hampshire</td>\n",
       "      <td>Guinta, Frank C.</td>\n",
       "    </tr>\n",
       "    <tr>\n",
       "      <th>30</th>\n",
       "      <td>17</td>\n",
       "      <td>3.50</td>\n",
       "      <td>California</td>\n",
       "      <td>Honda</td>\n",
       "    </tr>\n",
       "    <tr>\n",
       "      <th>46</th>\n",
       "      <td>31</td>\n",
       "      <td>3.46</td>\n",
       "      <td>California</td>\n",
       "      <td>Aguilar, Pete</td>\n",
       "    </tr>\n",
       "    <tr>\n",
       "      <th>233</th>\n",
       "      <td>2</td>\n",
       "      <td>3.33</td>\n",
       "      <td>Nebraska</td>\n",
       "      <td>Ashford, Brad</td>\n",
       "    </tr>\n",
       "    <tr>\n",
       "      <th>428</th>\n",
       "      <td>2</td>\n",
       "      <td>3.20</td>\n",
       "      <td>West Virginia</td>\n",
       "      <td>Mooney, Alex X.</td>\n",
       "    </tr>\n",
       "    <tr>\n",
       "      <th>69</th>\n",
       "      <td>52</td>\n",
       "      <td>3.18</td>\n",
       "      <td>California</td>\n",
       "      <td>Peters, Scott</td>\n",
       "    </tr>\n",
       "    <tr>\n",
       "      <th>104</th>\n",
       "      <td>26</td>\n",
       "      <td>2.92</td>\n",
       "      <td>Florida</td>\n",
       "      <td>Curbelo, Carlos</td>\n",
       "    </tr>\n",
       "    <tr>\n",
       "      <th>238</th>\n",
       "      <td>4</td>\n",
       "      <td>2.77</td>\n",
       "      <td>Nevada</td>\n",
       "      <td>Hardy, Cresent</td>\n",
       "    </tr>\n",
       "    <tr>\n",
       "      <th>177</th>\n",
       "      <td>6</td>\n",
       "      <td>2.76</td>\n",
       "      <td>Louisiana</td>\n",
       "      <td>Edwards, Edwin</td>\n",
       "    </tr>\n",
       "    <tr>\n",
       "      <th>40</th>\n",
       "      <td>26</td>\n",
       "      <td>2.66</td>\n",
       "      <td>California</td>\n",
       "      <td>Brownley, Julia</td>\n",
       "    </tr>\n",
       "    <tr>\n",
       "      <th>132</th>\n",
       "      <td>10</td>\n",
       "      <td>2.60</td>\n",
       "      <td>Illinois</td>\n",
       "      <td>Dold, Robert</td>\n",
       "    </tr>\n",
       "    <tr>\n",
       "      <th>158</th>\n",
       "      <td>1</td>\n",
       "      <td>2.28</td>\n",
       "      <td>Iowa</td>\n",
       "      <td>Blum, Rod</td>\n",
       "    </tr>\n",
       "    <tr>\n",
       "      <th>378</th>\n",
       "      <td>23</td>\n",
       "      <td>2.10</td>\n",
       "      <td>Texas</td>\n",
       "      <td>Hurd, Will</td>\n",
       "    </tr>\n",
       "    <tr>\n",
       "      <th>421</th>\n",
       "      <td>4</td>\n",
       "      <td>1.62</td>\n",
       "      <td>Washington</td>\n",
       "      <td>Newhouse, Dan</td>\n",
       "    </tr>\n",
       "    <tr>\n",
       "      <th>29</th>\n",
       "      <td>16</td>\n",
       "      <td>1.46</td>\n",
       "      <td>California</td>\n",
       "      <td>Costa</td>\n",
       "    </tr>\n",
       "    <tr>\n",
       "      <th>185</th>\n",
       "      <td>6</td>\n",
       "      <td>1.45</td>\n",
       "      <td>Maryland</td>\n",
       "      <td>Delaney, John K.</td>\n",
       "    </tr>\n",
       "    <tr>\n",
       "      <th>218</th>\n",
       "      <td>8</td>\n",
       "      <td>1.40</td>\n",
       "      <td>Minnesota</td>\n",
       "      <td>Nolan, Rick</td>\n",
       "    </tr>\n",
       "    <tr>\n",
       "      <th>98</th>\n",
       "      <td>2</td>\n",
       "      <td>1.13</td>\n",
       "      <td>Florida</td>\n",
       "      <td>Graham, Gwen</td>\n",
       "    </tr>\n",
       "    <tr>\n",
       "      <th>72</th>\n",
       "      <td>7</td>\n",
       "      <td>0.80</td>\n",
       "      <td>California</td>\n",
       "      <td>Bera, Ami</td>\n",
       "    </tr>\n",
       "    <tr>\n",
       "      <th>343</th>\n",
       "      <td>H</td>\n",
       "      <td>0.17</td>\n",
       "      <td>Pennsylvania</td>\n",
       "      <td>UNKNOWN</td>\n",
       "    </tr>\n",
       "    <tr>\n",
       "      <th>10</th>\n",
       "      <td>2</td>\n",
       "      <td>0.07</td>\n",
       "      <td>Arizona</td>\n",
       "      <td>McSally</td>\n",
       "    </tr>\n",
       "  </tbody>\n",
       "</table>\n",
       "<p>440 rows × 4 columns</p>\n",
       "</div>"
      ],
      "text/plain": [
       "      D  MARGIN           STATE                     WINNER\n",
       "117  14  100.00         Georgia  Graves, John Thomas \"Tom\"\n",
       "119   3  100.00         Georgia   Westmoreland, Lynn Acton\n",
       "116  13  100.00         Georgia                      Scott\n",
       "334  18  100.00    Pennsylvania                Murphy, Tim\n",
       "114  11  100.00         Georgia       Loudermilk, Barry D.\n",
       "331  15  100.00    Pennsylvania                       Dent\n",
       "330  14  100.00    Pennsylvania                Doyle, Mike\n",
       "121   5  100.00         Georgia             Lewis, John R.\n",
       "313   7  100.00            Ohio                Gibbs, Bob \n",
       "393   4  100.00           Texas            Ratcliffe, John\n",
       "120   4   99.86         Georgia                    Johnson\n",
       "124   8   99.82         Georgia        Scott, James Austin\n",
       "100  21   99.26         Florida                Deutch, Ted\n",
       "195   8   97.34   Massachusetts                      Lynch\n",
       "3     4   97.14         Alabama           Aderholt, Robert\n",
       "6     7   96.74         Alabama           Sewell, Terri A.\n",
       "194   7   96.66   Massachusetts        Capuano, Michael E.\n",
       "192   5   96.58   Massachusetts        Clark, Katherine M.\n",
       "189   2   96.40   Massachusetts                   McGovern\n",
       "188   1   95.92   Massachusetts           Neal, Richard E.\n",
       "191   4   95.82   Massachusetts    Kennedy, Joseph P., III\n",
       "263  15   90.79        New York           Serrano, Jose E.\n",
       "279   5   90.00        New York         Meeks, Gregory  W.\n",
       "297   9   89.17  North Carolina          Pittenger, Robert\n",
       "411   3   88.86        Virginia   Scott, Robert C. \"Bobby\"\n",
       "346   1   86.82  South Carolina              Sanford, Mark\n",
       "404   0   82.26  Virgin Islands           Plaskett, Stacey\n",
       "398   9   81.64           Texas                  Green, Al\n",
       "386  30   81.19           Texas     Johnson, Eddie Bernice\n",
       "365  11   80.54           Texas              Conaway, Mike\n",
       "..   ..     ...             ...                        ...\n",
       "9     1    5.22         Arizona           Kirkpatrick, Ann\n",
       "179   2    5.20           Maine           Poliquin, Bruce \n",
       "159   2    5.12            Iowa             Loebsack, Dave\n",
       "402   4    5.11            Utah               Love, Mia B.\n",
       "176   5    5.06       Louisiana              Mayo, \"Jamie\"\n",
       "257   1    5.02        New York             Zeldin, Lee M.\n",
       "74    9    4.74      California            McNerney, Jerry\n",
       "38   24    3.86      California                Capps, Lois\n",
       "127   1    3.86          Hawaii                Takai, Mark\n",
       "239   1    3.60   New Hampshire           Guinta, Frank C.\n",
       "30   17    3.50      California                      Honda\n",
       "46   31    3.46      California              Aguilar, Pete\n",
       "233   2    3.33        Nebraska             Ashford, Brad \n",
       "428   2    3.20   West Virginia            Mooney, Alex X.\n",
       "69   52    3.18      California              Peters, Scott\n",
       "104  26    2.92         Florida           Curbelo, Carlos \n",
       "238   4    2.77          Nevada             Hardy, Cresent\n",
       "177   6    2.76       Louisiana             Edwards, Edwin\n",
       "40   26    2.66      California            Brownley, Julia\n",
       "132  10    2.60        Illinois               Dold, Robert\n",
       "158   1    2.28            Iowa                  Blum, Rod\n",
       "378  23    2.10           Texas                 Hurd, Will\n",
       "421   4    1.62      Washington              Newhouse, Dan\n",
       "29   16    1.46      California                      Costa\n",
       "185   6    1.45        Maryland           Delaney, John K.\n",
       "218   8    1.40       Minnesota                Nolan, Rick\n",
       "98    2    1.13         Florida               Graham, Gwen\n",
       "72    7    0.80      California                  Bera, Ami\n",
       "343   H    0.17    Pennsylvania                    UNKNOWN\n",
       "10    2    0.07         Arizona                    McSally\n",
       "\n",
       "[440 rows x 4 columns]"
      ]
     },
     "execution_count": 235,
     "metadata": {},
     "output_type": "execute_result"
    }
   ],
   "source": [
    "def winners_and_margins(df):\n",
    "    d = []\n",
    "    for name, group in df.groupby([\"STATE\",\"D\"]):\n",
    "        sortedGroup = group.sort_values(ascending=False, by=\"GENERAL PERCENT\")\n",
    "        max1 = sortedGroup[\"GENERAL PERCENT\"].iloc[0]\n",
    "        max2 = sortedGroup[\"GENERAL PERCENT\"].iloc[1] if sortedGroup[\"GENERAL PERCENT\"].count() > 1 else 0\n",
    "        d.append({\"STATE\":name[0],\"D\":name[1],\"WINNER\":sortedGroup[\"CANDIDATE NAME\"].iloc[0],\"MARGIN\":max1-max2})        \n",
    "    dfNew = pd.DataFrame(d)\n",
    "    dfNew = dfNew.sort_values(ascending=True, by=\"MARGIN\")\n",
    "    return dfNew\n",
    "winners_and_margins(clean_election_data())"
   ]
  },
  {
   "cell_type": "markdown",
   "metadata": {},
   "source": [
    "### Challenge Problem\n",
    "***\n",
    "\n",
    "In every homework assignment we'll give you a Challenge Problem.  Challenge Problems never need to be turned in (and in fact, will not be graded) but we encourage you to give them a shot (after completing the required homework problems) and discuss them with your classmates and your instructors.  \n",
    "\n",
    "In the 1954 book _How to Lie with Statistics_, authors Darrell Huff and Irving Geis describe some common ways that people concoct misleading graphics.  An excerpt from these chapters can be found [here](https://piazza.com/class_profile/get_resource/j6pfvv6b9ze4gi/j771gy7fdpe3e7).  \n",
    "\n",
    "Your job is to go out onto the web and find some data that you find interesting.  Then create both a misleading and a non-misleading version of a graphical summary for the data. **If you come up with something that you're proud of then please post it to Piazza!**"
   ]
  },
  {
   "cell_type": "code",
   "execution_count": null,
   "metadata": {
    "collapsed": true
   },
   "outputs": [],
   "source": []
  }
 ],
 "metadata": {
  "kernelspec": {
   "display_name": "Python 3",
   "language": "python",
   "name": "python3"
  },
  "language_info": {
   "codemirror_mode": {
    "name": "ipython",
    "version": 3
   },
   "file_extension": ".py",
   "mimetype": "text/x-python",
   "name": "python",
   "nbconvert_exporter": "python",
   "pygments_lexer": "ipython3",
   "version": "3.5.2"
  }
 },
 "nbformat": 4,
 "nbformat_minor": 2
}
