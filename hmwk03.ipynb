{
 "cells": [
  {
   "cell_type": "markdown",
   "metadata": {},
   "source": [
    "# Homework 3: Random Variables and Their Distributions\n",
    "***\n",
    "\n",
    "**Name**: \n",
    "\n",
    "**Section**: (001 or 002)\n",
    "***\n",
    "\n",
    "This assignment is due on Moodle by **5pm on Friday October 13th**. Your solutions to theoretical questions should be done in Markdown/MathJax directly below the associated question.  Your solutions to computational questions should include any specified Python code and results as well as written commentary on your conclusions.  Remember that you are encouraged to discuss the problems with your instructors and classmates, but **you must write all code and solutions on your own**.  For a refresher on the course **Collaboration Policy** click [here](https://github.com/chrisketelsen/csci3022/blob/master/resources/syllabus.md#collaboration-policy).  \n",
    "\n",
    "**NOTES**: \n",
    "\n",
    "- Do **NOT** load or use any Python packages that are not available in Anaconda 3.6. \n",
    "- Some problems with code may be autograded.  If we provide a function API **do not** change it.  If we do not provide a function API then you're free to structure your code however you like. \n",
    "- Because you can technically evaluate notebook cells is a non-linear order, it's a good idea to do Cell $\\rightarrow$ Run All as a check before submitting your solutions.  That way if we need to run your code you will know that it will work as expected. \n",
    "- Submit only this Jupyter notebook to Moodle.  Do not compress it using tar, rar, zip, etc. "
   ]
  },
  {
   "cell_type": "code",
   "execution_count": 1,
   "metadata": {
    "collapsed": true,
    "scrolled": true
   },
   "outputs": [],
   "source": [
    "import pandas as pd\n",
    "import numpy as np\n",
    "import matplotlib.pylab as plt\n",
    "from scipy.special import binom\n",
    "import math\n",
    "%matplotlib inline"
   ]
  },
  {
   "cell_type": "markdown",
   "metadata": {},
   "source": [
    "### [15 points] Problem 1 \n",
    "***\n",
    "\n",
    "A young boy and an old woman are playing [tic tac toe](https://en.wikipedia.org/wiki/Tic-tac-toe). Unfortunately, the boy is too young to know the strategy and the old woman can't see the board well enough to enact a strategy. Nevertheless, they are content to play games with each other. The boy plays first and randomly places an X in an open square. The woman plays next, and randomly places an O in one of the remaining open squares. They each play randomly until someone gets three in a row, and then start a new game. Estimate, via simulation, the probability that the boy wins.\n",
    "\n",
    "**Note**: Part of the goal of this exercises is to give you more practice structuring a simulation. Definitely don't be afraid to write helper functions that get called from your main simulation routine. Things you might want to do modularly are (i) play a single game of tic-tac-toe, (ii) place an $X$ or an $O$ on an free square, or (iii) check if someone has one the game. This problem will not be autograded so feel free to get creative.  Just make sure to clearly display your results in code output and summarize things in Markdown. "
   ]
  },
  {
   "cell_type": "code",
   "execution_count": 2,
   "metadata": {},
   "outputs": [
    {
     "name": "stdout",
     "output_type": "stream",
     "text": [
      "Probability that boy wins: 0.589\n"
     ]
    }
   ],
   "source": [
    "def simulation(n = 100):\n",
    "    boyWin = 0\n",
    "    total = 0\n",
    "    for i in range(n):\n",
    "        total = total + 1\n",
    "        if ttt() == 'b':\n",
    "            boyWin = boyWin + 1\n",
    "    print(\"Probability that boy wins: \"+str(boyWin/total))\n",
    "    \n",
    "    \n",
    "def ttt():\n",
    "    board = [[' ' for x in range(3)] for y in range(3)]\n",
    "    avail = [i for i in range(0, 9)]\n",
    "    done = False\n",
    "    winner = ''\n",
    "    \n",
    "    while not done:\n",
    "        index = np.random.choice(avail)\n",
    "        avail.remove(index)\n",
    "        board[int(index/3)][int(index%3)] = 'X'\n",
    "        if check(board):\n",
    "            done = True\n",
    "            winner = 'b'\n",
    "            break\n",
    "        if not avail:\n",
    "            winner = 'n'\n",
    "            done = True\n",
    "            break\n",
    "        index = np.random.choice(avail)\n",
    "        avail.remove(index)\n",
    "        board[int(index/3)][int(index%3)] = 'O'\n",
    "        if check(board):\n",
    "            done = True\n",
    "            winner = 'w'\n",
    "        if not avail:\n",
    "            winner = 'n'\n",
    "            done = True\n",
    "            \n",
    "    #for row in board:\n",
    "    #    print(row)\n",
    "    #print('\\n')            \n",
    "    return winner\n",
    "            \n",
    "def check(board):\n",
    "    win = False\n",
    "    for row in board:\n",
    "        if row == ['X','X','X'] or row == ['O','O','O']:\n",
    "            win = True\n",
    "    for i in range(3):\n",
    "        vertical = [column[i] for column in board]\n",
    "        if vertical == ['X','X','X'] or vertical == ['O','O','O']:\n",
    "            win = True\n",
    "    diag1 = [board[0][0], board[1][1], board[2][2]]\n",
    "    diag2 = [board[0][2], board[1][1], board[2][0]]\n",
    "    if diag1 == ['X','X','X'] or diag1 == ['O','O','O'] or diag2 == ['X','X','X'] or diag2 == ['O','O','O']:\n",
    "        win = True\n",
    "    return win\n",
    "simulation(10000)\n",
    "\n",
    "    "
   ]
  },
  {
   "cell_type": "markdown",
   "metadata": {},
   "source": [
    "As we can see from the result of 10000 simulations of tic tac toe, the probability of the boy winning is higher than that of the old woman since his probability is over 0.5. This makes sense because since the boy goes first, if a match were to go until the entire board fills up, the boy would have 5 'X' on the board and the old woman would only have 4 'O'. It's easier to have 3 in a row if you have more pieces on the board. Even throughout each of the boy's turn before they fill out the board, the boy will always have either one more than the old woman or the same amount of pieces on the board. Therefore, the boy has higher probability of winning than the old woman."
   ]
  },
  {
   "cell_type": "markdown",
   "metadata": {},
   "source": [
    "### [20 points] Problem 2 \n",
    "***\n",
    "\n",
    "Let $X$ be the lifespan (in years) of a BF Goodrich Rugged Trail T/A tire under normal driving conditions, and suppose $X$ is described by the following probability density function: \n",
    "\n",
    "$$\n",
    "f(x) = \\left\\{ \n",
    "\\begin{array}{ll}\n",
    "\\dfrac{10}{cx^2} & 1 \\leq x \\leq 10 \\\\\n",
    "0 & \\textrm{otherwise}\n",
    "\\end{array}\n",
    "\\right.\n",
    "$$\n",
    "\n",
    "**Part A**: Determine the value of $c$ such that $f(x)$ is a valid density function. "
   ]
  },
  {
   "cell_type": "markdown",
   "metadata": {
    "collapsed": true
   },
   "source": [
    "For f(x) to be a valid density function, the total area underneath it needs to be 1 total because it describes a probabilty. \n",
    "So, we must find the value of c that makes the integral of f(x) evaluate to 1 in the entire range of possible x. Since f(x) is 0 when x is below 1 and above 10, we only need to calcualte the area underneath the line f(x) from $1 \\leq x \\leq 10$\n",
    "\\begin{align}\n",
    "\\int_{1}^{10} \\frac{10}{cx^2} dx &= -\\frac{10}{10c} + \\frac{10}{c}\\\\\n",
    "                                 &= \\frac{9}{c} \\\\\n",
    "                                 &= 1\n",
    "\\end{align}\n",
    "\n",
    "Therefore, $c$ = 9 for $f(x)$ to be a valid density function."
   ]
  },
  {
   "cell_type": "markdown",
   "metadata": {},
   "source": [
    "**Part B**: Compute the cumulative distribution function $F(y)$ for $X$. "
   ]
  },
  {
   "cell_type": "markdown",
   "metadata": {
    "collapsed": true
   },
   "source": [
    "$F(y) = P(X \\le y) = \\int_{-\\infty}^{y} \\frac{10}{9x^2} dx$"
   ]
  },
  {
   "cell_type": "markdown",
   "metadata": {},
   "source": [
    "**Part C**: Use the cdf you computed in **Part B** to find the probability that a single tire goes longer than 8 years without failing. "
   ]
  },
  {
   "cell_type": "markdown",
   "metadata": {
    "collapsed": true
   },
   "source": [
    "\\begin{align}\n",
    "P(X \\le 8) &= F(8)\\\\\n",
    "                 &= \\int_{1}^{8} \\frac{10}{9x^2} + 0\\\\\n",
    "                 &= 0.972...\n",
    "\\end{align}\n",
    "0.972... is the probability that a single tire lasts less than 8 years. The probability it goes longer than 8 years is therefore 1 - 0.972... = 0.027... \n"
   ]
  },
  {
   "cell_type": "markdown",
   "metadata": {},
   "source": [
    "**Part D**: Use the cdf you computed in **Part B** to determine the number of years within which $90\\%$ of all tires will need to be replaced. In other words, determine the 90th percentile of the distribution of $X$. "
   ]
  },
  {
   "cell_type": "markdown",
   "metadata": {
    "collapsed": true
   },
   "source": [
    "To find out the 90th percentile, we can use our cdf to calculate what value y needs to be for $P(X \\le y) = 0.9$\n",
    "\\begin{align}\n",
    "P(X \\le y) &= F(y) \\\\\n",
    "&= \\int_{1}^{y} \\frac{10}{9x^2} dx \\\\\n",
    "&= -(\\frac{10}{9y} - \\frac{10}{9}) \\\\\n",
    "&= \\frac{10}{9} - \\frac{10}{9y} = \\frac{9}{10} \\\\\n",
    "\\end{align}\n",
    "\\begin{align}\n",
    "\\frac{10}{9y} &= \\frac{19}{90} \\\\\n",
    "y &= \\frac{100}{19}\n",
    "\\end{align}\n",
    "Therefore, within 100/19 years, which is a little over 5 years, 90% of all tires will have to be replaced."
   ]
  },
  {
   "cell_type": "markdown",
   "metadata": {},
   "source": [
    "**Part E**: What is the probability that all four BF Goodrich Rugged Trail T/A tires on a vehicle last longer than 8 years without failing? "
   ]
  },
  {
   "cell_type": "markdown",
   "metadata": {
    "collapsed": true
   },
   "source": [
    "Because the event of each tire on a vehicle is independent, we can multiply the probability of each tire lasting longer than 8 years to find out the probability of all four of them lasting longer than 8 years.\n",
    "\\begin{align}\n",
    "\\frac{1}{36}\\frac{1}{36}\\frac{1}{36}\\frac{1}{36} = \\frac{1}{36}^4\n",
    "\\end{align}\n",
    "The probability of all four tires on a vehicle lasting longer than 8 years is $\\frac{1}{36}^4$"
   ]
  },
  {
   "cell_type": "markdown",
   "metadata": {},
   "source": [
    "### [20 points] Problem 3 \n",
    "***\n",
    "\n",
    "Let $X =$ the leading digit of a randomly selected number from a large accounting\n",
    "ledger. For example, if we randomly draw the number \\$20,695, then $X = 2.$\n",
    "People who make up numbers to commit accounting fraud tend to give $X$ a\n",
    "(discrete) uniform distribution, i.e., $P(X = x) = \\frac{1}{9}$, for $x \\in \\{1, ..., 9\\}$. However,\n",
    "there is empirical evidence that suggests that _naturally occurring_ numbers (e.g.,\n",
    "numbers in a non-fraudulent accounting ledgers) have leading digits that do not\n",
    "follow a uniform distribution. Instead, they follow a distribution defined by the following probability mass function:\n",
    "\n",
    "$$\n",
    "f(x) = \\log_{10}\\left( \\frac{x+1}{x} \\right) \\quad \\textrm{for } x = 1, 2, \\ldots, 9\n",
    "$$"
   ]
  },
  {
   "cell_type": "markdown",
   "metadata": {},
   "source": [
    "**Part A**: Write a function pmf_natural that implements $f(x)$. Your function should take in an integer $x$ and return $f(x) = P(X = x)$.  Use your function to argue that $f(x)$ is a well-defined probability mass function. "
   ]
  },
  {
   "cell_type": "code",
   "execution_count": 3,
   "metadata": {
    "collapsed": true
   },
   "outputs": [],
   "source": [
    "def pmf_natural(x):\n",
    "    return np.log10((x+1)/x)"
   ]
  },
  {
   "cell_type": "code",
   "execution_count": 4,
   "metadata": {},
   "outputs": [
    {
     "name": "stdout",
     "output_type": "stream",
     "text": [
      "The sum of probabilities for all possibilities of x: 1.0\n"
     ]
    }
   ],
   "source": [
    "sum = 0\n",
    "for i in range(1, 10):\n",
    "    sum = sum + pmf_natural(i)\n",
    "print(\"The sum of probabilities for all possibilities of x: \"+str(sum))"
   ]
  },
  {
   "cell_type": "markdown",
   "metadata": {},
   "source": [
    "We can see that the sum of probabilities for all possibilities of x is 1. Also, we know that log(x) is not negative within the range of $1 \\leq x \\leq 10$. Therefore, by definition we can argue that f(x) is a well-defined probability mass function."
   ]
  },
  {
   "cell_type": "markdown",
   "metadata": {},
   "source": [
    "**Part B**: Use the function you wrote above to make stacked bar plots describing the pmf of the naturally occurring numbers as well as the discrete uniform distribution.  Make sure that the $x$- and $y$-limits on your plots are the same so that the two distributions are easy to compare. "
   ]
  },
  {
   "cell_type": "code",
   "execution_count": 5,
   "metadata": {},
   "outputs": [
    {
     "data": {
      "image/png": "[encoded data removed]",
      "text/plain": [
       "<matplotlib.figure.Figure at 0x7f5410e25b00>"
      ]
     },
     "metadata": {},
     "output_type": "display_data"
    },
    {
     "data": {
      "image/png": "[encoded data removed]",
      "text/plain": [
       "<matplotlib.figure.Figure at 0x7f540da6f080>"
      ]
     },
     "metadata": {},
     "output_type": "display_data"
    }
   ],
   "source": [
    "pmf = [pmf_natural(i) for i in range(1, 10)]\n",
    "ud = [1/9 for x in range(1, 10)]\n",
    "\n",
    "plt.bar([i for i in range(1, 10)], pmf, color = 'b')\n",
    "plt.ylim(0, 0.4)\n",
    "plt.title(\"Probability Mass Function of f(x)\")\n",
    "plt.xlabel(\"Leading Digit\")\n",
    "plt.ylabel(\"Probability\")\n",
    "plt.show()\n",
    "plt.bar([i for i in range(1, 10)], ud, color = 'b')\n",
    "plt.ylim(0, 0.4)\n",
    "plt.title(\"Probability Mass Function of Discrete Uniform Distribution\")\n",
    "plt.ylabel(\"Probability\")\n",
    "plt.xlabel(\"Leading Digit\")\n",
    "plt.show()"
   ]
  },
  {
   "cell_type": "markdown",
   "metadata": {},
   "source": [
    "We can see the PMF of f(x) is very different from discrete uniform distribution. The probability of f(x) is highest at 1 and decreases as the leading digit increases."
   ]
  },
  {
   "cell_type": "markdown",
   "metadata": {},
   "source": [
    "**Part C**: Write a function cdf_natural that implements the cumulative distribution function $F(y)$ for $X$ and use it to compute the probability that the leading digit in a number is at most 4 and at most 5. "
   ]
  },
  {
   "cell_type": "code",
   "execution_count": 6,
   "metadata": {},
   "outputs": [
    {
     "name": "stdout",
     "output_type": "stream",
     "text": [
      "Probability that leading digit in number is at most 4: 0.698970004336\n",
      "Probability that leading digit in number is at most 5: 0.778151250384\n"
     ]
    }
   ],
   "source": [
    "def cdf_natural(y):\n",
    "    sum = 0\n",
    "    for i in range(1, y+1):\n",
    "        sum = sum + pmf_natural(i)\n",
    "    return sum\n",
    "print(\"Probability that leading digit in number is at most 4: \"+str(cdf_natural(4)))\n",
    "print(\"Probability that leading digit in number is at most 5: \"+str(cdf_natural(5)))"
   ]
  },
  {
   "cell_type": "markdown",
   "metadata": {},
   "source": [
    "We can find the probability of the leading digit in a number being at most 4 and at most 5 by using our cdf_natural function."
   ]
  },
  {
   "cell_type": "markdown",
   "metadata": {},
   "source": [
    "**Part D**: The data in tax_data.txt contains the taxable income for individuals in 1978. Use Pandas and the information from **Parts A-D** to determine whether or not the dataset is likely fraudulent.  In addition to code and any graphical summaries, make sure to clearly justify your conclusion in words. "
   ]
  },
  {
   "cell_type": "code",
   "execution_count": 7,
   "metadata": {},
   "outputs": [
    {
     "data": {
      "image/png": "[encoded data removed]",
      "text/plain": [
       "<matplotlib.figure.Figure at 0x7f540d997470>"
      ]
     },
     "metadata": {},
     "output_type": "display_data"
    }
   ],
   "source": [
    "data = pd.read_table(\"tax_data.txt\")\n",
    "leading = [0 for i in range(1, 10)]\n",
    "for row in data[\"Tax Incomes\"]:\n",
    "    number = str(row)\n",
    "    digit = int(number[0])\n",
    "    if not digit == 0:\n",
    "        leading[digit-1] = leading[digit-1] + 1\n",
    "plt.bar([i for i in range(1, 10)], leading, color = 'b')\n",
    "plt.title(\"Distribution of Leading Digits in Tax Data\")\n",
    "plt.xlabel(\"Leading Digit\")\n",
    "plt.ylabel(\"Occurence in Account Ledger\")\n",
    "plt.show()"
   ]
  },
  {
   "cell_type": "markdown",
   "metadata": {},
   "source": [
    "We can see from the figure above that the leading digits of the numbers in the account ledger do not follow a discrete uniform distribution. In fact, the graph shows a very strong resemblance to the first graph that depicts the probability mass function of f(x) from part A. The curve is almost identical. We know that fraudulent data tends to follow the distribution of f(x) so I conclude that the dataset given is fraudulent. "
   ]
  },
  {
   "cell_type": "markdown",
   "metadata": {},
   "source": [
    "### [25 points] Problem 4 \n",
    "***\n",
    "\n",
    "You are a data-driven transportation engineer investigating the effect that a particular [vertical lift bridge](https://en.wikipedia.org/wiki/Vertical-lift_bridge) has on city traffic.  Every time a boat passes under the bridge, cars must stop while the bridge is raised to accommodate the height of the boat.  As both boat and car traffic increases, city planners are considering building a new taller bridge that will never impede the flow of traffic. As part of a larger simulation of traffic congestion, you need to decide how to model the arrival of boats at the bridge.  From your Intro to Data Science class you remember that the time _between_ independent arrivals are usually modeled by an Exponential distribution.  Finally, you have access to a report that says on average 20 boats cross under the bridge per day.\n",
    "\n",
    "Answer the following questions about this scenario. **Note** that for **Parts B-D** you should clearly express the computation you're doing with math, but feel free to do any fancy function evaluations with Python. \n",
    "\n",
    "**Part A**:  Assuming the between-boat times do in-fact follow $Exp(20)$, what distribution would you expect the **number** of boats that cross under the bridge on a given day to follow?  What are the parameter(s) of the distribution? "
   ]
  },
  {
   "cell_type": "markdown",
   "metadata": {
    "collapsed": true
   },
   "source": [
    "I would expect the number of boats that cross under the bridge to follow a Poisson Distribution since an Exponential Distribution is a probability distribution that describes the time between events in a Poisson Process. The rate parameter $\\lambda$ = 20/day in this problem. Also, it would need a parameter $k$ which is the number of events for which we want to find the probability of occuring. "
   ]
  },
  {
   "cell_type": "markdown",
   "metadata": {},
   "source": [
    "**Part B**:  What is the probability that 25 boats cross under the bridge on a particular day?"
   ]
  },
  {
   "cell_type": "markdown",
   "metadata": {
    "collapsed": true
   },
   "source": [
    "The Poisson Distribution looks like this: $e^{-\\lambda}\\frac{\\lambda^k}{k!}$\n",
    "\n",
    "By plugging in the parameters I described above where $k = 25$ now, \n",
    "$e^{-20}\\frac{20^{25}}{25!} = $\n",
    "0.0445876491\n",
    "\n",
    "Therefore, the probability that 25 boats cross under the bridge on a particular day is 0.0445876491."
   ]
  },
  {
   "cell_type": "markdown",
   "metadata": {},
   "source": [
    "**Part C**:  What is the probability that 15 boats or fewer cross under the bridge on a particular day?"
   ]
  },
  {
   "cell_type": "code",
   "execution_count": 8,
   "metadata": {},
   "outputs": [
    {
     "name": "stdout",
     "output_type": "stream",
     "text": [
      "Probability that 15 boats or fewer cross under the bridge on a particular day: 0.1565131346397432\n"
     ]
    }
   ],
   "source": [
    "sum = 0\n",
    "for k in range(16):\n",
    "    sum = sum + math.pow(math.e,-20)*math.pow(20,k)/math.factorial(k)\n",
    "print(\"Probability that 15 boats or fewer cross under the bridge on a particular day: \"+str(sum))"
   ]
  },
  {
   "cell_type": "markdown",
   "metadata": {},
   "source": [
    "We can add all the probabilities of n boats crossing under the bridge in a particular day where $n\\le15$ to find the answer to this question. To find the probability for each n, we simply plug in n as the k parameter in the Poisson Distribution function that we have in Part B with the same rate parameter $\\lambda=20$ boats/day. "
   ]
  },
  {
   "cell_type": "markdown",
   "metadata": {},
   "source": [
    "**Part D**: What is the probability that between 1 and 2 hours pass between two boat crossings? "
   ]
  },
  {
   "cell_type": "code",
   "execution_count": 9,
   "metadata": {},
   "outputs": [
    {
     "name": "stdout",
     "output_type": "stream",
     "text": [
      "Probability between 1 and 2 hours pass between two boat crossings0.24572260566951643\n"
     ]
    }
   ],
   "source": [
    "def cdf(time):\n",
    "    return 1 - math.pow(math.e, -time*20)\n",
    "print(\"Probability between 1 and 2 hours pass between two boat crossings\"+str(cdf(2/24)-cdf(1/24)))"
   ]
  },
  {
   "cell_type": "markdown",
   "metadata": {},
   "source": [
    "We can find the probability of a certain time interval passing between two boat crossings by subtracting the probability of 2 hours passing between two boat crossings by the probability of 1 hour passing between boat crossings. We can find each probability by using the cumulative distribution function of the exponential distribution, which is $1-e^{\\lambda x}$ when x is greater than or equal to 0. Since the time unit of the rate parameter is per day, I had to calculate 1 hour and 2 hour relative to its proportion to 24 hours. This is our x parameter."
   ]
  },
  {
   "cell_type": "markdown",
   "metadata": {},
   "source": [
    "**Part F**: Write a function boat_count that takes as it's sole argument the rate parameter $\\lambda$ with units boats per day. Your function should simulate boat arrivals at the bridge by sampling between-boat times from $Exp(\\lambda)$ via Numpy's [random.exponential](https://docs.scipy.org/doc/numpy-1.13.0/reference/generated/numpy.random.exponential.html) function and return the number of boats that pass under the bridge on a single simulated day. \n",
    "\n",
    "**Note**: Do not change the API for this function.  "
   ]
  },
  {
   "cell_type": "code",
   "execution_count": 10,
   "metadata": {
    "collapsed": true
   },
   "outputs": [],
   "source": [
    "def boat_count(lam):\n",
    "    time_interval = 0\n",
    "    total_time = 0\n",
    "    boats = 0\n",
    "    while total_time+time_interval < 1:\n",
    "        total_time = total_time + time_interval\n",
    "        time_interval = np.random.exponential(1/lam)\n",
    "        boats = boats + 1\n",
    "    return boats"
   ]
  },
  {
   "cell_type": "markdown",
   "metadata": {},
   "source": [
    "To simulate a single day, I continuously called Numpy's random exponential function until the total of the time intervals equaled a day. Each call to the random exponential function represents 1 boat arrival so I added the number of boats each time I called the function."
   ]
  },
  {
   "cell_type": "markdown",
   "metadata": {},
   "source": [
    "**Part G**: Write a function boat_count_sim that takes as arguments the rate parameter $\\lambda$ with units boats per day and an integer number of days to simulate. Your function should use the function you wrote in **Part F** to simulate many independent days of boat crossings and estimate the probability that 15 boats or fewer cross under the bridge on a particular day. For $\\lambda = 20$, does your estimate agree with the by-hand computation you did in **Part C**?  \n",
    "\n",
    "**Note**: Do not change the API for this function.  "
   ]
  },
  {
   "cell_type": "code",
   "execution_count": 11,
   "metadata": {},
   "outputs": [
    {
     "data": {
      "text/plain": [
       "0.091"
      ]
     },
     "execution_count": 11,
     "metadata": {},
     "output_type": "execute_result"
    }
   ],
   "source": [
    "def boat_count_sim(lam, num_days=int(1e3)):\n",
    "    total = 0\n",
    "    less16 = 0\n",
    "    for i in range(num_days):\n",
    "        boats = boat_count(lam)\n",
    "        total = total + 1\n",
    "        if boats <= 15:\n",
    "            less16 = less16 + 1\n",
    "    return less16/total\n",
    "boat_count_sim(20)"
   ]
  },
  {
   "cell_type": "markdown",
   "metadata": {},
   "source": [
    "I counted up took the number of boats returned from each boat_count which represents the number of boats arrived in a day and added a counter if the boats were less than 16. Then I divided by the total number of days to get the probability. The estimate appears to be 0.05 different from my by-hand computation on average. I'm not completely sure why. My by-hand computation appears to be an upper-bound to the actual probability. I would guess that this is because I was calculating the probability that was steered lower than the given rate parameter which was 20 boats per day."
   ]
  },
  {
   "cell_type": "markdown",
   "metadata": {},
   "source": [
    "**Part H**: Write a function boat_time_sim that takes as arguments the rate parameter $\\lambda$ with units boats per day and an integer number of boat arrivals to simulate. Your function should sample boat arrivals via [np.random.exponential](https://docs.scipy.org/doc/numpy-1.13.0/reference/generated/numpy.random.exponential.html) and estimate the probability that boats arrive between 1 and 2 hours apart.  For $\\lambda = 20$, does your estimate agree with the by-hand computation you did in **Part D**?  \n",
    "\n",
    "**Note**: Do not change the API for this function.  \n"
   ]
  },
  {
   "cell_type": "code",
   "execution_count": 12,
   "metadata": {},
   "outputs": [
    {
     "data": {
      "text/plain": [
       "0.228"
      ]
     },
     "execution_count": 12,
     "metadata": {},
     "output_type": "execute_result"
    }
   ],
   "source": [
    "def boat_time_sim(lam, num_boats=int(1e3)): \n",
    "    total = 0\n",
    "    btwn1and2 = 0\n",
    "    for i in range(num_boats):\n",
    "        time_interval = np.random.exponential(1/lam)\n",
    "        total = total + 1\n",
    "        if (1/24) <= time_interval and time_interval <= (2/24):\n",
    "            btwn1and2 = btwn1and2 + 1\n",
    "    return btwn1and2/total\n",
    "boat_time_sim(20)"
   ]
  },
  {
   "cell_type": "markdown",
   "metadata": {},
   "source": [
    "This simulation strongly agrees with my by-hand computation from Part D. I believe this simulation is more accurate than the one from Part G because this range fits around the actual rate parameter. The rate parameter is 20/day which averages to 20/24 boats per hour. "
   ]
  },
  {
   "cell_type": "markdown",
   "metadata": {},
   "source": [
    "### [20 points] Problem 5 \n",
    "***\n",
    "\n",
    "You are the team manager for the CU intramural Quidditch team, the Boulder Beaters, and you've just made it to the national championship series against the Stanford Snitching Snitches. The typical Quidditch championship is a best of 11 series, so the first team to win 6 matches is declared the winner.  Furthermore, based on a rigorous statistical analysis of regular season play, the probability that the Boulder Beaters win any one match against the Snitching Snitches is given by $p = 0.55$.  \n",
    "\n",
    "**Part A**: What is the probability that you win the 11-game series on the 8th match played? \n"
   ]
  },
  {
   "cell_type": "markdown",
   "metadata": {
    "collapsed": true
   },
   "source": [
    "To win the series on the 8th match played means that I would have to win my 6th win on the 8th match. So, I have to have lost 2 of the 7 preceeding games. To find the probability of this happening, I can find 7 choose 2 to determine the different outcomes of losing in the first 7 games. We can multiply that by the probability of losing the two games and then the probability of winning 6 games. This is mathematically expressed below: \n",
    "\n",
    "$\\frac{7!}{5!2!}\\times(0.45)^2\\times(0.55)^6 = 0.11771192425$\n",
    "\n",
    "Therefore, the probability is 0.11771192425."
   ]
  },
  {
   "cell_type": "markdown",
   "metadata": {},
   "source": [
    "**Part B**: What is the probability that you win the 11-game series in any valid number of matches? "
   ]
  },
  {
   "cell_type": "markdown",
   "metadata": {
    "collapsed": true
   },
   "source": [
    "Similar to how we solved Part B, this time we have to find the probabilities of winning the series on the 6th match, then 7th, then 8th and on until 11th. No matter how long it takes us, we end when we win 6 games. So the rest of the preceeding games we lose. Therefore, to find the probability of winning the nth match, we can do (n-1) choose (n - 6) multiplied by the probability of winning the 6 games we need to win multiplied by the probablity of losing the games that we would need to lose for the probability of winning on the nth match. Adding the probabilities of all these distinct outcomes will give us the total probability of winning the 11-game series.\n",
    "\n",
    "Win on 6th match: $\\frac{5!}{5!0!}\\times(0.45)^0\\times(0.55)^6 = 0.02768064062$\n",
    "\n",
    "Win on 7th match: $\\frac{6!}{5!1!}\\times(0.45)^1\\times(0.55)^6 = 0.07473772968$\n",
    "\n",
    "Win on 8th match: $\\frac{7!}{5!2!}\\times(0.45)^2\\times(0.55)^6 = 0.11771192425$\n",
    "\n",
    "Win on 9th match: $\\frac{8!}{5!3!}\\times(0.45)^3\\times(0.55)^6 = 0.1412543091$\n",
    "\n",
    "Win on 10th match: $\\frac{9!}{5!4!}\\times(0.45)^4\\times(0.55)^6 = 0.14301998797$\n",
    "\n",
    "Win on 11th match: $\\frac{10!}{5!5!}\\times(0.45)^5\\times(0.55)^6 = 0.12871798917$\n",
    "\n",
    "Thus the probability of winning the 11-game series is $0.63312258079$.\n"
   ]
  },
  {
   "cell_type": "markdown",
   "metadata": {},
   "source": [
    "**Part C**: The winner of the champsionship will take home \\$10,000 to use for equipment and victory parties in the following season. Because the stakes are so high, you've decided to hire a famous Quidditch consultant, Bludger Bob, to help you prepare for each match. With Bob's help your probability of winning any given match increases to $p = 0.7$.  Bludger Bob charges a fee of \\$100 per game, but as a testament to his confidence in his abilities, only charges you the \\$100 for games that you win and only if you win the series.  So, if you play a 11-game series and win you will take home \\$10,000 less \\$600 for Bludger Bob's fees, for a total payout of \\$9,400.  What is the expected payout for an 11-game series?   "
   ]
  },
  {
   "cell_type": "markdown",
   "metadata": {
    "collapsed": true
   },
   "source": [
    "To win the 11-game series, no matter how the matches play out, I will always have to win 6 games. So, if I win I'm taking home \\$9400. However, if I lose, I go home with \\$0. So, I can find my expected payout by \\$9400 $\\times$ chance of winning series + \\$0 $\\times$ chance of losing. So we can find the expected payout by $9400 $\\times$ chance of winning.\n",
    "\n",
    "$9400\\times\\frac{5!}{5!0!}\\times(0.3)^0\\times(0.7)^6 = 9400\\times0.117649$\n",
    "\n",
    "$+$\n",
    "\n",
    "$9400\\times\\frac{6!}{5!1!}\\times(0.3)^1\\times(0.7)^6 = 9400\\times0.2117682$\n",
    "\n",
    "$+$\n",
    "\n",
    "$9400\\times\\frac{7!}{5!2!}\\times(0.3)^2\\times(0.7)^6 = 9400\\times0.22235661$\n",
    "\n",
    "$+$\n",
    "\n",
    "$9400\\times\\frac{8!}{5!3!}\\times(0.3)^3\\times(0.7)^6 = 9400\\times0.177885288$\n",
    "\n",
    "$+$\n",
    "\n",
    "$9400\\times\\frac{9!}{5!4!}\\times(0.3)^4\\times(0.7)^6 = 9400\\times0.1200725694$\n",
    "\n",
    "$+$\n",
    "\n",
    "$9400\\times\\frac{10!}{5!5!}\\times(0.3)^5\\times(0.7)^6 = 9400\\times0.07204354164$\n",
    "\n",
    "$=9400\\times0.92177520904 = 8664.68696498$\n",
    "\n",
    "Therefore, the expected payout for an 11-game series is $8664.68696498"
   ]
  },
  {
   "cell_type": "markdown",
   "metadata": {},
   "source": [
    "**Part D**: This year the National Intramural Quidditch Association (NIQA) is implementing an experimental rule.  As the team with the best record in the regular season you will get to choose the length of the championship series.  Specifically, you can choose the series length to be anywhere from $N=3, 5, 7, \\ldots, 99$ games long.  Assuming that you plan to use Bludger Bob's services and considering the fact that you have a better than even chance of winning each game, explain the trade-offs between choosing a short series vs. a long series in terms of Expected Payout. \n"
   ]
  },
  {
   "cell_type": "markdown",
   "metadata": {
    "collapsed": true
   },
   "source": [
    "The advantage of choosing a short series is that I don't have to pay Bob as much. Since the prize money for winning the series is flat 10000, I want to pay Bob as less as possible. However, I know that my chances of winning individual games is higher than 0.5. The longer the series, the better my outcomes will converge to that probability. So, I will have better chance of winning the series if I play a longer series."
   ]
  },
  {
   "cell_type": "markdown",
   "metadata": {},
   "source": [
    "**Part E**: Write a function optimal_series that takes in $p$, the probability that your team wins an individual game, then computes the Expected Payout for each series of length $N=3, 5, 7, \\ldots 99$ and returns the optimal series length.  In addition to returning the optimal series length, your function should also produce a plot of Expected Payout vs Series Length. You may write any additional helper functions that you like, but you should not change the API for the function optimal_series. "
   ]
  },
  {
   "cell_type": "code",
   "execution_count": 13,
   "metadata": {},
   "outputs": [
    {
     "data": {
      "image/png": "[encoded data removed]",
      "text/plain": [
       "<matplotlib.figure.Figure at 0x7f5410e253c8>"
      ]
     },
     "metadata": {},
     "output_type": "display_data"
    },
    {
     "name": "stdout",
     "output_type": "stream",
     "text": [
      "Optimal Series Length:15\n"
     ]
    }
   ],
   "source": [
    "def optimal_series(p):\n",
    "    series_length = []\n",
    "    expected_payout = []\n",
    "    for n in range(3, 100, 2):\n",
    "        series_length.append(n)\n",
    "        win_game = int(math.ceil(n/2))\n",
    "        win_prob = 0\n",
    "        cash = 10000 - win_game * 100\n",
    "        for i in range(n-win_game, n):\n",
    "            win_prob = win_prob + math.factorial(i)/(math.factorial(win_game-1)*math.factorial(i-(win_game-1)))*pow(p, win_game)*pow(1-p, i-(win_game-1))\n",
    "        expected_payout.append(win_prob*cash)\n",
    "    plt.bar(series_length, expected_payout, color = 'b')\n",
    "    plt.title(\"Expected Payout vs Series Length\")\n",
    "    plt.xlabel(\"Series Length # of Games\")\n",
    "    plt.ylabel(\"Expected Payout $\")\n",
    "    plt.show()\n",
    "    return series_length[expected_payout.index(max(expected_payout))]\n",
    "print(\"Optimal Series Length:\"+str(optimal_series(.7)))"
   ]
  },
  {
   "cell_type": "markdown",
   "metadata": {},
   "source": [
    "### Challenge Problem - Which Geyser Gushes First? \n",
    "***\n",
    "\n",
    "In every homework assignment we'll give you a Challenge Problem.  Challenge Problems never need to be turned in (and in fact, will not be graded) but we encourage you to give them a shot (after completing the required homework problems) and discuss them with your classmates and your instructors. \n",
    "\n",
    "The following Challenge Problem was a [Riddler](https://fivethirtyeight.com/tag/the-riddler/) on [FiveThirtyEight](https://fivethirtyeight.com) a few years back. \n",
    "\n",
    "You arrive at the beautiful Three Geysers National Park. You read a placard explaining that the three eponymous geysers — creatively named $A$, $B$ and $C$ — erupt at intervals of precisely two hours, four hours and six hours, respectively. However, you just got there, so you have no idea how the three eruptions are staggered. Assuming they each started erupting at some independently random point in history, what are the probabilities that A, B and C, respectively, will be the first to erupt after your arrival?\n"
   ]
  },
  {
   "cell_type": "code",
   "execution_count": null,
   "metadata": {
    "collapsed": true
   },
   "outputs": [],
   "source": []
  }
 ],
 "metadata": {
  "kernelspec": {
   "display_name": "Python 3",
   "language": "python",
   "name": "python3"
  },
  "language_info": {
   "codemirror_mode": {
    "name": "ipython",
    "version": 3
   },
   "file_extension": ".py",
   "mimetype": "text/x-python",
   "name": "python",
   "nbconvert_exporter": "python",
   "pygments_lexer": "ipython3",
   "version": "3.5.4"
  }
 },
 "nbformat": 4,
 "nbformat_minor": 2
}
